{
 "cells": [
  {
   "cell_type": "code",
   "execution_count": 31,
   "id": "697ce8c0",
   "metadata": {},
   "outputs": [
    {
     "data": {
      "application/vnd.jupyter.widget-view+json": {
       "model_id": "92ce9fc16a724875b9c01a2384701ec8",
       "version_major": 2,
       "version_minor": 0
      },
      "text/plain": [
       "tokenizer_config.json:   0%|          | 0.00/337 [00:00<?, ?B/s]"
      ]
     },
     "metadata": {},
     "output_type": "display_data"
    },
    {
     "data": {
      "application/vnd.jupyter.widget-view+json": {
       "model_id": "cfb5e8e005e14f8f9617d13109fdd87d",
       "version_major": 2,
       "version_minor": 0
      },
      "text/plain": [
       "source.spm:   0%|          | 0.00/820k [00:00<?, ?B/s]"
      ]
     },
     "metadata": {},
     "output_type": "display_data"
    },
    {
     "data": {
      "application/vnd.jupyter.widget-view+json": {
       "model_id": "0c243fb14699445e8c8e12c0bc580c49",
       "version_major": 2,
       "version_minor": 0
      },
      "text/plain": [
       "target.spm:   0%|          | 0.00/803k [00:00<?, ?B/s]"
      ]
     },
     "metadata": {},
     "output_type": "display_data"
    },
    {
     "data": {
      "application/vnd.jupyter.widget-view+json": {
       "model_id": "4166d3b7d57d469a85752386baec0b2d",
       "version_major": 2,
       "version_minor": 0
      },
      "text/plain": [
       "vocab.json:   0%|          | 0.00/1.34M [00:00<?, ?B/s]"
      ]
     },
     "metadata": {},
     "output_type": "display_data"
    },
    {
     "data": {
      "application/vnd.jupyter.widget-view+json": {
       "model_id": "417f2a0aa5524012b5c27029f9bc5451",
       "version_major": 2,
       "version_minor": 0
      },
      "text/plain": [
       "special_tokens_map.json:   0%|          | 0.00/65.0 [00:00<?, ?B/s]"
      ]
     },
     "metadata": {},
     "output_type": "display_data"
    },
    {
     "data": {
      "application/vnd.jupyter.widget-view+json": {
       "model_id": "361b51775f99461497f9545212a9a64d",
       "version_major": 2,
       "version_minor": 0
      },
      "text/plain": [
       "config.json:   0%|          | 0.00/1.14k [00:00<?, ?B/s]"
      ]
     },
     "metadata": {},
     "output_type": "display_data"
    },
    {
     "data": {
      "application/vnd.jupyter.widget-view+json": {
       "model_id": "9c1b61e7b7f248549777fb35e24b2e80",
       "version_major": 2,
       "version_minor": 0
      },
      "text/plain": [
       "pytorch_model.bin:   0%|          | 0.00/576M [00:00<?, ?B/s]"
      ]
     },
     "metadata": {},
     "output_type": "display_data"
    },
    {
     "data": {
      "application/vnd.jupyter.widget-view+json": {
       "model_id": "a02c797c0acb40a6928ee1520604c178",
       "version_major": 2,
       "version_minor": 0
      },
      "text/plain": [
       "generation_config.json:   0%|          | 0.00/301 [00:00<?, ?B/s]"
      ]
     },
     "metadata": {},
     "output_type": "display_data"
    }
   ],
   "source": [
    "from transformers import AutoTokenizer, AutoModelForSeq2SeqLM\n",
    "\n",
    "tokenizer = AutoTokenizer.from_pretrained(\"Helsinki-NLP/opus-mt-tc-big-it-en\")\n",
    "model = AutoModelForSeq2SeqLM.from_pretrained(\"Helsinki-NLP/opus-mt-tc-big-it-en\")\n"
   ]
  },
  {
   "cell_type": "code",
   "execution_count": 67,
   "id": "3034e4eb",
   "metadata": {},
   "outputs": [
    {
     "name": "stdout",
     "output_type": "stream",
     "text": [
      "['Boy eats rice']\n"
     ]
    }
   ],
   "source": [
    "# Greedy search\n",
    "src_sentence = \"Il ragazzo mangia il riso\"\n",
    "\n",
    "input_ids = tokenizer(src_sentence, return_tensors=\"pt\").input_ids\n",
    "\n",
    "outputs = model.generate(\n",
    "    input_ids,\n",
    "    do_sample = False,\n",
    "    no_repeat_ngram_size=1,\n",
    "    remove_invalid_values=True,\n",
    ")\n",
    "print([tokenizer.decode(i, skip_special_tokens=True) for i in outputs])"
   ]
  },
  {
   "cell_type": "code",
   "execution_count": 62,
   "id": "80339d8f",
   "metadata": {},
   "outputs": [
    {
     "name": "stdout",
     "output_type": "stream",
     "text": [
      "['The boy eats rice, the kid.']\n",
      "['The Boy Eats the Rice.']\n",
      "['Boy eats rice.']\n",
      "['The boy eats the rice.']\n"
     ]
    }
   ],
   "source": [
    "# top-k sampling\n",
    "src_sentence = \"Il ragazzo mangia il riso\"\n",
    "\n",
    "input_ids = tokenizer(src_sentence, return_tensors=\"pt\").input_ids\n",
    "\n",
    "for i in range(0, 4):\n",
    "    outputs = model.generate(\n",
    "    input_ids,\n",
    "    do_sample = True,\n",
    "    top_k = 6,\n",
    "    no_repeat_ngram_size=1,\n",
    "    remove_invalid_values=True,\n",
    ")\n",
    "    print([tokenizer.decode(i, skip_special_tokens=True) for i in outputs])"
   ]
  },
  {
   "cell_type": "code",
   "execution_count": 74,
   "id": "828394bb",
   "metadata": {},
   "outputs": [
    {
     "name": "stdout",
     "output_type": "stream",
     "text": [
      "['The boy eats the rice.']\n",
      "['The boy eats the rice.']\n",
      "['Boy eats rice.']\n",
      "['The boy eats the rice.']\n"
     ]
    }
   ],
   "source": [
    "# p sampling\n",
    "src_sentence = \"Il ragazzo mangia il riso\"\n",
    "\n",
    "input_ids = tokenizer(src_sentence, return_tensors=\"pt\").input_ids\n",
    "\n",
    "for i in range(0, 4):\n",
    "    outputs = model.generate(\n",
    "    input_ids,\n",
    "    do_sample = True,\n",
    "    top_p = 0.7,\n",
    "    no_repeat_ngram_size=1,\n",
    "    remove_invalid_values=True,\n",
    ")\n",
    "    print([tokenizer.decode(i, skip_special_tokens=True) for i in outputs])"
   ]
  },
  {
   "cell_type": "code",
   "execution_count": 68,
   "id": "0537557a",
   "metadata": {},
   "outputs": [],
   "source": [
    "# beam search\n",
    "src_sentence = \"Il ragazzo mangia il riso\"\n",
    "\n",
    "input_ids = tokenizer(src_sentence, return_tensors=\"pt\").input_ids\n",
    "\n",
    "outputs = model.generate(\n",
    "    input_ids,\n",
    "    num_beams=10,\n",
    "    num_return_sequences=3,\n",
    "    no_repeat_ngram_size=1,\n",
    "    remove_invalid_values=True,\n",
    ")\n",
    "\n",
    "# Think: Can multiple outputs be used for paraphrasing? Generating dummy data, etc.?"
   ]
  },
  {
   "cell_type": "code",
   "execution_count": 69,
   "id": "2275e01c",
   "metadata": {},
   "outputs": [
    {
     "name": "stdout",
     "output_type": "stream",
     "text": [
      "['Boy eats rice', 'Boy Eats Rice', 'Kid eats rice']\n"
     ]
    }
   ],
   "source": [
    "print([tokenizer.decode(i, skip_special_tokens=True) for i in outputs])"
   ]
  }
 ],
 "metadata": {
  "kernelspec": {
   "display_name": "Python 3 (ipykernel)",
   "language": "python",
   "name": "python3"
  },
  "language_info": {
   "codemirror_mode": {
    "name": "ipython",
    "version": 3
   },
   "file_extension": ".py",
   "mimetype": "text/x-python",
   "name": "python",
   "nbconvert_exporter": "python",
   "pygments_lexer": "ipython3",
   "version": "3.11.4"
  }
 },
 "nbformat": 4,
 "nbformat_minor": 5
}
