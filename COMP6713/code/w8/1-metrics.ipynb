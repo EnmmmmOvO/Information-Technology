{
 "cells": [
  {
   "cell_type": "code",
   "execution_count": 1,
   "id": "7aed0e1b",
   "metadata": {},
   "outputs": [],
   "source": [
    "from nltk.translate import bleu_score\n",
    "\n",
    "reference1 = \"The cat is out of the bag\"\n",
    "reference2 = \"The cat is outside the bag\"\n"
   ]
  },
  {
   "cell_type": "code",
   "execution_count": 2,
   "id": "9dcad59b",
   "metadata": {},
   "outputs": [
    {
     "name": "stdout",
     "output_type": "stream",
     "text": [
      "7.262123179505913e-78\n"
     ]
    },
    {
     "name": "stderr",
     "output_type": "stream",
     "text": [
      "/Users/z3539958/anaconda3/lib/python3.11/site-packages/nltk/translate/bleu_score.py:552: UserWarning: \n",
      "The hypothesis contains 0 counts of 4-gram overlaps.\n",
      "Therefore the BLEU score evaluates to 0, independently of\n",
      "how many N-gram overlaps of lower order it contains.\n",
      "Consider using lower n-gram order or use SmoothingFunction()\n",
      "  warnings.warn(_msg)\n"
     ]
    }
   ],
   "source": [
    "candidate = \"The cat is in the bag\"\n",
    "\n",
    "BLEUscore = bleu_score.sentence_bleu([reference1.split(), reference2.split()], candidate.split())\n",
    "print(BLEUscore)"
   ]
  },
  {
   "cell_type": "code",
   "execution_count": 3,
   "id": "107dde56",
   "metadata": {},
   "outputs": [],
   "source": [
    "from rouge_score import rouge_scorer\n",
    "\n",
    "scorer = rouge_scorer.RougeScorer(['rouge1', 'rougeL'], use_stemmer=True)\n",
    "scores = scorer.score(reference1, candidate)"
   ]
  },
  {
   "cell_type": "code",
   "execution_count": 4,
   "id": "e4d97f43",
   "metadata": {},
   "outputs": [
    {
     "data": {
      "text/plain": [
       "{'rouge1': Score(precision=0.8333333333333334, recall=0.7142857142857143, fmeasure=0.7692307692307692),\n",
       " 'rougeL': Score(precision=0.8333333333333334, recall=0.7142857142857143, fmeasure=0.7692307692307692)}"
      ]
     },
     "execution_count": 4,
     "metadata": {},
     "output_type": "execute_result"
    }
   ],
   "source": [
    "scores"
   ]
  },
  {
   "cell_type": "code",
   "execution_count": 5,
   "id": "932f0c5f",
   "metadata": {},
   "outputs": [],
   "source": [
    "from bleurt import score\n"
   ]
  },
  {
   "cell_type": "code",
   "execution_count": 7,
   "id": "1bd29571",
   "metadata": {},
   "outputs": [
    {
     "name": "stdout",
     "output_type": "stream",
     "text": [
      "[0.4304013252258301]\n"
     ]
    }
   ],
   "source": [
    "\n",
    "scorer = score.BleurtScorer()\n",
    "scores = scorer.score(references=[reference1], candidates=[candidate])\n",
    "assert isinstance(scores, list) and len(scores) == 1\n",
    "print(scores)"
   ]
  },
  {
   "cell_type": "code",
   "execution_count": null,
   "id": "1b5fb4af",
   "metadata": {},
   "outputs": [],
   "source": []
  }
 ],
 "metadata": {
  "kernelspec": {
   "display_name": "Python 3 (ipykernel)",
   "language": "python",
   "name": "python3"
  },
  "language_info": {
   "codemirror_mode": {
    "name": "ipython",
    "version": 3
   },
   "file_extension": ".py",
   "mimetype": "text/x-python",
   "name": "python",
   "nbconvert_exporter": "python",
   "pygments_lexer": "ipython3",
   "version": "3.11.4"
  }
 },
 "nbformat": 4,
 "nbformat_minor": 5
}
