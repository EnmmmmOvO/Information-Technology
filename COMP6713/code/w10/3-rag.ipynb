{
 "cells": [
  {
   "cell_type": "code",
   "execution_count": 1,
   "id": "a38e8ff6",
   "metadata": {
    "scrolled": false
   },
   "outputs": [],
   "source": [
    "!pip install --upgrade --quiet  langchain langchain-openai faiss-cpu tiktoken"
   ]
  },
  {
   "cell_type": "code",
   "execution_count": 2,
   "id": "aa1290cf",
   "metadata": {},
   "outputs": [],
   "source": [
    "!pip install --upgrade --quiet sqlalchemy chromadb"
   ]
  },
  {
   "cell_type": "code",
   "execution_count": 3,
   "id": "30f9e545",
   "metadata": {},
   "outputs": [],
   "source": [
    "for line in open('openai_key', 'r'):\n",
    "    key = line.strip()"
   ]
  },
  {
   "cell_type": "code",
   "execution_count": 9,
   "id": "e7b83245",
   "metadata": {},
   "outputs": [],
   "source": [
    "from langchain_core.prompts import ChatPromptTemplate\n",
    "from langchain_openai import ChatOpenAI\n"
   ]
  },
  {
   "cell_type": "code",
   "execution_count": 18,
   "id": "95426ebe",
   "metadata": {},
   "outputs": [],
   "source": [
    "from operator import itemgetter\n",
    "\n",
    "from langchain_community.vectorstores import FAISS\n",
    "from langchain_core.output_parsers import StrOutputParser\n",
    "from langchain_core.prompts import ChatPromptTemplate\n",
    "from langchain_core.runnables import RunnableLambda, RunnablePassthrough\n",
    "from langchain_openai import ChatOpenAI, OpenAIEmbeddings"
   ]
  },
  {
   "cell_type": "code",
   "execution_count": 10,
   "id": "ad9ddaa9",
   "metadata": {},
   "outputs": [],
   "source": [
    "from langchain_community.document_loaders.csv_loader import CSVLoader\n",
    "\n",
    "\n",
    "loader = CSVLoader(file_path='./teams2.csv')\n",
    "data = loader.load()"
   ]
  },
  {
   "cell_type": "code",
   "execution_count": 13,
   "id": "5cc1b456",
   "metadata": {},
   "outputs": [
    {
     "data": {
      "text/plain": [
       "\"'Sentient Sentences' is working on developing a language model trained on a diverse range of text data to generate more intelligent and contextually relevant sentences.\""
      ]
     },
     "execution_count": 13,
     "metadata": {},
     "output_type": "execute_result"
    }
   ],
   "source": [
    "\n",
    "prompt = ChatPromptTemplate.from_template(\"Which project is 'Sentient Sentences' working on?\")\n",
    "model = ChatOpenAI(openai_api_key = key)\n",
    "chain = prompt | model\n",
    "\n",
    "result = chain.invoke({})\n",
    "result.content"
   ]
  },
  {
   "cell_type": "code",
   "execution_count": 14,
   "id": "ab27927b",
   "metadata": {},
   "outputs": [
    {
     "data": {
      "text/plain": [
       "'Tingyu Shi is currently working on the project \"Development of Machine Learning Algorithms for Predictive Modeling in Healthcare\".'"
      ]
     },
     "execution_count": 14,
     "metadata": {},
     "output_type": "execute_result"
    }
   ],
   "source": [
    "\n",
    "prompt = ChatPromptTemplate.from_template(\"Which project is Tingyu Shi working on?\")\n",
    "model = ChatOpenAI(openai_api_key = key)\n",
    "chain = prompt | model\n",
    "\n",
    "result = chain.invoke({})\n",
    "result.content"
   ]
  },
  {
   "cell_type": "code",
   "execution_count": 15,
   "id": "a7f2e6fd",
   "metadata": {},
   "outputs": [],
   "source": [
    "import pandas as pd\n",
    "\n",
    "df = pd.read_csv(\"teams2.csv\")"
   ]
  },
  {
   "cell_type": "code",
   "execution_count": 16,
   "id": "c2eb9fc4",
   "metadata": {},
   "outputs": [
    {
     "data": {
      "text/html": [
       "<div>\n",
       "<style scoped>\n",
       "    .dataframe tbody tr th:only-of-type {\n",
       "        vertical-align: middle;\n",
       "    }\n",
       "\n",
       "    .dataframe tbody tr th {\n",
       "        vertical-align: top;\n",
       "    }\n",
       "\n",
       "    .dataframe thead th {\n",
       "        text-align: right;\n",
       "    }\n",
       "</style>\n",
       "<table border=\"1\" class=\"dataframe\">\n",
       "  <thead>\n",
       "    <tr style=\"text-align: right;\">\n",
       "      <th></th>\n",
       "      <th>Contact Name</th>\n",
       "      <th>Project Title</th>\n",
       "      <th>Team Name</th>\n",
       "      <th>Mentor</th>\n",
       "    </tr>\n",
       "  </thead>\n",
       "  <tbody>\n",
       "    <tr>\n",
       "      <th>0</th>\n",
       "      <td>Jamie Conlon</td>\n",
       "      <td>English - French Machine Translation</td>\n",
       "      <td>Merge Conflict</td>\n",
       "      <td>Lihua</td>\n",
       "    </tr>\n",
       "    <tr>\n",
       "      <th>1</th>\n",
       "      <td>Humza Saeed</td>\n",
       "      <td>Sentiment Analysis of Steam reviews</td>\n",
       "      <td>\"As an AI model</td>\n",
       "      <td>I am not able to generate a cool group name ...</td>\n",
       "    </tr>\n",
       "    <tr>\n",
       "      <th>2</th>\n",
       "      <td>Gerald Huang</td>\n",
       "      <td>Transforming Research Abstracts into Click-Wo...</td>\n",
       "      <td>Pre-trained Monkeys</td>\n",
       "      <td>Saurav</td>\n",
       "    </tr>\n",
       "    <tr>\n",
       "      <th>3</th>\n",
       "      <td>Tingyu Shi</td>\n",
       "      <td>Summarization and QA</td>\n",
       "      <td>chatOMG</td>\n",
       "      <td>Lihua</td>\n",
       "    </tr>\n",
       "    <tr>\n",
       "      <th>4</th>\n",
       "      <td>Li Mo</td>\n",
       "      <td>LLM Prompt Recovery</td>\n",
       "      <td>Language Alchemists</td>\n",
       "      <td>Xiangyu</td>\n",
       "    </tr>\n",
       "    <tr>\n",
       "      <th>5</th>\n",
       "      <td>Tan Hugh</td>\n",
       "      <td>Natural Language Logical Reasoning</td>\n",
       "      <td>ClosedAI</td>\n",
       "      <td>Saurav</td>\n",
       "    </tr>\n",
       "    <tr>\n",
       "      <th>6</th>\n",
       "      <td>Quoc Pham</td>\n",
       "      <td>Chatbot like tutor tailored for University co...</td>\n",
       "      <td>Sentient Sentences</td>\n",
       "      <td>Lihua</td>\n",
       "    </tr>\n",
       "    <tr>\n",
       "      <th>7</th>\n",
       "      <td>Rifa Jamal</td>\n",
       "      <td>UniPal</td>\n",
       "      <td>Natural Language Professionals</td>\n",
       "      <td>Xiangyu</td>\n",
       "    </tr>\n",
       "    <tr>\n",
       "      <th>8</th>\n",
       "      <td>Evan Li</td>\n",
       "      <td>Clinical Trial Report Statements Inference</td>\n",
       "      <td>Autoencoders Roll Out</td>\n",
       "      <td>Saurav</td>\n",
       "    </tr>\n",
       "    <tr>\n",
       "      <th>9</th>\n",
       "      <td>Vincent Morcilla</td>\n",
       "      <td>Medical Chatbot based on Llama2-Chat-13b</td>\n",
       "      <td>MedBot</td>\n",
       "      <td>Lihua</td>\n",
       "    </tr>\n",
       "    <tr>\n",
       "      <th>10</th>\n",
       "      <td>Priyal Jain</td>\n",
       "      <td>Leveraging Sentiment Analysis for Market Tren...</td>\n",
       "      <td>Stock Whisperers</td>\n",
       "      <td>Xiangyu</td>\n",
       "    </tr>\n",
       "    <tr>\n",
       "      <th>11</th>\n",
       "      <td>Kazi Hasan</td>\n",
       "      <td>Text Summarisation for a Domain (Undecided)</td>\n",
       "      <td>Token Thinkers</td>\n",
       "      <td>Saurav</td>\n",
       "    </tr>\n",
       "    <tr>\n",
       "      <th>12</th>\n",
       "      <td>Zhi Liu</td>\n",
       "      <td>Interactive Learning with LLMs: Enhancing Mod...</td>\n",
       "      <td>DialogDynamos</td>\n",
       "      <td>Lihua</td>\n",
       "    </tr>\n",
       "    <tr>\n",
       "      <th>13</th>\n",
       "      <td>Vishnu Birudavolu</td>\n",
       "      <td>Detecting Fake Job Postings</td>\n",
       "      <td>NLP: Ninja Llamas Programming</td>\n",
       "      <td>Xiangyu</td>\n",
       "    </tr>\n",
       "    <tr>\n",
       "      <th>14</th>\n",
       "      <td>None</td>\n",
       "      <td>TBC</td>\n",
       "      <td>Team X</td>\n",
       "      <td>Saurav</td>\n",
       "    </tr>\n",
       "    <tr>\n",
       "      <th>15</th>\n",
       "      <td>None</td>\n",
       "      <td>TBC</td>\n",
       "      <td>Team Z</td>\n",
       "      <td>Lihua</td>\n",
       "    </tr>\n",
       "  </tbody>\n",
       "</table>\n",
       "</div>"
      ],
      "text/plain": [
       "         Contact Name                                      Project Title   \\\n",
       "0        Jamie Conlon               English - French Machine Translation    \n",
       "1         Humza Saeed                Sentiment Analysis of Steam reviews    \n",
       "2        Gerald Huang    Transforming Research Abstracts into Click-Wo...   \n",
       "3          Tingyu Shi                              Summarization and QA     \n",
       "4               Li Mo                                LLM Prompt Recovery    \n",
       "5            Tan Hugh                 Natural Language Logical Reasoning    \n",
       "6           Quoc Pham    Chatbot like tutor tailored for University co...   \n",
       "7          Rifa Jamal                                             UniPal    \n",
       "8             Evan Li         Clinical Trial Report Statements Inference    \n",
       "9    Vincent Morcilla           Medical Chatbot based on Llama2-Chat-13b    \n",
       "10        Priyal Jain    Leveraging Sentiment Analysis for Market Tren...   \n",
       "11         Kazi Hasan        Text Summarisation for a Domain (Undecided)    \n",
       "12            Zhi Liu    Interactive Learning with LLMs: Enhancing Mod...   \n",
       "13  Vishnu Birudavolu                        Detecting Fake Job Postings    \n",
       "14               None                                                TBC    \n",
       "15               None                                                TBC    \n",
       "\n",
       "                          Team Name   \\\n",
       "0                    Merge Conflict    \n",
       "1                   \"As an AI model    \n",
       "2               Pre-trained Monkeys    \n",
       "3                           chatOMG    \n",
       "4               Language Alchemists    \n",
       "5                          ClosedAI    \n",
       "6               Sentient Sentences     \n",
       "7    Natural Language Professionals    \n",
       "8             Autoencoders Roll Out    \n",
       "9                            MedBot    \n",
       "10                 Stock Whisperers    \n",
       "11                   Token Thinkers    \n",
       "12                    DialogDynamos    \n",
       "13    NLP: Ninja Llamas Programming    \n",
       "14                           Team X    \n",
       "15                           Team Z    \n",
       "\n",
       "                                               Mentor  \n",
       "0                                               Lihua  \n",
       "1     I am not able to generate a cool group name ...  \n",
       "2                                              Saurav  \n",
       "3                                               Lihua  \n",
       "4                                             Xiangyu  \n",
       "5                                              Saurav  \n",
       "6                                               Lihua  \n",
       "7                                             Xiangyu  \n",
       "8                                              Saurav  \n",
       "9                                               Lihua  \n",
       "10                                            Xiangyu  \n",
       "11                                             Saurav  \n",
       "12                                              Lihua  \n",
       "13                                            Xiangyu  \n",
       "14                                             Saurav  \n",
       "15                                              Lihua  "
      ]
     },
     "execution_count": 16,
     "metadata": {},
     "output_type": "execute_result"
    }
   ],
   "source": [
    "df"
   ]
  },
  {
   "cell_type": "code",
   "execution_count": 19,
   "id": "e7193791",
   "metadata": {},
   "outputs": [],
   "source": [
    "from langchain.vectorstores import Chroma\n",
    "embedding_function = OpenAIEmbeddings(openai_api_key = key)\n",
    "db = Chroma.from_documents(data, embedding_function)"
   ]
  },
  {
   "cell_type": "code",
   "execution_count": 20,
   "id": "b948a717",
   "metadata": {},
   "outputs": [],
   "source": [
    "retriever = db.as_retriever()"
   ]
  },
  {
   "cell_type": "code",
   "execution_count": 21,
   "id": "86465b16",
   "metadata": {},
   "outputs": [],
   "source": [
    "template = \"\"\"Answer the question based only on the following context:\n",
    "{context}\n",
    "\n",
    "Question: {question}\n",
    "\"\"\"\n",
    "\n",
    "prompt = ChatPromptTemplate.from_template(template)\n",
    "\n",
    "model = ChatOpenAI(openai_api_key = key)"
   ]
  },
  {
   "cell_type": "code",
   "execution_count": 22,
   "id": "df7969a5",
   "metadata": {},
   "outputs": [],
   "source": [
    "chain = (\n",
    "    {\"context\": itemgetter(\"question\") | retriever, \"question\": itemgetter(\"question\")}\n",
    "    | prompt\n",
    "    | model\n",
    "    | StrOutputParser()\n",
    ")"
   ]
  },
  {
   "cell_type": "code",
   "execution_count": 23,
   "id": "5e183462",
   "metadata": {},
   "outputs": [
    {
     "data": {
      "text/plain": [
       "\"The project 'Sentient Sentences' is working on is a Chatbot like tutor tailored for University courses.\""
      ]
     },
     "execution_count": 23,
     "metadata": {},
     "output_type": "execute_result"
    }
   ],
   "source": [
    "chain.invoke({\"question\": \"Which project is 'Sentient Sentences' working on?\"})"
   ]
  },
  {
   "cell_type": "code",
   "execution_count": 24,
   "id": "10992246",
   "metadata": {},
   "outputs": [
    {
     "data": {
      "text/plain": [
       "'Tingyu Shi is working on the project titled \"Summarization and QA\" with the team named \"chatOMG\".'"
      ]
     },
     "execution_count": 24,
     "metadata": {},
     "output_type": "execute_result"
    }
   ],
   "source": [
    "chain.invoke({\"question\": \"Which project is Tingyu Shi working on?\"})"
   ]
  },
  {
   "cell_type": "code",
   "execution_count": 25,
   "id": "45595fb1",
   "metadata": {},
   "outputs": [
    {
     "data": {
      "text/plain": [
       "'Lihua is mentoring 2 teams in total.'"
      ]
     },
     "execution_count": 25,
     "metadata": {},
     "output_type": "execute_result"
    }
   ],
   "source": [
    "chain.invoke({\"question\": \"How many teams in total is Lihua mentoring?\"}) # Not Correct"
   ]
  },
  {
   "cell_type": "code",
   "execution_count": 27,
   "id": "2de89bc4",
   "metadata": {},
   "outputs": [
    {
     "data": {
      "text/plain": [
       "'1. Project Title: Medical Chatbot based on Llama2-Chat-13b\\n2. Project Title: Clinical Trial Report Statements Inference'"
      ]
     },
     "execution_count": 27,
     "metadata": {},
     "output_type": "execute_result"
    }
   ],
   "source": [
    "chain.invoke({\"question\": \"What are the project titles involving medical or similar data?\"})"
   ]
  },
  {
   "cell_type": "code",
   "execution_count": 103,
   "id": "b60de9d5",
   "metadata": {},
   "outputs": [
    {
     "data": {
      "text/plain": [
       "'Saurav and Lihua'"
      ]
     },
     "execution_count": 103,
     "metadata": {},
     "output_type": "execute_result"
    }
   ],
   "source": [
    "chain.invoke({\"question\": \"What are the names of the mentors?\"})"
   ]
  },
  {
   "cell_type": "code",
   "execution_count": 104,
   "id": "d40a2cee",
   "metadata": {},
   "outputs": [
    {
     "data": {
      "text/plain": [
       "'The names of the three mentors are Saurav, Lihua, and Lihua.'"
      ]
     },
     "execution_count": 104,
     "metadata": {},
     "output_type": "execute_result"
    }
   ],
   "source": [
    "chain.invoke({\"question\": \"What are the names of the three mentors?\"})"
   ]
  },
  {
   "cell_type": "code",
   "execution_count": 105,
   "id": "05bb3f7b",
   "metadata": {},
   "outputs": [],
   "source": [
    "# See more loaders here: https://python.langchain.com/docs/modules/data_connection/document_loaders/"
   ]
  },
  {
   "cell_type": "code",
   "execution_count": null,
   "id": "d08bc23d",
   "metadata": {},
   "outputs": [],
   "source": []
  }
 ],
 "metadata": {
  "kernelspec": {
   "display_name": "Python 3 (ipykernel)",
   "language": "python",
   "name": "python3"
  },
  "language_info": {
   "codemirror_mode": {
    "name": "ipython",
    "version": 3
   },
   "file_extension": ".py",
   "mimetype": "text/x-python",
   "name": "python",
   "nbconvert_exporter": "python",
   "pygments_lexer": "ipython3",
   "version": "3.11.4"
  }
 },
 "nbformat": 4,
 "nbformat_minor": 5
}
