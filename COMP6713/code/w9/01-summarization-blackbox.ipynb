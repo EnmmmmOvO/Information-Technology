{
 "cells": [
  {
   "cell_type": "code",
   "execution_count": null,
   "metadata": {
    "id": "JzyMpBWrAsrE"
   },
   "outputs": [],
   "source": [
    "# https://github.com/JohnSnowLabs/spark-nlp-workshop/blob/master/tutorials/streamlit_notebooks/T5TRANSFORMER.ipynb\n",
    "# SparkNLP: Jon Snow Labs\n",
    "# Apache Spark and SparkML"
   ]
  },
  {
   "cell_type": "code",
   "execution_count": 1,
   "metadata": {
    "colab": {
     "base_uri": "https://localhost:8080/"
    },
    "id": "CmKmrWRRAoil",
    "outputId": "d058c39e-26b1-4aad-b4da-e65f853d6630"
   },
   "outputs": [
    {
     "name": "stdout",
     "output_type": "stream",
     "text": [
      "\u001b[2K     \u001b[90m━━━━━━━━━━━━━━━━━━━━━━━━━━━━━━━━━━━━━━━━\u001b[0m \u001b[32m212.4/212.4 MB\u001b[0m \u001b[31m5.8 MB/s\u001b[0m eta \u001b[36m0:00:00\u001b[0m\n",
      "\u001b[?25h  Preparing metadata (setup.py) ... \u001b[?25l\u001b[?25hdone\n",
      "\u001b[2K     \u001b[90m━━━━━━━━━━━━━━━━━━━━━━━━━━━━━━━━━━━━━━━━\u001b[0m \u001b[32m453.8/453.8 kB\u001b[0m \u001b[31m44.6 MB/s\u001b[0m eta \u001b[36m0:00:00\u001b[0m\n",
      "\u001b[2K     \u001b[90m━━━━━━━━━━━━━━━━━━━━━━━━━━━━━━━━━━━━━━━━\u001b[0m \u001b[32m198.6/198.6 kB\u001b[0m \u001b[31m28.7 MB/s\u001b[0m eta \u001b[36m0:00:00\u001b[0m\n",
      "\u001b[?25h  Building wheel for pyspark (setup.py) ... \u001b[?25l\u001b[?25hdone\n"
     ]
    }
   ],
   "source": [
    "! pip install -q pyspark==3.1.2 spark-nlp==4.2.8"
   ]
  },
  {
   "cell_type": "code",
   "execution_count": 2,
   "metadata": {
    "id": "c1T5uHbVA2Rz"
   },
   "outputs": [],
   "source": [
    "import pandas as pd\n",
    "import numpy as np\n",
    "import json\n",
    "\n",
    "from pyspark.ml import Pipeline\n",
    "from pyspark.sql import SparkSession\n",
    "import pyspark.sql.functions as F\n",
    "\n",
    "import sparknlp\n",
    "from sparknlp.annotator import *\n",
    "from sparknlp.base import *\n",
    "from sparknlp.pretrained import PretrainedPipeline\n",
    "from pyspark.sql.types import StringType, IntegerType"
   ]
  },
  {
   "cell_type": "code",
   "execution_count": 4,
   "metadata": {
    "colab": {
     "base_uri": "https://localhost:8080/",
     "height": 238
    },
    "id": "JIOf8LILBKAp",
    "outputId": "fb593a4c-1257-4d43-af9b-e7e0d322962d"
   },
   "outputs": [
    {
     "name": "stdout",
     "output_type": "stream",
     "text": [
      "Spark NLP Version : 4.2.8\n"
     ]
    },
    {
     "data": {
      "text/html": [
       "\n",
       "            <div>\n",
       "                <p><b>SparkSession - in-memory</b></p>\n",
       "                \n",
       "        <div>\n",
       "            <p><b>SparkContext</b></p>\n",
       "\n",
       "            <p><a href=\"http://56f1f326b2a8:4040\">Spark UI</a></p>\n",
       "\n",
       "            <dl>\n",
       "              <dt>Version</dt>\n",
       "                <dd><code>v3.1.2</code></dd>\n",
       "              <dt>Master</dt>\n",
       "                <dd><code>local[*]</code></dd>\n",
       "              <dt>AppName</dt>\n",
       "                <dd><code>Spark NLP</code></dd>\n",
       "            </dl>\n",
       "        </div>\n",
       "        \n",
       "            </div>\n",
       "        "
      ],
      "text/plain": [
       "<pyspark.sql.session.SparkSession at 0x7b094999fd90>"
      ]
     },
     "execution_count": 4,
     "metadata": {},
     "output_type": "execute_result"
    }
   ],
   "source": [
    "spark = sparknlp.start()\n",
    "print (\"Spark NLP Version :\", sparknlp.version())\n",
    "spark"
   ]
  },
  {
   "cell_type": "code",
   "execution_count": 6,
   "metadata": {
    "id": "eh3iIsqfBFQS"
   },
   "outputs": [],
   "source": [
    "document_assembler = DocumentAssembler()\\\n",
    ".setInputCol(\"text\")\\\n",
    ".setOutputCol(\"documents\")\n"
   ]
  },
  {
   "cell_type": "code",
   "execution_count": 7,
   "metadata": {
    "colab": {
     "base_uri": "https://localhost:8080/"
    },
    "id": "7b0EwCSkBbFU",
    "outputId": "5a2f2519-751a-4e29-cbc4-ea778034be5b"
   },
   "outputs": [
    {
     "name": "stdout",
     "output_type": "stream",
     "text": [
      "t5_small download started this may take some time.\n",
      "Approximate size to download 141.1 MB\n",
      "[OK!]\n"
     ]
    }
   ],
   "source": [
    "\n",
    "t5 = T5Transformer() \\\n",
    "  .pretrained(\"t5_small\", 'en') \\\n",
    "  .setTask(\"summarize:\")\\\n",
    "  .setMaxOutputLength(200)\\\n",
    "  .setInputCols([\"documents\"]) \\\n",
    "  .setOutputCol(\"summaries\")\n",
    "\n",
    "summarizer_pp = Pipeline(stages=[\n",
    "    document_assembler, t5\n",
    "])"
   ]
  },
  {
   "cell_type": "code",
   "execution_count": 8,
   "metadata": {
    "colab": {
     "base_uri": "https://localhost:8080/"
    },
    "id": "rinOiOcdBlzN",
    "outputId": "9775e24d-6330-4f39-db8b-777743ad27fd"
   },
   "outputs": [
    {
     "name": "stdout",
     "output_type": "stream",
     "text": [
      "Before _validateStagesInputCols\n",
      "Summary: noosa air began operating in 1975 using a Britten-Norman Islander . the company's roots extend back to 1975, when noosa air began operating in 1981 . the company's first airline was called Sunstate Airlines .\n"
     ]
    }
   ],
   "source": [
    "empty_df = spark.createDataFrame([['']]).toDF('text')\n",
    "pipeline_model = summarizer_pp.fit(empty_df)\n",
    "sum_lmodel = LightPipeline(pipeline_model)\n",
    "\n",
    "example_txt = \"\"\"\n",
    "\n",
    "The company's roots extend back to 1975, when Noosa Air began operating in December of that year between Maroochydore and Brisbane using a Britten-Norman Islander.[2] Maryborough businessman Bevan Whitaker,[3] owner of the parent company of Noosa Air, Whitaker Pty Ltd, set up a second airline that commenced operations in December 1981, serving intrastate routes in Queensland vacated by Trans Australia Airlines (TAA) with Embraer EMB 110 Bandeirante aircraft. This second airline was called Sunstate Airlines.\n",
    "\n",
    "Initially the two airlines used separate airline codes. In 1983, Sunstate changed its code to that of Noosa Air,[2] and by the end of the year, the two airlines had merged fully. From 1 January 1984, all flights were conducted under the Sunstate name as part of TAA's Queensland network.[4] The diverse, combined fleet consisted of two Islanders, two Bandeirantes, three de Havilland Canada DHC-6 Twin Otters and a Short 330. Within a few months, the Islanders and the Short 330 were replaced by a GAF N.24A Nomad and a Short 360,[4] with the Islanders going to associated company Whitaker Air Services.[5]\n",
    "\n",
    "In 1986 Sunstate purchased a share in Victorian airline, Mildura-based Murray Valley Airlines (MVA), which was established in 1975 but ceased operations in October 1986 due to financial problems.[6] Operations recommenced on 9 November 1986 as Sunstate Airlines (Mildura) on the old MVA routes from Mildura to Melbourne, to Adelaide via Renmark, and to Broken Hill.[6] The airline now had two unconnected networks. The following year Sunstate expanded in its original territory when financially troubled Air Queensland gave up its routes in South East Queensland; Sunstate took over these routes on 1 June. The airline had prepared for the route handover by acquiring more aircraft, its fleet by then consisted of four Nomads (two N24As and two N.22s), three Bandeirantes, three Twin Otters, two Short 360s and a Short 330 in Queensland; and a Short 360 and Cessna 404 in Victoria.[6]\n",
    "\n",
    "In 1989 Australian Airlines, the successor to TAA and previously the owner of now-defunct Air Queensland, took a one-third share in Sunstate.[7] Shortly afterwards Sunstate commenced operations out of Cairns and the fleet was somewhat rationalised, now consisting of 3 Short 360s, 2 Short 330s, 2 Twin Otters, and a Bandeirante transferred from the Mildura operation.[8] Meanwhile, Sunstate Airlines (Mildura) was awarded a five-year contract to operate air ambulance flights on behalf of the Ambulance services of Victoria. To serve the contract it took a Cessna 404 the Queensland operation had acquired from the break-up of Air Queensland, its own Cessna 404, and four others. To maintain its airline operations a succession of Cessna 404s were leased one at a time from Eastern Australia Airlines, Australian Airlines' regional subsidiary in New South Wales.[8]\n",
    "\n",
    "\"\"\"\n",
    "\n",
    "res = sum_lmodel.fullAnnotate(example_txt)[0]\n",
    "\n",
    "\n",
    "print ('Summary:', res['summaries'][0].result)"
   ]
  }
 ],
 "metadata": {
  "accelerator": "GPU",
  "colab": {
   "gpuType": "A100",
   "provenance": []
  },
  "kernelspec": {
   "display_name": "Python 3 (ipykernel)",
   "language": "python",
   "name": "python3"
  },
  "language_info": {
   "codemirror_mode": {
    "name": "ipython",
    "version": 3
   },
   "file_extension": ".py",
   "mimetype": "text/x-python",
   "name": "python",
   "nbconvert_exporter": "python",
   "pygments_lexer": "ipython3",
   "version": "3.11.4"
  }
 },
 "nbformat": 4,
 "nbformat_minor": 1
}
