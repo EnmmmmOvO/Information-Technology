{
 "cells": [
  {
   "cell_type": "code",
   "execution_count": 1,
   "id": "7e62f0d5",
   "metadata": {},
   "outputs": [],
   "source": [
    "from sklearn.feature_extraction.text import CountVectorizer\n"
   ]
  },
  {
   "cell_type": "code",
   "execution_count": 4,
   "id": "3bf45ad3",
   "metadata": {},
   "outputs": [
    {
     "name": "stdout",
     "output_type": "stream",
     "text": [
      "{'breakfast': 0, 'lunch': 3, 'dog': 2, 'cat': 1}\n",
      "[[1 0 0 0]\n",
      " [0 0 0 1]\n",
      " [0 0 1 0]\n",
      " [0 1 0 0]]\n"
     ]
    }
   ],
   "source": [
    "sentences = [\"breakfast\", \"lunch\", \"dog\", \"cat\"]\n",
    "model = CountVectorizer(ngram_range = (1, 1), stop_words = 'english')\n",
    "matrix = model.fit_transform(sentences).toarray()\n",
    "print(model.vocabulary_)\n",
    "print(matrix)"
   ]
  },
  {
   "cell_type": "code",
   "execution_count": 2,
   "id": "a57344da",
   "metadata": {},
   "outputs": [
    {
     "name": "stdout",
     "output_type": "stream",
     "text": [
      "{'skipped': 4, 'my': 3, 'breakfast': 1, 'today': 5, 'ate': 0, 'lunch': 2, 'yesterday': 6}\n",
      "[[0 1 0 1 1 1 0]\n",
      " [1 1 0 1 0 1 0]\n",
      " [1 0 1 1 0 0 1]\n",
      " [0 0 1 1 1 1 0]]\n"
     ]
    }
   ],
   "source": [
    "sentences = [\"I skipped my breakfast today\", \"I ate my breakfast today\",\n",
    "\"I ate my lunch yesterday\", \"I skipped my lunch today\"]\n",
    "model = CountVectorizer(ngram_range = (1, 1))\n",
    "matrix = model.fit_transform(sentences).toarray()\n",
    "print(model.vocabulary_)\n",
    "print(matrix)"
   ]
  },
  {
   "cell_type": "code",
   "execution_count": 3,
   "id": "c9e3a069",
   "metadata": {},
   "outputs": [
    {
     "name": "stdout",
     "output_type": "stream",
     "text": [
      "{'skipped': 3, 'breakfast': 1, 'today': 4, 'ate': 0, 'lunch': 2, 'yesterday': 5}\n",
      "[[0 1 0 1 1 0]\n",
      " [1 1 0 0 1 0]\n",
      " [1 0 1 0 0 1]\n",
      " [0 0 1 1 1 0]]\n"
     ]
    }
   ],
   "source": [
    "sentences = [\"I skipped my breakfast today\", \"I ate my breakfast today\",\n",
    "\"I ate my lunch yesterday\", \"I skipped my lunch today\"]\n",
    "model = CountVectorizer(ngram_range = (1, 1), stop_words = 'english')\n",
    "matrix = model.fit_transform(sentences).toarray()\n",
    "print(model.vocabulary_)\n",
    "print(matrix)"
   ]
  },
  {
   "cell_type": "code",
   "execution_count": 5,
   "id": "9459a178",
   "metadata": {},
   "outputs": [],
   "source": [
    "from sklearn.feature_extraction.text import TfidfVectorizer"
   ]
  },
  {
   "cell_type": "code",
   "execution_count": 12,
   "id": "b479c8e6",
   "metadata": {},
   "outputs": [
    {
     "name": "stdout",
     "output_type": "stream",
     "text": [
      "['ate' 'breakfast' 'lunch' 'skipped' 'today' 'yesterday']\n",
      "  (0, 4)\t0.4968161174826459\n",
      "  (0, 1)\t0.6136667440107333\n",
      "  (0, 3)\t0.6136667440107333\n",
      "  (1, 0)\t0.6136667440107333\n",
      "  (1, 4)\t0.4968161174826459\n",
      "  (1, 1)\t0.6136667440107333\n",
      "  (2, 5)\t0.66767854460954\n",
      "  (2, 2)\t0.5264054336099157\n",
      "  (2, 0)\t0.5264054336099157\n",
      "  (3, 2)\t0.6136667440107333\n",
      "  (3, 4)\t0.4968161174826459\n",
      "  (3, 3)\t0.6136667440107333\n"
     ]
    }
   ],
   "source": [
    "vectorizer = TfidfVectorizer(stop_words = \"english\")\n",
    "sentences = [\"I skipped my breakfast today\", \"I ate my breakfast today\",\n",
    "\"I ate my lunch yesterday\", \"I skipped my lunch today\"]\n",
    "X = vectorizer.fit_transform(sentences)\n",
    "print(vectorizer.get_feature_names_out())\n",
    "print(X)"
   ]
  },
  {
   "cell_type": "markdown",
   "id": "888c849e",
   "metadata": {},
   "source": [
    "TF: Term Frequency: The number of times this term appears in this document; reflects importance of the term in this document\n",
    "\n",
    "IDF: The number of times the term appears across all documents; reflects uniqueness of term in the corpus\n",
    "\n",
    "IDF: log (# documents in the corpus/ # documents in the corpus that contain this term)"
   ]
  },
  {
   "cell_type": "code",
   "execution_count": null,
   "id": "d70fb8f4",
   "metadata": {},
   "outputs": [],
   "source": []
  }
 ],
 "metadata": {
  "kernelspec": {
   "display_name": "Python 3 (ipykernel)",
   "language": "python",
   "name": "python3"
  },
  "language_info": {
   "codemirror_mode": {
    "name": "ipython",
    "version": 3
   },
   "file_extension": ".py",
   "mimetype": "text/x-python",
   "name": "python",
   "nbconvert_exporter": "python",
   "pygments_lexer": "ipython3",
   "version": "3.11.4"
  }
 },
 "nbformat": 4,
 "nbformat_minor": 5
}
