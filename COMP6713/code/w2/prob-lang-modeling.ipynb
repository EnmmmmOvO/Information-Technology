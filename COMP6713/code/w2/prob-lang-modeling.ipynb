{
 "cells": [
  {
   "cell_type": "code",
   "execution_count": 1,
   "id": "65b78138",
   "metadata": {},
   "outputs": [],
   "source": [
    "from nltk.corpus import brown # Brown corpus is a million-word \n",
    "                              # collection of samples from 500 written \n",
    "                              # English texts from different genres \n",
    "\n",
    "from nltk import bigrams, trigrams\n",
    "from collections import Counter, defaultdict\n",
    "import random\n"
   ]
  },
  {
   "cell_type": "code",
   "execution_count": 2,
   "id": "0d158b18",
   "metadata": {},
   "outputs": [],
   "source": [
    "class ProbLangModel:\n",
    "\tdef __init__(self):\n",
    "\t\t# Create a placeholder for model\n",
    "\t\tself.model = defaultdict(lambda: defaultdict(lambda: 0))\n",
    "\n",
    "\t\t# Count frequency of co-occurance  \n",
    "\t\tfor sentence in brown.sents():\n",
    "    \t\t\tfor w1, w2, w3 in trigrams(sentence, pad_right=True, pad_left=True):\n",
    "        \t\t\tself.model[(w1, w2)][w3] += 1\n",
    " \n",
    "\t\t# Let's transform the counts to probabilities\n",
    "\t\tfor w1_w2 in self.model:\n",
    "    \t\t\ttotal_count = float(sum(self.model[w1_w2].values()))\n",
    "    \t\t\tfor w3 in self.model[w1_w2]:\n",
    "        \t\t\tself.model[w1_w2][w3] /= total_count\n",
    "\n",
    "\n",
    "\tdef complete(self, sentence):\n",
    "\t\ttext = sentence.split(\" \")\n",
    "\n",
    "\t\tsentence_finished = False\n",
    " \n",
    "\t\twhile not sentence_finished:\n",
    "  \t\t\t# select a random probability threshold  \n",
    "  \t\t\tr = random.random()\n",
    "  \t\t\taccumulator = .0\n",
    "\n",
    "  \t\t\tfor word in self.model[tuple(text[-2:])].keys():\n",
    "      \t\t\t\taccumulator += self.model[tuple(text[-2:])][word]\n",
    "      \t\t\t\t# select words that are above the probability threshold\n",
    "      \t\t\t\tif accumulator >= r:\n",
    "          \t\t\t\ttext.append(word)\n",
    "          \t\t\t\tbreak\n",
    "\n",
    "  \t\t\tif text[-2:] == [None, None]:\n",
    "      \t\t\t\tsentence_finished = True\n",
    " \n",
    "\t\tprint (' '.join([t for t in text if t]))\n"
   ]
  },
  {
   "cell_type": "code",
   "execution_count": 3,
   "id": "737e47d7",
   "metadata": {},
   "outputs": [
    {
     "name": "stdout",
     "output_type": "stream",
     "text": [
      "I feel that God put His Son , a section 332 liquidation , those most industrialized and therefore both Af and Af .\n"
     ]
    }
   ],
   "source": [
    "\n",
    "plm = ProbLangModel()\n",
    "plm.complete(\"I feel that\")\n",
    "\n"
   ]
  },
  {
   "cell_type": "code",
   "execution_count": 7,
   "id": "ff1eb07e",
   "metadata": {},
   "outputs": [
    {
     "name": "stdout",
     "output_type": "stream",
     "text": [
      "I am a legislator since the defeat of last year the boy had been uncovered .\n"
     ]
    }
   ],
   "source": [
    "plm.complete(\"I am\")"
   ]
  },
  {
   "cell_type": "code",
   "execution_count": 8,
   "id": "2074230e",
   "metadata": {},
   "outputs": [
    {
     "name": "stdout",
     "output_type": "stream",
     "text": [
      "You are very interesting events and concerts , Mrs. Evelyn Rosen , Mrs. Lewis to Cromwell , Oklahoma , Oregon , Louisiana and several of the involution is Af .\n"
     ]
    }
   ],
   "source": [
    "plm.complete(\"You are\")"
   ]
  },
  {
   "cell_type": "code",
   "execution_count": 9,
   "id": "50675b8f",
   "metadata": {},
   "outputs": [
    {
     "name": "stdout",
     "output_type": "stream",
     "text": [
      "We are going to bed .\n"
     ]
    }
   ],
   "source": [
    "plm.complete(\"We are\")"
   ]
  },
  {
   "cell_type": "code",
   "execution_count": null,
   "id": "2a550713",
   "metadata": {},
   "outputs": [],
   "source": []
  }
 ],
 "metadata": {
  "kernelspec": {
   "display_name": "Python 3 (ipykernel)",
   "language": "python",
   "name": "python3"
  },
  "language_info": {
   "codemirror_mode": {
    "name": "ipython",
    "version": 3
   },
   "file_extension": ".py",
   "mimetype": "text/x-python",
   "name": "python",
   "nbconvert_exporter": "python",
   "pygments_lexer": "ipython3",
   "version": "3.11.4"
  }
 },
 "nbformat": 4,
 "nbformat_minor": 5
}
