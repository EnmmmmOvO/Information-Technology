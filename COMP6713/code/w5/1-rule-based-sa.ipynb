{
 "cells": [
  {
   "cell_type": "code",
   "execution_count": 1,
   "id": "d67c344b",
   "metadata": {},
   "outputs": [],
   "source": [
    "from nltk.corpus import sentiwordnet as swn"
   ]
  },
  {
   "cell_type": "code",
   "execution_count": 67,
   "id": "adaf83b3",
   "metadata": {},
   "outputs": [
    {
     "name": "stdout",
     "output_type": "stream",
     "text": [
      "the act of testing something 0.0 0.0 1.0\n",
      "trying something to find out about it 0.125 0.0 0.875\n",
      "the act of undergoing testing 0.0 0.0 1.0\n",
      "(law) the determination of a person's innocence or guilt by due process of law 0.0 0.0 1.0\n",
      "(sports) a preliminary competition to determine qualifications 0.0 0.0 1.0\n",
      "an annoying or frustrating or catastrophic event 0.0 0.25 0.75\n"
     ]
    }
   ],
   "source": [
    "for i in list(swn.senti_synsets('trial')):\n",
    "    print(i.synset.definition(), i.pos_score(), i.neg_score(), i.obj_score())"
   ]
  },
  {
   "cell_type": "code",
   "execution_count": 5,
   "id": "a06b01ab",
   "metadata": {},
   "outputs": [],
   "source": [
    "sentence = \"I love the movie\""
   ]
  },
  {
   "cell_type": "code",
   "execution_count": 17,
   "id": "abf0cd67",
   "metadata": {},
   "outputs": [],
   "source": [
    "wordlevel_pos_score = [list(swn.senti_synsets(i))[0].pos_score() \n",
    "                 for i in sentence.lower().strip().split(\" \") \n",
    "                 if len(list(swn.senti_synsets(i))) > 0]\n",
    "\n",
    "wordlevel_neg_score = [list(swn.senti_synsets(i))[0].neg_score() \n",
    "                 for i in sentence.lower().strip().split(\" \") \n",
    "                 if len(list(swn.senti_synsets(i))) > 0]"
   ]
  },
  {
   "cell_type": "code",
   "execution_count": 18,
   "id": "5549808d",
   "metadata": {},
   "outputs": [
    {
     "data": {
      "text/plain": [
       "([0.0, 0.625, 0.0], [0.0, 0.0, 0.0])"
      ]
     },
     "execution_count": 18,
     "metadata": {},
     "output_type": "execute_result"
    }
   ],
   "source": [
    "wordlevel_pos_score, wordlevel_neg_score"
   ]
  },
  {
   "cell_type": "code",
   "execution_count": 21,
   "id": "bc633e9e",
   "metadata": {},
   "outputs": [],
   "source": [
    "sum_pos = sum(wordlevel_pos_score)\n",
    "sum_neg = sum(wordlevel_neg_score)"
   ]
  },
  {
   "cell_type": "code",
   "execution_count": 23,
   "id": "441f3f9b",
   "metadata": {},
   "outputs": [
    {
     "name": "stdout",
     "output_type": "stream",
     "text": [
      "Positive sentence!\n"
     ]
    }
   ],
   "source": [
    "if sum_pos > sum_neg and (sum_pos + sum_neg) != 0:\n",
    "    print(\"Positive sentence!\")\n",
    "elif (sum_pos + sum_neg) != 0:\n",
    "    print(\"Negative sentence!\")\n",
    "else:\n",
    "    print(\"Objective sentence!\")"
   ]
  },
  {
   "cell_type": "markdown",
   "id": "62184f33",
   "metadata": {},
   "source": [
    "The above may be extended to nuanced rules related to negation, conjunction, etc."
   ]
  }
 ],
 "metadata": {
  "kernelspec": {
   "display_name": "Python 3 (ipykernel)",
   "language": "python",
   "name": "python3"
  },
  "language_info": {
   "codemirror_mode": {
    "name": "ipython",
    "version": 3
   },
   "file_extension": ".py",
   "mimetype": "text/x-python",
   "name": "python",
   "nbconvert_exporter": "python",
   "pygments_lexer": "ipython3",
   "version": "3.11.4"
  }
 },
 "nbformat": 4,
 "nbformat_minor": 5
}
