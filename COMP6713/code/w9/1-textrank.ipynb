{
 "cells": [
  {
   "cell_type": "code",
   "execution_count": 1,
   "id": "adcef5e0",
   "metadata": {},
   "outputs": [
    {
     "name": "stdout",
     "output_type": "stream",
     "text": [
      "Collecting summa\n",
      "  Downloading summa-1.2.0.tar.gz (54 kB)\n",
      "\u001b[2K     \u001b[90m━━━━━━━━━━━━━━━━━━━━━━━━━━━━━━━━━━━━━━━━\u001b[0m \u001b[32m54.9/54.9 kB\u001b[0m \u001b[31m2.4 MB/s\u001b[0m eta \u001b[36m0:00:00\u001b[0m\n",
      "\u001b[?25h  Preparing metadata (setup.py) ... \u001b[?25ldone\n",
      "\u001b[?25hRequirement already satisfied: scipy>=0.19 in /Users/z3539958/anaconda3/lib/python3.11/site-packages (from summa) (1.10.1)\n",
      "Requirement already satisfied: numpy<1.27.0,>=1.19.5 in /Users/z3539958/anaconda3/lib/python3.11/site-packages (from scipy>=0.19->summa) (1.24.3)\n",
      "Building wheels for collected packages: summa\n",
      "  Building wheel for summa (setup.py) ... \u001b[?25ldone\n",
      "\u001b[?25h  Created wheel for summa: filename=summa-1.2.0-py3-none-any.whl size=54388 sha256=effb07b9f15893072642f66ff04944a2c105aecc58afcd59df931f101eca07fe\n",
      "  Stored in directory: /Users/z3539958/Library/Caches/pip/wheels/10/2d/7a/abce87c4ea233f8dcca0d99b740ac0257eced1f99a124a0e1f\n",
      "Successfully built summa\n",
      "Installing collected packages: summa\n",
      "Successfully installed summa-1.2.0\n"
     ]
    }
   ],
   "source": [
    "!pip install summa"
   ]
  },
  {
   "cell_type": "code",
   "execution_count": 20,
   "id": "21844ffa",
   "metadata": {},
   "outputs": [],
   "source": [
    "from summa.summarizer import summarize\n",
    "import math"
   ]
  },
  {
   "cell_type": "code",
   "execution_count": 3,
   "id": "25eabdbc",
   "metadata": {},
   "outputs": [],
   "source": [
    "text = \"A New York lawyer is facing a court hearing of his own after his firm used AI tool ChatGPT for legal research. A judge said the court was faced with an unprecedented circumstance after a filing was found to reference example legal cases that did not exist. The lawyer who used the tool told the court he was unaware that its content could be false. ChatGPT creates original text on request, but comes with warnings it can produce inaccurate information. The original case involved a man suing an airline over an alleged personal injury. His legal team submitted a brief that cited several previous court cases in an attempt to prove, using precedent, why the case should move forward.\""
   ]
  },
  {
   "cell_type": "code",
   "execution_count": 5,
   "id": "de4b7d42",
   "metadata": {},
   "outputs": [
    {
     "data": {
      "text/plain": [
       "'A New York lawyer is facing a court hearing of his own after his firm used AI tool ChatGPT for legal research.\\nA judge said the court was faced with an unprecedented circumstance after a filing was found to reference example legal cases that did not exist.\\nHis legal team submitted a brief that cited several previous court cases in an attempt to prove, using precedent, why the case should move forward.'"
      ]
     },
     "execution_count": 5,
     "metadata": {},
     "output_type": "execute_result"
    }
   ],
   "source": [
    "summarize(text, ratio=0.5)"
   ]
  },
  {
   "cell_type": "code",
   "execution_count": 6,
   "id": "998ad64c",
   "metadata": {},
   "outputs": [],
   "source": [
    "# Let's try implementing it."
   ]
  },
  {
   "cell_type": "code",
   "execution_count": 39,
   "id": "6f4d52e4",
   "metadata": {},
   "outputs": [],
   "source": [
    "sentences = [i.strip().lower() for i in text.split(\".\") if len(i) > 0]"
   ]
  },
  {
   "cell_type": "code",
   "execution_count": 40,
   "id": "87afd3d7",
   "metadata": {},
   "outputs": [
    {
     "data": {
      "text/plain": [
       "['a new york lawyer is facing a court hearing of his own after his firm used ai tool chatgpt for legal research',\n",
       " 'a judge said the court was faced with an unprecedented circumstance after a filing was found to reference example legal cases that did not exist',\n",
       " 'the lawyer who used the tool told the court he was unaware that its content could be false',\n",
       " 'chatgpt creates original text on request, but comes with warnings it can produce inaccurate information',\n",
       " 'the original case involved a man suing an airline over an alleged personal injury',\n",
       " 'his legal team submitted a brief that cited several previous court cases in an attempt to prove, using precedent, why the case should move forward']"
      ]
     },
     "execution_count": 40,
     "metadata": {},
     "output_type": "execute_result"
    }
   ],
   "source": [
    "sentences"
   ]
  },
  {
   "cell_type": "code",
   "execution_count": 43,
   "id": "6eafbe0c",
   "metadata": {},
   "outputs": [],
   "source": [
    "similarity_matrix = []\n",
    "for i in sentences:\n",
    "    l1 = []\n",
    "    for j in sentences:\n",
    "        common_word_count = len(set(i.split(\" \")).intersection(set(j.split(\" \")))) # Common words\n",
    "        l1.append(common_word_count/(math.log(len(set(i.split(\" \")))) + math.log(len(set(j.split(\" \"))))))\n",
    "    similarity_matrix.append(l1)"
   ]
  },
  {
   "cell_type": "code",
   "execution_count": 47,
   "id": "5e78c5e7",
   "metadata": {},
   "outputs": [
    {
     "data": {
      "text/plain": [
       "(6, 6)"
      ]
     },
     "execution_count": 47,
     "metadata": {},
     "output_type": "execute_result"
    }
   ],
   "source": [
    "len(similarity_matrix), len(similarity_matrix[0])"
   ]
  },
  {
   "cell_type": "code",
   "execution_count": 52,
   "id": "66e87e41",
   "metadata": {},
   "outputs": [
    {
     "name": "stdout",
     "output_type": "stream",
     "text": [
      "[0.15000000000000002, 0.15000000000000002, 0.15000000000000002, 0.15000000000000002, 0.15000000000000002, 0.15000000000000002]\n",
      "[0.18500095766781682, 0.19885222623688398, 0.18101258032399115, 0.15000000000000002, 0.19968581473982455, 0.3099804696959562]\n",
      "[0.19316807125224553, 0.21476249295888195, 0.1874244479130045, 0.15000000000000002, 0.21614368264889233, 0.48060547425688127]\n",
      "[0.1950737832311578, 0.21994417262149668, 0.18875010497054498, 0.15000000000000002, 0.22159516648850863, 0.6625832634004243]\n",
      "[0.19551846152649754, 0.2216317498692641, 0.1890241852770719, 0.15000000000000002, 0.2234009092625908, 0.8566692112765288]\n",
      "[0.1956222226344374, 0.22218136257259846, 0.18908085152721452, 0.15000000000000002, 0.22399904126886294, 1.063668951960556]\n",
      "[0.19564643422208122, 0.2223603612667715, 0.1890925673047759, 0.15000000000000002, 0.22419716577588691, 1.2844417235710348]\n",
      "[0.19565208374710916, 0.2224186578314638, 0.18909498954806042, 0.15000000000000002, 0.22426279229289633, 1.5199039348931844]\n",
      "[0.19565340200568482, 0.22243764394457835, 0.1890954903481566, 0.15000000000000002, 0.22428453033933735, 1.7710329693129578]\n",
      "[0.19565370960776882, 0.22244382737053323, 0.18909559388884464, 0.15000000000000002, 0.22429173082299247, 2.0388712418514063]\n"
     ]
    }
   ],
   "source": [
    "sentence_scores = [0, 0, 0, 0, 0, 0]\n",
    "damping = 0.85\n",
    "for epoch in range(0,10):\n",
    "    for i in range(len(sentences)):\n",
    "        rank = 1 - damping\n",
    "        edge_sum = 0\n",
    "        for j in range(len(sentences)):\n",
    "            if i != j:\n",
    "                edge_sum += similarity_matrix[i][j]\n",
    "        rank += damping * sentence_scores[i] * similarity_matrix[i][j] / edge_sum\n",
    "        sentence_scores[i] = rank\n",
    "    print(sentence_scores)"
   ]
  },
  {
   "cell_type": "code",
   "execution_count": null,
   "id": "1c4813ce",
   "metadata": {},
   "outputs": [],
   "source": []
  }
 ],
 "metadata": {
  "kernelspec": {
   "display_name": "Python 3 (ipykernel)",
   "language": "python",
   "name": "python3"
  },
  "language_info": {
   "codemirror_mode": {
    "name": "ipython",
    "version": 3
   },
   "file_extension": ".py",
   "mimetype": "text/x-python",
   "name": "python",
   "nbconvert_exporter": "python",
   "pygments_lexer": "ipython3",
   "version": "3.11.4"
  }
 },
 "nbformat": 4,
 "nbformat_minor": 5
}
