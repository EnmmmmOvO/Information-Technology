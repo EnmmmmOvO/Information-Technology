{
 "cells": [
  {
   "cell_type": "code",
   "execution_count": 1,
   "id": "2c6b11f5",
   "metadata": {},
   "outputs": [],
   "source": [
    "from nltk.corpus import brown\n",
    "import gensim\n",
    "import os\n",
    "\n",
    "class SimpleGensim:\n",
    "\tdef __init__(self, corpus_length = 10000):\n",
    "\t\ttrain_set = brown.sents()[:corpus_length]\n",
    "\t\tself.model = gensim.models.Word2Vec(train_set)\n",
    "\t\n",
    "\tdef similarity(self, w1, w2):\n",
    "\t\tif w1 in self.model.wv and w2 in self.model.wv:\n",
    "\t\t\tsim = self.model.wv.similarity(w1, w2)\n",
    "\t\t\tprint('Similarity between ', w1, ' and ' , w2, ' is : ' , sim)\n",
    "\t\telse:\n",
    "\t\t\tprint(\"One of the words was not found!\")\n"
   ]
  },
  {
   "cell_type": "markdown",
   "id": "0fc1ce71",
   "metadata": {},
   "source": [
    "Let's try to answer the age-old question: is computing an art or science?"
   ]
  },
  {
   "cell_type": "code",
   "execution_count": 2,
   "id": "a190c411",
   "metadata": {},
   "outputs": [
    {
     "name": "stdout",
     "output_type": "stream",
     "text": [
      "i =  30000\n",
      "Similarity between  computing  and  art  is :  0.89603484\n",
      "Similarity between  computing  and  science  is :  0.8559989\n",
      "i =  40000\n",
      "Similarity between  computing  and  art  is :  0.83115244\n",
      "Similarity between  computing  and  science  is :  0.77433467\n",
      "i =  50000\n",
      "Similarity between  computing  and  art  is :  0.8765453\n",
      "Similarity between  computing  and  science  is :  0.8656659\n",
      "i =  60000\n",
      "Similarity between  computing  and  art  is :  0.6997815\n",
      "Similarity between  computing  and  science  is :  0.7783827\n",
      "i =  70000\n",
      "Similarity between  computing  and  art  is :  0.69960093\n",
      "Similarity between  computing  and  science  is :  0.7785481\n",
      "i =  80000\n",
      "Similarity between  computing  and  art  is :  0.699937\n",
      "Similarity between  computing  and  science  is :  0.77816665\n",
      "i =  90000\n",
      "Similarity between  computing  and  art  is :  0.69991755\n",
      "Similarity between  computing  and  science  is :  0.77814317\n",
      "i =  100000\n",
      "Similarity between  computing  and  art  is :  0.6998766\n",
      "Similarity between  computing  and  science  is :  0.77847636\n",
      "i =  110000\n",
      "Similarity between  computing  and  art  is :  0.6999793\n",
      "Similarity between  computing  and  science  is :  0.77839327\n"
     ]
    }
   ],
   "source": [
    "for i in range(30000, 120000, 10000):\n",
    "\tprint(\"i = \", i)\n",
    "\tsg = SimpleGensim(corpus_length = i)\n",
    "\tsg.similarity('computing', 'art')\n",
    "\tsg.similarity('computing', 'science')\n"
   ]
  },
  {
   "cell_type": "code",
   "execution_count": 2,
   "id": "a31f4a07",
   "metadata": {},
   "outputs": [],
   "source": [
    "# Source: https://drive.google.com/file/d/0B7XkCwpI5KDYNlNUTTlSS21pQmM/edit?resourcekey=0-wjGZdNAUop6WykTtMip30g"
   ]
  },
  {
   "cell_type": "code",
   "execution_count": 7,
   "id": "5004cfe5",
   "metadata": {},
   "outputs": [],
   "source": [
    "from gensim import models\n",
    "\n",
    "w = models.KeyedVectors.load_word2vec_format('GoogleNews-vectors-negative300.bin.gz', binary=True)"
   ]
  },
  {
   "cell_type": "code",
   "execution_count": 11,
   "id": "386d30f7",
   "metadata": {},
   "outputs": [
    {
     "data": {
      "text/plain": [
       "(300,)"
      ]
     },
     "execution_count": 11,
     "metadata": {},
     "output_type": "execute_result"
    }
   ],
   "source": [
    "vector = w['peace']\n",
    "vector.shape"
   ]
  },
  {
   "cell_type": "code",
   "execution_count": 43,
   "id": "f73ef278",
   "metadata": {
    "scrolled": true
   },
   "outputs": [
    {
     "data": {
      "text/plain": [
       "numpy.ndarray"
      ]
     },
     "execution_count": 43,
     "metadata": {},
     "output_type": "execute_result"
    }
   ],
   "source": [
    "type(vector)"
   ]
  },
  {
   "cell_type": "code",
   "execution_count": 44,
   "id": "6bd917cc",
   "metadata": {},
   "outputs": [
    {
     "data": {
      "text/plain": [
       "array([ 1.57226562e-01,  2.61718750e-01,  2.77343750e-01,  2.87109375e-01,\n",
       "        1.86523438e-01, -1.53320312e-01,  2.16796875e-01, -6.88476562e-02,\n",
       "        7.86132812e-02,  1.86523438e-01, -1.20117188e-01,  2.26562500e-01,\n",
       "       -2.71484375e-01,  2.55859375e-01, -2.16796875e-01,  1.39648438e-01,\n",
       "        1.14746094e-01,  9.22851562e-02,  6.03027344e-02, -1.34765625e-01,\n",
       "        1.85546875e-01,  4.55078125e-01, -2.84423828e-02,  9.22851562e-02,\n",
       "       -6.68945312e-02,  1.45507812e-01, -2.34375000e-01,  9.08203125e-02,\n",
       "        4.82421875e-01, -2.18750000e-01, -1.20605469e-01, -1.20117188e-01,\n",
       "       -5.00000000e-01,  5.71289062e-02, -2.28271484e-02, -8.74023438e-02,\n",
       "        2.15820312e-01,  1.31835938e-01, -2.01171875e-01,  4.07714844e-02,\n",
       "       -2.84423828e-02,  2.67578125e-01, -7.37304688e-02,  7.61718750e-02,\n",
       "       -5.00000000e-01,  9.81445312e-02,  1.74804688e-01,  2.67333984e-02,\n",
       "       -1.28906250e-01,  1.44531250e-01,  2.41210938e-01,  7.81250000e-03,\n",
       "       -2.79296875e-01,  5.02929688e-02, -5.00488281e-02, -6.49414062e-02,\n",
       "       -1.30859375e-01, -8.49609375e-02, -4.07714844e-02, -1.92382812e-01,\n",
       "       -6.34765625e-02,  2.98828125e-01,  2.69531250e-01,  1.69921875e-01,\n",
       "       -1.70898438e-02,  4.76074219e-02,  1.08398438e-01,  1.02539062e-01,\n",
       "       -2.00195312e-01, -1.10839844e-01,  6.68945312e-02,  3.71093750e-01,\n",
       "        1.67968750e-01,  1.02050781e-01, -1.71875000e-01, -3.92578125e-01,\n",
       "       -3.75000000e-01,  5.10253906e-02,  2.16796875e-01,  1.51367188e-01,\n",
       "       -2.81250000e-01,  8.49609375e-02,  2.91748047e-02, -1.12304688e-01,\n",
       "        1.70898438e-01, -7.22656250e-02,  9.52148438e-02,  1.09375000e-01,\n",
       "        1.55273438e-01, -8.11767578e-03,  3.06396484e-02, -1.79687500e-01,\n",
       "       -2.08740234e-02, -5.70312500e-01, -2.81250000e-01, -1.84326172e-02,\n",
       "        1.37695312e-01, -2.02148438e-01,  2.03125000e-01, -4.14062500e-01,\n",
       "       -6.22558594e-02,  4.34570312e-02,  2.03125000e-01,  1.17797852e-02,\n",
       "       -1.28906250e-01,  1.34765625e-01, -3.16406250e-01,  1.05468750e-01,\n",
       "       -4.21142578e-03,  5.95703125e-02, -2.38281250e-01,  1.99218750e-01,\n",
       "        1.76757812e-01, -7.08007812e-02, -1.03027344e-01,  6.03027344e-02,\n",
       "        9.91210938e-02,  1.03515625e-01, -1.46484375e-01,  1.76757812e-01,\n",
       "        6.98242188e-02,  4.08203125e-01, -3.30078125e-01,  2.67333984e-02,\n",
       "       -3.45703125e-01,  3.90625000e-02,  2.67578125e-01,  9.57031250e-02,\n",
       "        1.41601562e-02, -5.22460938e-02,  2.75390625e-01, -1.05590820e-02,\n",
       "       -8.64257812e-02,  2.35351562e-01, -3.29589844e-02, -7.86132812e-02,\n",
       "       -3.99780273e-03, -5.41992188e-02, -1.09863281e-01,  9.88769531e-03,\n",
       "       -1.30859375e-01, -1.95312500e-01,  7.35473633e-03,  2.18505859e-02,\n",
       "       -2.55859375e-01, -1.40380859e-02, -7.47070312e-02, -1.50390625e-01,\n",
       "        1.77734375e-01,  6.98242188e-02,  2.01171875e-01, -2.01171875e-01,\n",
       "        7.42187500e-02,  1.01562500e-01, -1.62109375e-01, -2.33398438e-01,\n",
       "        2.36328125e-01, -7.86132812e-02, -5.02929688e-02,  5.88378906e-02,\n",
       "       -2.85156250e-01, -4.76074219e-02, -5.41992188e-02,  1.08886719e-01,\n",
       "       -1.12792969e-01, -2.13867188e-01,  2.04101562e-01, -1.26342773e-02,\n",
       "       -1.46484375e-01,  4.56542969e-02,  2.16064453e-02,  1.12792969e-01,\n",
       "        1.40625000e-01, -3.30078125e-01, -7.56835938e-02,  2.94921875e-01,\n",
       "        4.98046875e-02,  2.29492188e-02, -7.47070312e-02, -2.94921875e-01,\n",
       "       -5.07812500e-01, -5.93261719e-02,  4.19921875e-01, -1.82617188e-01,\n",
       "        1.29882812e-01,  2.51953125e-01,  6.07910156e-02,  5.02929688e-02,\n",
       "        1.21582031e-01,  2.61230469e-02, -1.44531250e-01,  1.93359375e-01,\n",
       "       -1.59179688e-01, -1.70898438e-01,  1.32812500e-01,  2.94921875e-01,\n",
       "        2.08984375e-01,  2.91015625e-01, -1.62353516e-02, -2.04101562e-01,\n",
       "        8.15429688e-02, -1.05468750e-01, -1.55273438e-01, -2.07031250e-01,\n",
       "        1.35742188e-01, -4.06250000e-01, -9.96093750e-02,  5.00488281e-02,\n",
       "        1.09375000e-01,  6.73828125e-02, -4.92187500e-01,  9.03320312e-02,\n",
       "       -1.94335938e-01, -5.49316406e-02,  5.24902344e-02, -1.09375000e-01,\n",
       "       -1.52343750e-01, -7.76367188e-02, -2.63671875e-01,  1.22070312e-01,\n",
       "        2.63671875e-01, -4.70703125e-01,  5.29785156e-02, -3.11279297e-02,\n",
       "        9.71679688e-02, -1.47460938e-01,  2.08984375e-01,  8.30078125e-02,\n",
       "        2.33398438e-01, -1.54296875e-01, -6.93359375e-02, -1.07421875e-01,\n",
       "       -3.57421875e-01,  2.68554688e-02,  1.29882812e-01, -1.92382812e-01,\n",
       "       -4.80957031e-02, -5.73730469e-02,  1.17187500e-01, -6.98242188e-02,\n",
       "        6.34765625e-02, -2.65625000e-01, -1.11816406e-01,  1.75781250e-01,\n",
       "        2.19726562e-01,  2.55126953e-02, -2.18750000e-01, -3.32031250e-01,\n",
       "       -6.01196289e-03,  6.59179688e-02,  5.54199219e-02,  5.07354736e-04,\n",
       "       -1.28784180e-02,  4.00390625e-01, -3.17382812e-02, -6.88476562e-02,\n",
       "        2.04101562e-01, -2.91015625e-01,  8.88671875e-02, -1.87500000e-01,\n",
       "        2.58789062e-02, -7.61718750e-02,  1.29882812e-01,  9.13085938e-02,\n",
       "        1.30859375e-01,  1.33056641e-02, -1.05957031e-01, -2.94921875e-01,\n",
       "       -4.04296875e-01, -2.33398438e-01,  2.30468750e-01,  1.62109375e-01,\n",
       "        1.83593750e-01,  3.65234375e-01,  2.08007812e-01, -1.56402588e-03,\n",
       "       -1.01074219e-01,  1.54296875e-01, -4.37500000e-01, -5.02929688e-02,\n",
       "       -3.31115723e-03, -1.42578125e-01, -1.87500000e-01,  1.49414062e-01,\n",
       "        1.86523438e-01, -3.33984375e-01, -1.91406250e-01,  9.81445312e-02,\n",
       "        6.59179688e-02, -4.44335938e-02, -3.22265625e-01, -3.00781250e-01,\n",
       "        1.09863281e-01, -2.27539062e-01, -2.30468750e-01,  2.46093750e-01,\n",
       "       -1.36718750e-01, -2.17773438e-01,  8.78906250e-02,  4.44335938e-02],\n",
       "      dtype=float32)"
      ]
     },
     "execution_count": 44,
     "metadata": {},
     "output_type": "execute_result"
    }
   ],
   "source": [
    "vector"
   ]
  },
  {
   "cell_type": "code",
   "execution_count": 22,
   "id": "1a819dda",
   "metadata": {},
   "outputs": [
    {
     "data": {
      "text/plain": [
       "[('king', 0.8449392318725586), ('queen', 0.7300516366958618)]"
      ]
     },
     "execution_count": 22,
     "metadata": {},
     "output_type": "execute_result"
    }
   ],
   "source": [
    "vec_king = w.get_vector(\"king\")\n",
    "vec_man = w.get_vector(\"man\")\n",
    "vec_woman = w.get_vector(\"woman\")\n",
    "w.similar_by_vector(vec_king - vec_man + vec_woman, topn=2)"
   ]
  },
  {
   "cell_type": "code",
   "execution_count": 36,
   "id": "4e3f9b97",
   "metadata": {
    "scrolled": true
   },
   "outputs": [
    {
     "data": {
      "text/plain": [
       "[('man', 1.0000001192092896),\n",
       " ('woman', 0.7664012908935547),\n",
       " ('boy', 0.6824870705604553),\n",
       " ('teenager', 0.6586930155754089),\n",
       " ('teenage_girl', 0.6147903203964233),\n",
       " ('girl', 0.5921714305877686),\n",
       " ('suspected_purse_snatcher', 0.5716364979743958),\n",
       " ('robber', 0.5585118532180786),\n",
       " ('Robbery_suspect', 0.5584409832954407),\n",
       " ('teen_ager', 0.5549196004867554)]"
      ]
     },
     "execution_count": 36,
     "metadata": {},
     "output_type": "execute_result"
    }
   ],
   "source": [
    "vec_man = w.get_vector(\"man\")\n",
    "w.similar_by_vector(vec_man, topn=10)"
   ]
  },
  {
   "cell_type": "code",
   "execution_count": 37,
   "id": "98be3cd4",
   "metadata": {},
   "outputs": [
    {
     "data": {
      "text/plain": [
       "[('woman', 1.0),\n",
       " ('man', 0.7664011716842651),\n",
       " ('girl', 0.7494640946388245),\n",
       " ('teenage_girl', 0.7336829900741577),\n",
       " ('teenager', 0.631708562374115),\n",
       " ('lady', 0.6288785934448242),\n",
       " ('teenaged_girl', 0.6141783595085144),\n",
       " ('mother', 0.6076306104660034),\n",
       " ('policewoman', 0.6069462299346924),\n",
       " ('boy', 0.5975908637046814)]"
      ]
     },
     "execution_count": 37,
     "metadata": {},
     "output_type": "execute_result"
    }
   ],
   "source": [
    "vec_woman = w.get_vector(\"woman\")\n",
    "w.similar_by_vector(vec_woman, topn=10)"
   ]
  },
  {
   "cell_type": "code",
   "execution_count": 42,
   "id": "46cb1a1b",
   "metadata": {},
   "outputs": [
    {
     "data": {
      "text/plain": [
       "[('doctor', 0.883492112159729),\n",
       " ('gynecologist', 0.7276507616043091),\n",
       " ('nurse', 0.6698511838912964),\n",
       " ('physician', 0.6674119830131531),\n",
       " ('doctors', 0.6649492979049683)]"
      ]
     },
     "execution_count": 42,
     "metadata": {},
     "output_type": "execute_result"
    }
   ],
   "source": [
    "vec_doctor = w.get_vector(\"doctor\")\n",
    "vec_man = w.get_vector(\"man\")\n",
    "vec_woman = w.get_vector(\"woman\")\n",
    "w.similar_by_vector(vec_doctor - vec_man + vec_woman, topn=5)"
   ]
  }
 ],
 "metadata": {
  "kernelspec": {
   "display_name": "Python 3 (ipykernel)",
   "language": "python",
   "name": "python3"
  },
  "language_info": {
   "codemirror_mode": {
    "name": "ipython",
    "version": 3
   },
   "file_extension": ".py",
   "mimetype": "text/x-python",
   "name": "python",
   "nbconvert_exporter": "python",
   "pygments_lexer": "ipython3",
   "version": "3.11.4"
  }
 },
 "nbformat": 4,
 "nbformat_minor": 5
}
