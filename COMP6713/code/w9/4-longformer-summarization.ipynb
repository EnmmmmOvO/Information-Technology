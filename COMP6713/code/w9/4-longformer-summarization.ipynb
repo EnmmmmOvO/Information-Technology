{
 "cells": [
  {
   "cell_type": "code",
   "execution_count": 3,
   "metadata": {
    "id": "fhYhFe9MeuwK"
   },
   "outputs": [],
   "source": [
    "from transformers import AutoTokenizer, AutoModel\n",
    "import torch\n",
    "device = torch.device('cuda' if torch.cuda.is_available() else 'cpu')"
   ]
  },
  {
   "cell_type": "code",
   "execution_count": null,
   "metadata": {
    "colab": {
     "base_uri": "https://localhost:8080/"
    },
    "id": "WcGSlnRChfMx",
    "outputId": "542a5be3-11d1-4b77-bdb9-6d40490668ab"
   },
   "outputs": [],
   "source": [
    "document = f\"\"\"The Molonglo River was recorded as the Yeal-am-bid-gie in 1820 by the explorer Charles Throsby. Later it was referred to as the Limestone River, and the Fish River. The Moolinggolah people of the district around Captains Flat probably gave the Molonglo its current name.\n",
    "European settlement in the area began in October 1824 when Joshua John Moore, the owner of Horningsea near Liverpool, was given a ticket of occupation for 2,000 acres (810 ha) north of the Limestone River covering the area now called Civic extending north to Dickson. A flock of sheep was driven onto the property in December 1824 by the overseer John McLaughlin. He built a slab hut on what is now called Acton Peninsula. This was named Camberry later Canberry Cottage. A creek that ran through the middle of the property originating from the side of Mount Ainslie was named Canberry Creek. On 12 October 1828, a deed for a further 1,000 acres (400 ha) to the west was issued to Moore in consideration of £250.[6] Moore was always an absentee landlord and took no interest in running the property. The station continued to be called Canberry/Camberry, from 1824 until 1843 when it was sold to Arthur Jeffreys, who renamed it Acton and built a more substantial homestead called Acton House.\n",
    "In 1825 James Ainslie, a purported Waterloo veteran,[7] herded sheep down to the district for Robert Campbell. He occupied land at the base of Mount Pleasant near the Limestone River, which he called Pialigo.[8] A stone cottage was built, Limestone Cottage, which later was expanded to become Duntroon House and the property named Duntroon when the Campbells took up residence and acquired land extending down to Queanbeyan. Ainslie, who remained there till 1835, also received a grant of 100 acres (40 ha) for assisting in the capture of two bushrangers Tennant and Dublin Jack.[9] Ainslie later returned to Scotland.\n",
    "In 1827 John McPherson was given a ticket of occupation for the land to the west of Canberry extending to include the now named Black Mountain. He called the station Springbank, with the homestead just to the east of the junction of the Limestone River with Canberry Creek. The first white child born in the area was a daughter, born into the Macpherson family in 1830. In 1831 MacPherson was granted title to the 640-acre (260 ha) property extending to the now named Black Mountain. Other sheep stations were built in turn by further settlers. Initially, these properties were owned by absentee landlords, but later resident families moved in. For future development, blocks for village settlements were gazetted at Pialigo, Tageranong to the south, Palmerstone to the north, and Yarrolumla to the west near the Murrumbidgee River.\n",
    "The local Aboriginals of this time tended to refer to themselves as the Nyamudy people and spoke a dialect of the Ngarigo language, while the settlers called them the Limestone Plains Blacks or Pialigo Mob. The indigenous population of the district declined to less than a hundred by 1840. In stark comparison, by 1851 there were about 2,500 European people living in the area. Apart from a few employed on stations Aboriginals disappeared by the 1860s with most moving to the better hunting grounds of land near the Cooma and Tumut districts. A few from the Sutton, Hall and Fairlight localities moved north to Yass.\n",
    "Construction of the church of St John the Baptist started in 1841 on land purchased from Robert Campbell adjacent to the Canberry station. This included a 100-acre (40 ha) glebe. When the first rector was appointed the rectory was the rented Canberry Cottage, thus the church was referred to as being at Canberry in the parish of Queanbeyan. Later the lands south of the Limestone River were also called Canberry extending down to Canberry Hill, now Red Hill, with the road going over Church Crossing.\n",
    "When the district was further divided into parishes in the County of Murray, the name given of the parish was Canberry, but was then changed to Canberra. It extended over a wide area north nearly to Yass and west to the Cotter River\n",
    "There were a number of European families who achieved status in the area. These included the Campbell family and the Palmer family. In the late 1820s and early 1830s, there was a conflict between two of these families – the Johnstons (descended from Major George Johnston who was involved in the Rum Rebellion) and the Martins – for the ownership and financial control of land that is now known as Weston Creek and Tuggeranong.\n",
    "Prominent, too, in the early life of the district were the Gibbes and Murray families, who were related by marriage.\n",
    "Irish-born Sir Terence Aubrey Murray, MLC, owned the Yarralumla estate (now the site of Australia's Government House) from 1837 until 1859. In the latter year, Murray sold Yarralumla to his brother-in-law, Augustus Onslow Manby Gibbes, who was joined at the property by his elderly parents, Elizabeth Gibbes and Colonel John George Nathaniel Gibbes, the retired Collector of Customs for NSW. Augustus Gibbes made improvements to the estate and he remained Yarralumla's resident proprietor until 1881 when he sold it to his neighbour Frederick Campbell.[a] \"\"\""
   ]
  },
  {
   "cell_type": "code",
   "execution_count": 18,
   "metadata": {
    "colab": {
     "base_uri": "https://localhost:8080/"
    },
    "id": "TJYnyJ90u9n2",
    "outputId": "12e3b157-66a3-4c09-b28a-bd3c8d818005"
   },
   "outputs": [
    {
     "name": "stderr",
     "output_type": "stream",
     "text": [
      "You are using a model of type encoder_decoder to instantiate a model of type encoder-decoder. This is not supported for all configurations of models and can yield errors.\n",
      "Some weights of the model checkpoint at patrickvonplaten/longformer2roberta-cnn_dailymail-fp16 were not used when initializing EncoderDecoderModel: ['decoder.roberta.pooler.dense.bias', 'decoder.roberta.pooler.dense.weight', 'encoder.embeddings.position_ids']\n",
      "- This IS expected if you are initializing EncoderDecoderModel from the checkpoint of a model trained on another task or with another architecture (e.g. initializing a BertForSequenceClassification model from a BertForPreTraining model).\n",
      "- This IS NOT expected if you are initializing EncoderDecoderModel from the checkpoint of a model that you expect to be exactly identical (initializing a BertForSequenceClassification model from a BertForSequenceClassification model).\n"
     ]
    }
   ],
   "source": [
    "from transformers import LongformerTokenizer, EncoderDecoderModel\n",
    "\n",
    "model = EncoderDecoderModel.from_pretrained(\"patrickvonplaten/longformer2roberta-cnn_dailymail-fp16\").to(device)\n",
    "tokenizer = LongformerTokenizer.from_pretrained(\"allenai/longformer-base-4096\")\n",
    "\n",
    "\n",
    "input_ids = tokenizer(document, return_tensors=\"pt\").input_ids\n",
    "output_ids = model.generate(input_ids.to(device))\n"
   ]
  },
  {
   "cell_type": "code",
   "execution_count": 19,
   "metadata": {
    "colab": {
     "base_uri": "https://localhost:8080/"
    },
    "id": "vFzbYj0Vw03n",
    "outputId": "e2331e8c-dc28-4ad8-c976-cbbe00bc1a86"
   },
   "outputs": [
    {
     "name": "stdout",
     "output_type": "stream",
     "text": [
      "The Molonglo River was recorded as the Yeal-am-bidgie in 1820 by explorer Charles Throsby.\n",
      "It was later referred to as the Limestone River, and the Fish River, which was later called Canberry.\n",
      "In 1824 there were about 2,500 European people living in the area.\n",
      "The indigenous population declined to less than a hundred by 1840.\n",
      "By 1851 there were 2,000 European people in the district.\n"
     ]
    }
   ],
   "source": [
    "\n",
    "print(tokenizer.decode(output_ids[0], skip_special_tokens=True))"
   ]
  },
  {
   "cell_type": "code",
   "execution_count": null,
   "metadata": {
    "id": "z7kEQiiww0w4"
   },
   "outputs": [],
   "source": []
  }
 ],
 "metadata": {
  "accelerator": "GPU",
  "colab": {
   "gpuType": "V100",
   "provenance": []
  },
  "kernelspec": {
   "display_name": "Python 3 (ipykernel)",
   "language": "python",
   "name": "python3"
  },
  "language_info": {
   "codemirror_mode": {
    "name": "ipython",
    "version": 3
   },
   "file_extension": ".py",
   "mimetype": "text/x-python",
   "name": "python",
   "nbconvert_exporter": "python",
   "pygments_lexer": "ipython3",
   "version": "3.11.4"
  }
 },
 "nbformat": 4,
 "nbformat_minor": 1
}
