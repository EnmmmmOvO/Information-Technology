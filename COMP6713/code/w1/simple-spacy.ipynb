{
 "cells": [
  {
   "cell_type": "code",
   "execution_count": 6,
   "id": "84066ad8",
   "metadata": {},
   "outputs": [
    {
     "name": "stdout",
     "output_type": "stream",
     "text": [
      "Sentences are:\n",
      "This PRON this DT nsubj Xxxx True True\n",
      "is AUX be VBZ aux xx True True\n",
      "going VERB go VBG ROOT xxxx True False\n",
      "to PART to TO aux xx True True\n",
      "be AUX be VB xcomp xx True True\n",
      "a DET a DT det x True True\n",
      "fun NOUN fun NN amod xxx True False\n",
      "course NOUN course NN attr xxxx True False\n",
      "! PUNCT ! . punct ! False False\n"
     ]
    }
   ],
   "source": [
    "\n",
    "import spacy\n",
    "\n",
    "class SimplySpacy:\n",
    "\tdef __init__(self):\n",
    "\t\tself.nlp = spacy.load(\"en_core_web_sm\")\n",
    "\n",
    "\tdef print_word_information(self, text = \"This is going to be a fun course!\"):\n",
    "\t\tdoc = self.nlp(text)\n",
    "\t\tprint(\"Sentences are:\")\n",
    "\t\tfor token in doc:\n",
    "\t\t\tprint(token.text, token.pos_, token.lemma_, token.tag_, token.dep_, token.shape_, token.is_alpha, token.is_stop)\n",
    "\n",
    "sp = SimplySpacy()\n",
    "sp.print_word_information()"
   ]
  },
  {
   "cell_type": "code",
   "execution_count": 7,
   "id": "04004008",
   "metadata": {},
   "outputs": [
    {
     "name": "stdout",
     "output_type": "stream",
     "text": [
      "Sentences are:\n",
      "This is the first sentence.\n",
      "This is the second sentence.\n"
     ]
    }
   ],
   "source": [
    "import spacy\n",
    "\n",
    "class SimplySpacy:\n",
    "\tdef __init__(self):\n",
    "\t\tself.nlp = spacy.load(\"en_core_web_sm\")\n",
    "\n",
    "\tdef print_sentences(self, text = \"This is the first sentence. This is the second sentence.\"):\n",
    "\t\tdoc = self.nlp(text)\n",
    "\t\tprint(\"Sentences are:\")\n",
    "\t\tfor sent in doc.sents:\n",
    "\t\t\tprint(sent.text)\n",
    "\n",
    "sp = SimplySpacy()\n",
    "\n",
    "sp.print_sentences()\n"
   ]
  },
  {
   "cell_type": "code",
   "execution_count": 8,
   "id": "8db92f1a",
   "metadata": {},
   "outputs": [
    {
     "name": "stdout",
     "output_type": "stream",
     "text": [
      "Sentences are:\n",
      "This is the first sentence... mmm.\n",
      "okay?\n",
      "I went to the U.S. 2.5 years ago!\n"
     ]
    }
   ],
   "source": [
    "sp.print_sentences(\"This is the first sentence... mmm. okay? I went to the U.S. 2.5 years ago!\")"
   ]
  },
  {
   "cell_type": "code",
   "execution_count": 10,
   "id": "7f6b10f8",
   "metadata": {},
   "outputs": [
    {
     "name": "stdout",
     "output_type": "stream",
     "text": [
      "I spent my weekend studying. <-> I lead a fun life. 0.6979041434697087\n",
      "I spent my weekend sleeping. <-> I lead a fun life. 0.6887326355620008\n"
     ]
    }
   ],
   "source": [
    "import spacy\n",
    "\n",
    "nlp = spacy.load(\"en_core_web_md\")  # make sure to use larger package!\n",
    "\n",
    "doc1 = nlp(\"I spent my weekend studying.\")\n",
    "doc2 = nlp(\"I spent my weekend sleeping.\")\n",
    "doc3 = nlp(\"I lead a fun life.\")\n",
    "# Similarity of two documents\n",
    "print(doc1, \"<->\", doc3, doc1.similarity(doc3))\n",
    "print(doc2, \"<->\", doc3, doc2.similarity(doc3))"
   ]
  },
  {
   "cell_type": "markdown",
   "id": "0629a40c",
   "metadata": {},
   "source": [
    "** Spacy Matcher **"
   ]
  },
  {
   "cell_type": "code",
   "execution_count": 19,
   "id": "579e2c92",
   "metadata": {},
   "outputs": [
    {
     "name": "stdout",
     "output_type": "stream",
     "text": [
      "Loaded the following cities:  ['sydney', 'melbourne', 'perth', 'adelaide', 'darwin', 'hobart', 'canberra', 'brisbane']\n",
      "Loaded the following dwellings:  ['apartment', 'townhouse', 'villa', 'unit', 'house']\n"
     ]
    }
   ],
   "source": [
    "import spacy\n",
    "from spacy.matcher import PhraseMatcher\n",
    "\n",
    "\n",
    "class OntologyMatcher:\n",
    "    def __init__(self):\n",
    "        self.nlp = spacy.load(\"en_core_web_sm\")\n",
    "\n",
    "        self.matcher = PhraseMatcher(self.nlp.vocab)\n",
    "        cities = [i.strip().lower() for i in open(\"cities\")]\n",
    "        print(\"Loaded the following cities: \", cities)\n",
    "        dwelling_type = [i.strip().lower() for i in open(\"dwellings\")]\n",
    "        print(\"Loaded the following dwellings: \", dwelling_type)\n",
    "        city_patterns = [self.nlp.make_doc(text) for text in cities]\n",
    "        dwelling_patterns = [self.nlp.make_doc(text) for text in dwelling_type]\n",
    "        self.matcher.add(\"City\", city_patterns)\n",
    "        self.matcher.add(\"Dwelling_Type\", dwelling_patterns)\n",
    "\n",
    "    def match_concepts(self, sentence = \"This is an apartment in Sydney.\"):\n",
    "        doc = self.nlp(sentence.lower())\n",
    "        matches = self.matcher(doc)\n",
    "        self.print_output(sentence, doc, matches)\n",
    "\n",
    "    def print_output(self, sentence, doc, matches):\n",
    "        print(\"Sentence: \", sentence)\n",
    "\n",
    "        for match_id, start, end in matches:\n",
    "            span = doc[start:end]\n",
    "            print(span.text, \":\", self.matcher.vocab[match_id].text)\n",
    "\n",
    "om = OntologyMatcher()\n"
   ]
  },
  {
   "cell_type": "code",
   "execution_count": 20,
   "id": "741bd70e",
   "metadata": {},
   "outputs": [
    {
     "name": "stdout",
     "output_type": "stream",
     "text": [
      "Sentence:  This is an apartment in Sydney.\n",
      "apartment : Dwelling_Type\n",
      "sydney : City\n"
     ]
    }
   ],
   "source": [
    "om.match_concepts()"
   ]
  },
  {
   "cell_type": "code",
   "execution_count": null,
   "id": "0f90da3b",
   "metadata": {},
   "outputs": [],
   "source": []
  }
 ],
 "metadata": {
  "kernelspec": {
   "display_name": "Python 3 (ipykernel)",
   "language": "python",
   "name": "python3"
  },
  "language_info": {
   "codemirror_mode": {
    "name": "ipython",
    "version": 3
   },
   "file_extension": ".py",
   "mimetype": "text/x-python",
   "name": "python",
   "nbconvert_exporter": "python",
   "pygments_lexer": "ipython3",
   "version": "3.11.4"
  }
 },
 "nbformat": 4,
 "nbformat_minor": 5
}
