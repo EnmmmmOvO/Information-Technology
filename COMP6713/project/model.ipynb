{
 "cells": [
  {
   "metadata": {},
   "cell_type": "markdown",
   "source": "# SEEK + UNSW COMP6713 -Group Project 2025 Term 1",
   "id": "795e120c77803f2a"
  },
  {
   "metadata": {
    "ExecuteTime": {
     "end_time": "2025-04-25T11:07:07.471797Z",
     "start_time": "2025-04-25T11:07:03.354503Z"
    }
   },
   "cell_type": "code",
   "source": [
    "import torch\n",
    "import os\n",
    "import pandas as pd\n",
    "import warnings\n",
    "from bs4 import BeautifulSoup\n",
    "from transformers import XLMRobertaForSequenceClassification, AdamW, get_linear_schedule_with_warmup, Seq2SeqTrainingArguments, Seq2SeqTrainer, DataCollatorForSeq2Seq, BartTokenizer, BartForConditionalGeneration, logging, XLMRobertaForQuestionAnswering,XLMRobertaTokenizerFast, XLMRobertaConfig\n",
    "from sklearn.metrics import accuracy_score, precision_score, recall_score, f1_score, ConfusionMatrixDisplay\n",
    "from sklearn.model_selection import train_test_split\n",
    "import random\n",
    "from torch.utils.data import Dataset, DataLoader\n",
    "from matplotlib import pyplot as plt\n",
    "from tqdm import tqdm\n",
    "import re\n",
    "from evaluate import load\n",
    "from sentence_transformers import SentenceTransformer, util\n",
    "from thefuzz import fuzz\n",
    "import numpy as np\n",
    "import accelerate\n",
    "from torch import nn\n",
    "\n",
    "warnings.filterwarnings(\"ignore\")\n",
    "logging.set_verbosity_error()\n",
    "\n",
    "device = \"cuda\" if torch.cuda.is_available() else \"mps\" if torch.backends.mps.is_available() else \"cpu\"\n",
    "\n",
    "print(f\"Using device: {device}\")"
   ],
   "id": "4b4fb368ef0b7866",
   "outputs": [
    {
     "name": "stdout",
     "output_type": "stream",
     "text": [
      "Using device: cuda\n"
     ]
    }
   ],
   "execution_count": 1
  },
  {
   "metadata": {},
   "cell_type": "markdown",
   "source": "## Work Arrangement",
   "id": "497d2a31c3c4d5fd"
  },
  {
   "metadata": {
    "ExecuteTime": {
     "end_time": "2025-04-21T05:12:50.193130Z",
     "start_time": "2025-04-21T05:12:50.189689Z"
    }
   },
   "cell_type": "code",
   "source": [
    "label_map = {\"Remote\": 0, \"OnSite\": 1, \"Hybrid\": 2}\n",
    "\n",
    "fields = {\n",
    "    \"Job title\": \"TITLE\",\n",
    "    \"Abstract\": \"ABSTRACT\",\n",
    "    \"Employer\": \"EMPLOYER\",\n",
    "    \"Location\": \"LOCATION\",\n",
    "    \"Highlights\": \"HIGHLIGHTS\",\n",
    "    \"Contents\": \"CONTENTS\",\n",
    "}\n",
    "\n",
    "def parse_arrange_text(text):\n",
    "    result = {}\n",
    "    current_field = None\n",
    "\n",
    "    for line in text.splitlines():\n",
    "        line = line.strip()\n",
    "\n",
    "        if not line:\n",
    "            continue\n",
    "\n",
    "        m = re.match(r\"^([A-Za-z ]+): (.*)$\", line)\n",
    "\n",
    "        if m and m.group(1) in [\"Job title\", \"Abstract\", \"Employer\", \"Location\", \"Highlights\", \"Contents\"]:\n",
    "            current_field = m.group(1)\n",
    "            result[current_field] = m.group(2).strip()\n",
    "        elif current_field:\n",
    "            result[current_field] += \" \" + line\n",
    "\n",
    "    result_list = []\n",
    "    for key, value in result.items():\n",
    "        if key in fields:\n",
    "            result_list.append(f\"[{fields[key]}] {value} [/{fields[key]}]\")\n",
    "\n",
    "    return \" \".join(result_list)"
   ],
   "id": "d27c0dcdb63f9c9c",
   "outputs": [],
   "execution_count": 2
  },
  {
   "metadata": {
    "ExecuteTime": {
     "end_time": "2025-04-21T05:07:00.991573Z",
     "start_time": "2025-04-21T05:07:00.977239Z"
    }
   },
   "cell_type": "code",
   "source": [
    "df = pd.read_csv('dataset/work_arrangements_development_set.csv')\n",
    "df[\"input_list\"] = df[\"job_ad\"].apply(lambda x: parse_arrange_text(x))\n",
    "df[\"label_idx\"] =df[\"y_true\"].map(label_map)"
   ],
   "id": "e22d0483f48ffe35",
   "outputs": [],
   "execution_count": 3
  },
  {
   "metadata": {},
   "cell_type": "markdown",
   "source": [
    "#### XLM RoBERTa Large\n",
    "\n",
    "Add special tokens"
   ],
   "id": "d9bc10b649e6155"
  },
  {
   "metadata": {
    "ExecuteTime": {
     "end_time": "2025-04-21T05:07:06.324886Z",
     "start_time": "2025-04-21T05:07:02.954583Z"
    }
   },
   "cell_type": "code",
   "source": [
    "MODEL_NAME = \"xlm-roberta-large\"\n",
    "tokenizer = XLMRobertaTokenizerFast.from_pretrained(MODEL_NAME)\n",
    "\n",
    "tokenizer.add_special_tokens({\n",
    "    \"additional_special_tokens\":  [\n",
    "        \"[TITLE]\", \"[/TITLE]\",\n",
    "        \"[ABSTRACT]\", \"[/ABSTRACT]\",\n",
    "        \"[EMPLOYER]\", \"[/EMPLOYER]\",\n",
    "        \"[LOCATION]\", \"[/LOCATION]\",\n",
    "        \"[HIGHLIGHTS]\", \"[/HIGHLIGHTS]\",\n",
    "        \"[CONTENTS]\", \"[/CONTENTS]\",\n",
    "        \"[NATION]\", \"[/NATION]\",\n",
    "        \"[ADDITION]\", \"[/ADDITION]\",\n",
    "        \"[CLASS]\", \"[/CLASS]\",\n",
    "        \"[SUBCLASS]\", \"[/SUBCLASS]\"\n",
    "    ],\n",
    "})\n",
    "\n",
    "mdl_arr = XLMRobertaForSequenceClassification.from_pretrained(MODEL_NAME, num_labels=3).to(device)\n",
    "mdl_arr.resize_token_embeddings(len(tokenizer))\n",
    "mdl_arr.to(device)"
   ],
   "id": "12f145b42891d589",
   "outputs": [
    {
     "name": "stderr",
     "output_type": "stream",
     "text": [
      "Some weights of XLMRobertaForSequenceClassification were not initialized from the model checkpoint at xlm-roberta-large and are newly initialized: ['classifier.dense.bias', 'classifier.dense.weight', 'classifier.out_proj.bias', 'classifier.out_proj.weight']\n",
      "You should probably TRAIN this model on a down-stream task to be able to use it for predictions and inference.\n",
      "The new embeddings will be initialized from a multivariate normal distribution that has old embeddings' mean and covariance. As described in this article: https://nlp.stanford.edu/~johnhew/vocab-expansion.html. To disable this, use `mean_resizing=False`\n"
     ]
    },
    {
     "data": {
      "text/plain": [
       "XLMRobertaForSequenceClassification(\n",
       "  (roberta): XLMRobertaModel(\n",
       "    (embeddings): XLMRobertaEmbeddings(\n",
       "      (word_embeddings): Embedding(250022, 1024, padding_idx=1)\n",
       "      (position_embeddings): Embedding(514, 1024, padding_idx=1)\n",
       "      (token_type_embeddings): Embedding(1, 1024)\n",
       "      (LayerNorm): LayerNorm((1024,), eps=1e-05, elementwise_affine=True)\n",
       "      (dropout): Dropout(p=0.1, inplace=False)\n",
       "    )\n",
       "    (encoder): XLMRobertaEncoder(\n",
       "      (layer): ModuleList(\n",
       "        (0-23): 24 x XLMRobertaLayer(\n",
       "          (attention): XLMRobertaAttention(\n",
       "            (self): XLMRobertaSdpaSelfAttention(\n",
       "              (query): Linear(in_features=1024, out_features=1024, bias=True)\n",
       "              (key): Linear(in_features=1024, out_features=1024, bias=True)\n",
       "              (value): Linear(in_features=1024, out_features=1024, bias=True)\n",
       "              (dropout): Dropout(p=0.1, inplace=False)\n",
       "            )\n",
       "            (output): XLMRobertaSelfOutput(\n",
       "              (dense): Linear(in_features=1024, out_features=1024, bias=True)\n",
       "              (LayerNorm): LayerNorm((1024,), eps=1e-05, elementwise_affine=True)\n",
       "              (dropout): Dropout(p=0.1, inplace=False)\n",
       "            )\n",
       "          )\n",
       "          (intermediate): XLMRobertaIntermediate(\n",
       "            (dense): Linear(in_features=1024, out_features=4096, bias=True)\n",
       "            (intermediate_act_fn): GELUActivation()\n",
       "          )\n",
       "          (output): XLMRobertaOutput(\n",
       "            (dense): Linear(in_features=4096, out_features=1024, bias=True)\n",
       "            (LayerNorm): LayerNorm((1024,), eps=1e-05, elementwise_affine=True)\n",
       "            (dropout): Dropout(p=0.1, inplace=False)\n",
       "          )\n",
       "        )\n",
       "      )\n",
       "    )\n",
       "  )\n",
       "  (classifier): XLMRobertaClassificationHead(\n",
       "    (dense): Linear(in_features=1024, out_features=1024, bias=True)\n",
       "    (dropout): Dropout(p=0.1, inplace=False)\n",
       "    (out_proj): Linear(in_features=1024, out_features=3, bias=True)\n",
       "  )\n",
       ")"
      ]
     },
     "execution_count": 4,
     "metadata": {},
     "output_type": "execute_result"
    }
   ],
   "execution_count": 4
  },
  {
   "metadata": {},
   "cell_type": "markdown",
   "source": [
    "#### Process Data\n",
    "\n",
    "use sliding window to process long text"
   ],
   "id": "d683f58178eb8973"
  },
  {
   "metadata": {
    "ExecuteTime": {
     "end_time": "2025-04-21T05:07:09.438275Z",
     "start_time": "2025-04-21T05:07:09.433359Z"
    }
   },
   "cell_type": "code",
   "source": [
    "class SlidingWindowDataset(Dataset):\n",
    "    def __init__(self, texts, labels, tokenizer, max_len=512):\n",
    "        self.texts = texts\n",
    "        self.labels = labels\n",
    "        self.tokenizer = tokenizer\n",
    "        self.max_len = max_len\n",
    "        self.cls_id = tokenizer.cls_token_id\n",
    "        self.sep_id = tokenizer.sep_token_id\n",
    "        self.pad_id = tokenizer.pad_token_id\n",
    "\n",
    "    def __len__(self):\n",
    "        return len(self.texts)\n",
    "\n",
    "    def __getitem__(self, idx):\n",
    "        text = self.texts[idx]\n",
    "        label = self.labels[idx]\n",
    "\n",
    "        encoding = self.tokenizer(\n",
    "            text,\n",
    "            padding=\"max_length\",\n",
    "            add_special_tokens=False\n",
    "        )\n",
    "        tokens = encoding[\"input_ids\"]\n",
    "\n",
    "        max_body = self.max_len - 2\n",
    "        if len(tokens) > max_body:\n",
    "            start = random.randint(0, len(tokens) - max_body)\n",
    "            tokens = tokens[start : start + max_body]\n",
    "\n",
    "        input_ids = [self.cls_id] + tokens + [self.sep_id]\n",
    "        attention_mask = [1] * len(input_ids)\n",
    "\n",
    "        pad_len = self.max_len - len(input_ids)\n",
    "        input_ids += [self.pad_id] * pad_len\n",
    "        attention_mask += [0] * pad_len\n",
    "\n",
    "        return {\n",
    "            \"input_ids\": torch.tensor(input_ids, dtype=torch.long),\n",
    "            \"attention_mask\": torch.tensor(attention_mask, dtype=torch.long),\n",
    "            \"labels\": torch.tensor(label, dtype=torch.long),\n",
    "        }"
   ],
   "id": "a8c6321a81f5dd9d",
   "outputs": [],
   "execution_count": 5
  },
  {
   "metadata": {
    "ExecuteTime": {
     "end_time": "2025-04-21T05:07:11.509494Z",
     "start_time": "2025-04-21T05:07:11.504442Z"
    }
   },
   "cell_type": "code",
   "source": [
    "train_df, val_df = train_test_split(\n",
    "    df,\n",
    "    test_size=0.2,\n",
    "    random_state=42,\n",
    "    stratify=df[\"label_idx\"]\n",
    ")\n",
    "\n",
    "train_dataset = SlidingWindowDataset(\n",
    "    train_df[\"input_list\"].tolist(),\n",
    "    train_df[\"label_idx\"].tolist(),\n",
    "    tokenizer,\n",
    "    max_len=512\n",
    ")\n",
    "val_dataset = SlidingWindowDataset(\n",
    "    val_df[\"input_list\"].tolist(),\n",
    "    val_df[\"label_idx\"].tolist(),\n",
    "    tokenizer,\n",
    "    max_len=512\n",
    ")\n",
    "\n",
    "train_loader = DataLoader(train_dataset, batch_size=8, shuffle=True)\n",
    "val_loader = DataLoader(val_dataset, batch_size=8, shuffle=False)"
   ],
   "id": "b4f46bef3bf2251e",
   "outputs": [],
   "execution_count": 6
  },
  {
   "metadata": {},
   "cell_type": "markdown",
   "source": "#### Train Model",
   "id": "5ff4dfc687c48171"
  },
  {
   "metadata": {
    "ExecuteTime": {
     "end_time": "2025-04-21T05:10:17.144686Z",
     "start_time": "2025-04-21T05:07:13.281198Z"
    }
   },
   "cell_type": "code",
   "source": [
    "EPOCHS = 20\n",
    "\n",
    "total_steps = len(train_loader) * EPOCHS\n",
    "optimizer = AdamW(mdl_arr.parameters(), lr=2e-5, weight_decay=0.01)\n",
    "scheduler = get_linear_schedule_with_warmup(\n",
    "    optimizer,\n",
    "    num_warmup_steps=int(0.1 * total_steps),\n",
    "    num_training_steps=total_steps\n",
    ")\n",
    "train_losses : list[float] = []\n",
    "val_losses : list[float] = []\n",
    "val_acc : list[float] = []\n",
    "\n",
    "for epoch in range(EPOCHS):\n",
    "    mdl_arr.train()\n",
    "    train_loss = 0.0\n",
    "    for batch in tqdm(train_loader, desc=f\"Training Epoch {epoch + 1}/{EPOCHS}\"):\n",
    "        input_ids = batch[\"input_ids\"].to(device)\n",
    "        assert input_ids.size(1) <= 512, f\"Found sequence of length {input_ids.size(1)}\"\n",
    "\n",
    "        attention_mask = batch[\"attention_mask\"].to(device)\n",
    "        labels = batch[\"labels\"].to(device)\n",
    "\n",
    "        outputs = mdl_arr(input_ids, attention_mask=attention_mask, labels=labels)\n",
    "        loss = outputs.loss\n",
    "        train_loss += loss.item()\n",
    "\n",
    "        loss.backward()\n",
    "        optimizer.step()\n",
    "        scheduler.step()\n",
    "        optimizer.zero_grad()\n",
    "\n",
    "    avg_train_loss = train_loss / len(train_loader)\n",
    "    print(f\"Average training loss: {avg_train_loss:.4f}\")\n",
    "    train_losses.append(avg_train_loss)\n",
    "\n",
    "    mdl_arr.eval()\n",
    "    val_loss, correct, total = 0.0, 0, 0\n",
    "    with torch.no_grad():\n",
    "        for batch in val_loader:\n",
    "            input_ids      = batch[\"input_ids\"].to(device)\n",
    "            attention_mask = batch[\"attention_mask\"].to(device)\n",
    "            labels_batch   = batch[\"labels\"].to(device)\n",
    "\n",
    "            outputs = mdl_arr(\n",
    "                input_ids=input_ids,\n",
    "                attention_mask=attention_mask,\n",
    "                labels=labels_batch\n",
    "            )\n",
    "            val_loss += outputs.loss.item()\n",
    "            preds = outputs.logits.argmax(dim=-1)\n",
    "            correct += (preds == labels_batch).sum().item()\n",
    "            total += labels_batch.size(0)\n",
    "\n",
    "    print(f\"Validation loss: {val_loss / len(val_loader):.4f}, Accuracy: {correct / total:.4f}\")\n",
    "    val_losses.append(val_loss / len(val_loader))\n",
    "    val_acc.append(correct / total)\n",
    "\n",
    "    save_dir = f\"model/mdl_arr_epoch{epoch+1}\"\n",
    "    mdl_arr.save_pretrained(save_dir)\n",
    "    tokenizer.save_pretrained(save_dir)"
   ],
   "id": "15c896813729ccbc",
   "outputs": [
    {
     "name": "stderr",
     "output_type": "stream",
     "text": [
      "Training Epoch 1/20: 100%|█████████████████████████████████████████████████████████████| 10/10 [00:06<00:00,  1.50it/s]\n"
     ]
    },
    {
     "name": "stdout",
     "output_type": "stream",
     "text": [
      "Average training loss: 1.0984\n",
      "Validation loss: 1.0528, Accuracy: 0.4500\n"
     ]
    },
    {
     "name": "stderr",
     "output_type": "stream",
     "text": [
      "Training Epoch 2/20: 100%|█████████████████████████████████████████████████████████████| 10/10 [00:06<00:00,  1.50it/s]\n"
     ]
    },
    {
     "name": "stdout",
     "output_type": "stream",
     "text": [
      "Average training loss: 1.0770\n",
      "Validation loss: 1.0490, Accuracy: 0.4500\n"
     ]
    },
    {
     "name": "stderr",
     "output_type": "stream",
     "text": [
      "Training Epoch 3/20: 100%|█████████████████████████████████████████████████████████████| 10/10 [00:06<00:00,  1.52it/s]\n"
     ]
    },
    {
     "name": "stdout",
     "output_type": "stream",
     "text": [
      "Average training loss: 1.0848\n",
      "Validation loss: 1.0514, Accuracy: 0.4500\n"
     ]
    },
    {
     "name": "stderr",
     "output_type": "stream",
     "text": [
      "Training Epoch 4/20: 100%|█████████████████████████████████████████████████████████████| 10/10 [00:07<00:00,  1.40it/s]\n"
     ]
    },
    {
     "name": "stdout",
     "output_type": "stream",
     "text": [
      "Average training loss: 1.0830\n",
      "Validation loss: 1.0465, Accuracy: 0.4500\n"
     ]
    },
    {
     "name": "stderr",
     "output_type": "stream",
     "text": [
      "Training Epoch 5/20: 100%|█████████████████████████████████████████████████████████████| 10/10 [00:08<00:00,  1.22it/s]\n"
     ]
    },
    {
     "name": "stdout",
     "output_type": "stream",
     "text": [
      "Average training loss: 1.0600\n",
      "Validation loss: 1.0297, Accuracy: 0.4500\n"
     ]
    },
    {
     "name": "stderr",
     "output_type": "stream",
     "text": [
      "Training Epoch 6/20: 100%|█████████████████████████████████████████████████████████████| 10/10 [00:06<00:00,  1.47it/s]\n"
     ]
    },
    {
     "name": "stdout",
     "output_type": "stream",
     "text": [
      "Average training loss: 1.0476\n",
      "Validation loss: 0.9829, Accuracy: 0.4500\n"
     ]
    },
    {
     "name": "stderr",
     "output_type": "stream",
     "text": [
      "Training Epoch 7/20: 100%|█████████████████████████████████████████████████████████████| 10/10 [00:06<00:00,  1.48it/s]\n"
     ]
    },
    {
     "name": "stdout",
     "output_type": "stream",
     "text": [
      "Average training loss: 0.8934\n",
      "Validation loss: 0.9937, Accuracy: 0.5500\n"
     ]
    },
    {
     "name": "stderr",
     "output_type": "stream",
     "text": [
      "Training Epoch 8/20: 100%|█████████████████████████████████████████████████████████████| 10/10 [00:06<00:00,  1.48it/s]\n"
     ]
    },
    {
     "name": "stdout",
     "output_type": "stream",
     "text": [
      "Average training loss: 0.8698\n",
      "Validation loss: 0.8623, Accuracy: 0.5000\n"
     ]
    },
    {
     "name": "stderr",
     "output_type": "stream",
     "text": [
      "Training Epoch 9/20: 100%|█████████████████████████████████████████████████████████████| 10/10 [00:06<00:00,  1.50it/s]\n"
     ]
    },
    {
     "name": "stdout",
     "output_type": "stream",
     "text": [
      "Average training loss: 0.6599\n",
      "Validation loss: 0.7505, Accuracy: 0.8000\n"
     ]
    },
    {
     "name": "stderr",
     "output_type": "stream",
     "text": [
      "Training Epoch 10/20: 100%|████████████████████████████████████████████████████████████| 10/10 [00:06<00:00,  1.49it/s]\n"
     ]
    },
    {
     "name": "stdout",
     "output_type": "stream",
     "text": [
      "Average training loss: 0.4583\n",
      "Validation loss: 1.1461, Accuracy: 0.6500\n"
     ]
    },
    {
     "name": "stderr",
     "output_type": "stream",
     "text": [
      "Training Epoch 11/20: 100%|████████████████████████████████████████████████████████████| 10/10 [00:06<00:00,  1.50it/s]\n"
     ]
    },
    {
     "name": "stdout",
     "output_type": "stream",
     "text": [
      "Average training loss: 0.3461\n",
      "Validation loss: 0.9175, Accuracy: 0.6500\n"
     ]
    },
    {
     "name": "stderr",
     "output_type": "stream",
     "text": [
      "Training Epoch 12/20: 100%|████████████████████████████████████████████████████████████| 10/10 [00:06<00:00,  1.49it/s]\n"
     ]
    },
    {
     "name": "stdout",
     "output_type": "stream",
     "text": [
      "Average training loss: 0.2885\n",
      "Validation loss: 0.9600, Accuracy: 0.5500\n"
     ]
    },
    {
     "name": "stderr",
     "output_type": "stream",
     "text": [
      "Training Epoch 13/20: 100%|████████████████████████████████████████████████████████████| 10/10 [00:06<00:00,  1.50it/s]\n"
     ]
    },
    {
     "name": "stdout",
     "output_type": "stream",
     "text": [
      "Average training loss: 0.2135\n",
      "Validation loss: 0.7558, Accuracy: 0.6500\n"
     ]
    },
    {
     "name": "stderr",
     "output_type": "stream",
     "text": [
      "Training Epoch 14/20: 100%|████████████████████████████████████████████████████████████| 10/10 [00:06<00:00,  1.49it/s]\n"
     ]
    },
    {
     "name": "stdout",
     "output_type": "stream",
     "text": [
      "Average training loss: 0.1548\n",
      "Validation loss: 1.0190, Accuracy: 0.5500\n"
     ]
    },
    {
     "name": "stderr",
     "output_type": "stream",
     "text": [
      "Training Epoch 15/20: 100%|████████████████████████████████████████████████████████████| 10/10 [00:06<00:00,  1.48it/s]\n"
     ]
    },
    {
     "name": "stdout",
     "output_type": "stream",
     "text": [
      "Average training loss: 0.0863\n",
      "Validation loss: 1.0164, Accuracy: 0.6500\n"
     ]
    },
    {
     "name": "stderr",
     "output_type": "stream",
     "text": [
      "Training Epoch 16/20: 100%|████████████████████████████████████████████████████████████| 10/10 [00:06<00:00,  1.50it/s]\n"
     ]
    },
    {
     "name": "stdout",
     "output_type": "stream",
     "text": [
      "Average training loss: 0.0579\n",
      "Validation loss: 0.8792, Accuracy: 0.8000\n"
     ]
    },
    {
     "name": "stderr",
     "output_type": "stream",
     "text": [
      "Training Epoch 17/20: 100%|████████████████████████████████████████████████████████████| 10/10 [00:06<00:00,  1.49it/s]\n"
     ]
    },
    {
     "name": "stdout",
     "output_type": "stream",
     "text": [
      "Average training loss: 0.0621\n",
      "Validation loss: 1.1734, Accuracy: 0.6500\n"
     ]
    },
    {
     "name": "stderr",
     "output_type": "stream",
     "text": [
      "Training Epoch 18/20: 100%|████████████████████████████████████████████████████████████| 10/10 [00:06<00:00,  1.50it/s]\n"
     ]
    },
    {
     "name": "stdout",
     "output_type": "stream",
     "text": [
      "Average training loss: 0.0536\n",
      "Validation loss: 1.0394, Accuracy: 0.6500\n"
     ]
    },
    {
     "name": "stderr",
     "output_type": "stream",
     "text": [
      "Training Epoch 19/20: 100%|████████████████████████████████████████████████████████████| 10/10 [00:06<00:00,  1.49it/s]\n"
     ]
    },
    {
     "name": "stdout",
     "output_type": "stream",
     "text": [
      "Average training loss: 0.0522\n",
      "Validation loss: 1.1111, Accuracy: 0.7000\n"
     ]
    },
    {
     "name": "stderr",
     "output_type": "stream",
     "text": [
      "Training Epoch 20/20: 100%|████████████████████████████████████████████████████████████| 10/10 [00:06<00:00,  1.49it/s]\n"
     ]
    },
    {
     "name": "stdout",
     "output_type": "stream",
     "text": [
      "Average training loss: 0.0512\n",
      "Validation loss: 1.1251, Accuracy: 0.7000\n"
     ]
    }
   ],
   "execution_count": 7
  },
  {
   "metadata": {
    "ExecuteTime": {
     "end_time": "2025-04-21T05:10:19.613187Z",
     "start_time": "2025-04-21T05:10:19.505902Z"
    }
   },
   "cell_type": "code",
   "source": [
    "epochs = list(range(1, EPOCHS + 1))\n",
    "plt.figure(figsize=(8, 5))\n",
    "plt.plot(epochs, train_losses, label='Train Loss', marker='o')\n",
    "plt.plot(epochs, val_losses, label='Validation Loss', marker='o')\n",
    "plt.plot(epochs, val_acc, label='Accuracy', marker='o')\n",
    "plt.xlabel('Epoch')\n",
    "plt.ylabel('Value')\n",
    "plt.title('Training Loss, Validation Loss and Accuracy')\n",
    "plt.xticks(epochs)\n",
    "plt.legend()\n",
    "plt.grid(True)\n",
    "plt.tight_layout()\n",
    "plt.show()"
   ],
   "id": "620cd810af612d85",
   "outputs": [
    {
     "data": {
      "text/plain": [
       "<Figure size 800x500 with 1 Axes>"
      ],
      "image/png": "[encoded data removed]"
     },
     "metadata": {},
     "output_type": "display_data"
    }
   ],
   "execution_count": 8
  },
  {
   "metadata": {},
   "cell_type": "markdown",
   "source": [
    "#### Test Model\n",
    "\n",
    "If the input is too long, use average pooling"
   ],
   "id": "ffffda6149a81df6"
  },
  {
   "metadata": {
    "ExecuteTime": {
     "end_time": "2025-04-21T05:12:51.525088Z",
     "start_time": "2025-04-21T05:12:51.521084Z"
    }
   },
   "cell_type": "code",
   "source": [
    "def sliding_window_predict(\n",
    "        text: str,\n",
    "        model: XLMRobertaForSequenceClassification,\n",
    "        tokenizer: XLMRobertaTokenizerFast,\n",
    "        device: torch.device,\n",
    "        max_len: int = 512,\n",
    "        stride: int = 256,\n",
    ") -> int:\n",
    "    model.eval()\n",
    "    enc = tokenizer(\n",
    "        text,\n",
    "        truncation=True,\n",
    "        max_length=max_len,\n",
    "        stride=stride,\n",
    "        return_overflowing_tokens=True,\n",
    "        padding=\"max_length\",\n",
    "        return_tensors=\"pt\",\n",
    "    )\n",
    "    input_ids = enc[\"input_ids\"].to(device)\n",
    "    attention_mask = enc[\"attention_mask\"].to(device)\n",
    "\n",
    "    all_logits = []\n",
    "    with torch.no_grad():\n",
    "        for i in range(input_ids.size(0)):\n",
    "            out = model(\n",
    "                input_ids=input_ids[i : i + 1],\n",
    "                attention_mask=attention_mask[i : i + 1],\n",
    "            )\n",
    "            all_logits.append(out.logits.squeeze(0))  # (num_labels,)\n",
    "\n",
    "    avg_logits = torch.stack(all_logits, dim=0).mean(dim=0)\n",
    "    return int(avg_logits.argmax().cpu())"
   ],
   "id": "77b1152ce62ced98",
   "outputs": [],
   "execution_count": 3
  },
  {
   "metadata": {
    "ExecuteTime": {
     "end_time": "2025-04-21T05:12:53.767118Z",
     "start_time": "2025-04-21T05:12:53.757122Z"
    }
   },
   "cell_type": "code",
   "source": [
    "df = pd.read_csv('dataset/work_arrangements_test_set.csv')\n",
    "df[\"input_list\"] = df[\"job_ad\"].apply(lambda x: parse_arrange_text(x))\n",
    "df[\"label_idx\"] =df[\"y_true\"].map(label_map)"
   ],
   "id": "89f5e4153e4638f",
   "outputs": [],
   "execution_count": 4
  },
  {
   "metadata": {},
   "cell_type": "markdown",
   "source": "Based on the validation results, we selected epochs 9 and 13 for testing because they achieved the lowest loss. Interestingly, although epoch 13 had a lower accuracy on the validation set, it outperformed epoch 9 on the much larger test set. This discrepancy is likely due to the very small size of the validation set, which makes its estimates less stable.",
   "id": "fe1fc2370e4f8ec9"
  },
  {
   "metadata": {
    "ExecuteTime": {
     "end_time": "2025-04-21T05:18:09.936666Z",
     "start_time": "2025-04-21T05:18:08.577570Z"
    }
   },
   "cell_type": "code",
   "source": [
    "mdl_arr = XLMRobertaForSequenceClassification.from_pretrained(\"model/mdl_arr_epoch13\", local_files_only=True)\n",
    "tokenizer = XLMRobertaTokenizerFast.from_pretrained(\"model/mdl_arr_epoch13\", local_files_only=True)\n",
    "mdl_arr.to(device)"
   ],
   "id": "82eadcccb36ba2e5",
   "outputs": [
    {
     "data": {
      "text/plain": [
       "XLMRobertaForSequenceClassification(\n",
       "  (roberta): XLMRobertaModel(\n",
       "    (embeddings): XLMRobertaEmbeddings(\n",
       "      (word_embeddings): Embedding(250022, 1024, padding_idx=1)\n",
       "      (position_embeddings): Embedding(514, 1024, padding_idx=1)\n",
       "      (token_type_embeddings): Embedding(1, 1024)\n",
       "      (LayerNorm): LayerNorm((1024,), eps=1e-05, elementwise_affine=True)\n",
       "      (dropout): Dropout(p=0.1, inplace=False)\n",
       "    )\n",
       "    (encoder): XLMRobertaEncoder(\n",
       "      (layer): ModuleList(\n",
       "        (0-23): 24 x XLMRobertaLayer(\n",
       "          (attention): XLMRobertaAttention(\n",
       "            (self): XLMRobertaSdpaSelfAttention(\n",
       "              (query): Linear(in_features=1024, out_features=1024, bias=True)\n",
       "              (key): Linear(in_features=1024, out_features=1024, bias=True)\n",
       "              (value): Linear(in_features=1024, out_features=1024, bias=True)\n",
       "              (dropout): Dropout(p=0.1, inplace=False)\n",
       "            )\n",
       "            (output): XLMRobertaSelfOutput(\n",
       "              (dense): Linear(in_features=1024, out_features=1024, bias=True)\n",
       "              (LayerNorm): LayerNorm((1024,), eps=1e-05, elementwise_affine=True)\n",
       "              (dropout): Dropout(p=0.1, inplace=False)\n",
       "            )\n",
       "          )\n",
       "          (intermediate): XLMRobertaIntermediate(\n",
       "            (dense): Linear(in_features=1024, out_features=4096, bias=True)\n",
       "            (intermediate_act_fn): GELUActivation()\n",
       "          )\n",
       "          (output): XLMRobertaOutput(\n",
       "            (dense): Linear(in_features=4096, out_features=1024, bias=True)\n",
       "            (LayerNorm): LayerNorm((1024,), eps=1e-05, elementwise_affine=True)\n",
       "            (dropout): Dropout(p=0.1, inplace=False)\n",
       "          )\n",
       "        )\n",
       "      )\n",
       "    )\n",
       "  )\n",
       "  (classifier): XLMRobertaClassificationHead(\n",
       "    (dense): Linear(in_features=1024, out_features=1024, bias=True)\n",
       "    (dropout): Dropout(p=0.1, inplace=False)\n",
       "    (out_proj): Linear(in_features=1024, out_features=3, bias=True)\n",
       "  )\n",
       ")"
      ]
     },
     "execution_count": 14,
     "metadata": {},
     "output_type": "execute_result"
    }
   ],
   "execution_count": 14
  },
  {
   "metadata": {
    "ExecuteTime": {
     "end_time": "2025-04-21T05:18:17.026338Z",
     "start_time": "2025-04-21T05:18:11.770048Z"
    }
   },
   "cell_type": "code",
   "source": [
    "df = pd.read_csv(\"dataset/test_arrangement.csv\")\n",
    "\n",
    "pred = []\n",
    "for text in tqdm(df[\"input_list\"]):\n",
    "    pred.append(sliding_window_predict(text, mdl_arr, tokenizer, device))\n"
   ],
   "id": "33bbe9cc8dcbfd6f",
   "outputs": [
    {
     "name": "stderr",
     "output_type": "stream",
     "text": [
      "100%|██████████████████████████████████████████████████████████████████████████████████| 99/99 [00:05<00:00, 18.88it/s]\n"
     ]
    }
   ],
   "execution_count": 15
  },
  {
   "metadata": {
    "ExecuteTime": {
     "end_time": "2025-04-21T05:18:18.464538Z",
     "start_time": "2025-04-21T05:18:18.457242Z"
    }
   },
   "cell_type": "code",
   "source": [
    "acc  = accuracy_score(df[\"label_idx\"], pred)\n",
    "prec = precision_score(df[\"label_idx\"], pred, average=\"macro\")\n",
    "rec  = recall_score(df[\"label_idx\"], pred, average=\"macro\")\n",
    "f1   = f1_score(df[\"label_idx\"], pred, average=\"macro\")\n",
    "\n",
    "print(f\"Accuracy : {acc:.4f}\")\n",
    "print(f\"Precision: {prec:.4f}\")\n",
    "print(f\"Recall   : {rec:.4f}\")\n",
    "print(f\"F1-score : {f1:.4f}\")"
   ],
   "id": "fc854f7035a6d824",
   "outputs": [
    {
     "name": "stdout",
     "output_type": "stream",
     "text": [
      "Accuracy : 0.6970\n",
      "Precision: 0.7380\n",
      "Recall   : 0.7023\n",
      "F1-score : 0.7031\n"
     ]
    }
   ],
   "execution_count": 16
  },
  {
   "metadata": {
    "ExecuteTime": {
     "end_time": "2025-04-21T05:35:40.179097Z",
     "start_time": "2025-04-21T05:35:40.110995Z"
    }
   },
   "cell_type": "code",
   "source": [
    "disp = ConfusionMatrixDisplay.from_predictions(\n",
    "    y_true=df[\"label_idx\"],\n",
    "    y_pred=pred,\n",
    "    display_labels=label_map.keys(),\n",
    "    cmap=\"Blues\",\n",
    "    normalize=None\n",
    ")\n",
    "\n",
    "plt.title(\"Confusion Matrix\")\n",
    "plt.tight_layout()\n",
    "plt.show()"
   ],
   "id": "2cdfc6c4dd4f0520",
   "outputs": [
    {
     "data": {
      "text/plain": [
       "<Figure size 640x480 with 2 Axes>"
      ],
      "image/png": "[encoded data removed]"
     },
     "metadata": {},
     "output_type": "display_data"
    }
   ],
   "execution_count": 20
  },
  {
   "metadata": {},
   "cell_type": "markdown",
   "source": [
    "#### Confusion Matrix Analysis\n",
    "\n",
    "Below is the 3×3 confusion matrix for the Work Arrangement task (True × Predicted):\n",
    "\n",
    "| True \\ Predicted | Remote | OnSite | Hybrid |\n",
    "|------------------|:------:|:------:|:------:|\n",
    "| **Remote**       |   18   |    1   |    7   |\n",
    "| **OnSite**       |    0   |   31   |   15   |\n",
    "| **Hybrid**       |    2   |    5   |   20   |\n",
    "\n",
    "##### Per‑Class Precision & Recall\n",
    "\n",
    "- **Remote**\n",
    "  - **Precision** = 18 / (18 + 0 + 2) = **90.0%**\n",
    "  - **Recall**    = 18 / (18 + 1 + 7) = **69.2%**\n",
    "  - **Insight**: Most true Remote jobs are correctly flagged, and few non‑Remote are misclassified as Remote. However, 7 Remote postings are mistaken for Hybrid.\n",
    "\n",
    "- **OnSite**\n",
    "  - **Precision** = 31 / (1 + 31 + 5) = **83.8%**\n",
    "  - **Recall**    = 31 / (0 + 31 + 15) = **67.4%**\n",
    "  - **Insight**: Pure OnSite roles are often recognized, but 15 of them leak into Hybrid—indicating confusion between “strictly on‑site” and “mixed” setups.\n",
    "\n",
    "- **Hybrid**\n",
    "  - **Precision** = 20 / (7 + 15 + 20) = **47.6%**\n",
    "  - **Recall**    = 20 / (2 + 5 + 20) = **74.1%**\n",
    "  - **Insight**: While most true Hybrid roles are captured, nearly half of the “Hybrid” predictions are actually Remote or OnSite, showing that the model over‑assigns the Hybrid label as a default “gray area.”\n",
    "\n",
    "##### Major Error Patterns\n",
    "\n",
    "1. **OnSite → Hybrid** (15 cases)\n",
    "2. **Remote → Hybrid** (7 cases)\n",
    "3. **Hybrid → OnSite** (5 cases)\n",
    "\n",
    "In other words, **Hybrid** acts as a “catch‑all” when the model is uncertain, leading to many false positives."
   ],
   "id": "544bbce8c8865070"
  },
  {
   "metadata": {},
   "cell_type": "markdown",
   "source": "## Seniority",
   "id": "33f5c406143f846b"
  },
  {
   "metadata": {},
   "cell_type": "markdown",
   "source": [
    "#### Process Data\n",
    "\n",
    "Removing HTML structure to reduce token count would impact the number of tokens but offers little practical benefit."
   ],
   "id": "2923ade7dc0bd677"
  },
  {
   "metadata": {},
   "cell_type": "code",
   "outputs": [],
   "execution_count": 10,
   "source": [
    "def remove_html_tags(text):\n",
    "    soup = BeautifulSoup(text, \"html.parser\")\n",
    "    return soup.get_text(\" \", strip=True)"
   ],
   "id": "f014bd7f94d2bab6"
  },
  {
   "metadata": {
    "ExecuteTime": {
     "end_time": "2025-04-23T12:41:04.160709Z",
     "start_time": "2025-04-23T12:41:04.155204Z"
    }
   },
   "cell_type": "code",
   "source": [
    "def parse_salary_row(row):\n",
    "    parts = []\n",
    "\n",
    "    if pd.notna(row[\"job_title\"]):\n",
    "        parts.append(f\"[TITLE] {row['job_title'].strip()} [/TITLE]\")\n",
    "\n",
    "    if pd.notna(row[\"job_summary\"]):\n",
    "        parts.append(f\"[ABSTRACT] {row['job_summary'].strip()} [/ABSTRACT]\")\n",
    "\n",
    "    if pd.notna(row[\"temp\"]):\n",
    "        parts.append(f\"[CONTENTS] {row['temp'].strip()} [/CONTENTS]\")\n",
    "\n",
    "    if pd.notna(row[\"classification_name\"]):\n",
    "        parts.append(f\"[CLASS] {row['classification_name'].strip()} [/CLASS]\")\n",
    "\n",
    "    if pd.notna(row[\"subclassification_name\"]):\n",
    "        parts.append(f\"[SUBCLASS] {row['subclassification_name'].strip()} [/SUBCLASS]\")\n",
    "\n",
    "    return \" \".join(parts)"
   ],
   "id": "8684988cb4041407",
   "outputs": [],
   "execution_count": 11
  },
  {
   "metadata": {
    "ExecuteTime": {
     "end_time": "2025-04-22T16:20:37.577380Z",
     "start_time": "2025-04-22T16:20:36.270164Z"
    }
   },
   "cell_type": "code",
   "source": [
    "df = pd.read_csv('dataset/seniority_labelled_development_set.csv')\n",
    "df[\"temp\"] = df[\"job_ad_details\"].apply(lambda x: remove_html_tags(x))\n",
    "df[\"input_list\"] = df.apply(parse_salary_row, axis=1)"
   ],
   "id": "99277619c3d03a0a",
   "outputs": [],
   "execution_count": 4
  },
  {
   "metadata": {},
   "cell_type": "markdown",
   "source": "#### Bart Large",
   "id": "e97c71d7542d9015"
  },
  {
   "metadata": {
    "ExecuteTime": {
     "end_time": "2025-04-22T16:20:39.936436Z",
     "start_time": "2025-04-22T16:20:37.681642Z"
    }
   },
   "cell_type": "code",
   "source": [
    "tokenizer = BartTokenizer.from_pretrained(\"facebook/bart-large\")\n",
    "added = tokenizer.add_special_tokens({\n",
    "    \"additional_special_tokens\": [\n",
    "        \"[TITLE]\", \"[/TITLE]\",\n",
    "        \"[ABSTRACT]\", \"[/ABSTRACT]\",\n",
    "        \"[EMPLOYER]\", \"[/EMPLOYER]\",\n",
    "        \"[LOCATION]\", \"[/LOCATION]\",\n",
    "        \"[HIGHLIGHTS]\", \"[/HIGHLIGHTS]\",\n",
    "        \"[CONTENTS]\", \"[/CONTENTS]\",\n",
    "        \"[NATION]\", \"[/NATION]\",\n",
    "        \"[ADDITION]\", \"[/ADDITION]\",\n",
    "        \"[CLASS]\", \"[/CLASS]\",\n",
    "        \"[SUBCLASS]\", \"[/SUBCLASS]\"\n",
    "    ]\n",
    "})\n",
    "\n",
    "model = BartForConditionalGeneration.from_pretrained(\"facebook/bart-large\")\n",
    "model.resize_token_embeddings(len(tokenizer))"
   ],
   "id": "7ad69a5c5771a37d",
   "outputs": [
    {
     "data": {
      "text/plain": [
       "BartScaledWordEmbedding(50285, 1024, padding_idx=1)"
      ]
     },
     "execution_count": 5,
     "metadata": {},
     "output_type": "execute_result"
    }
   ],
   "execution_count": 5
  },
  {
   "metadata": {
    "ExecuteTime": {
     "end_time": "2025-04-23T12:41:07.516451Z",
     "start_time": "2025-04-23T12:41:07.513034Z"
    }
   },
   "cell_type": "code",
   "source": [
    "class SlidingWindowDatasetMT5(Dataset):\n",
    "    def __init__(self, texts, labels, tokenizer, max_input_len=512, max_target_len=12):\n",
    "        self.texts    = texts\n",
    "        self.labels   = [str(l) for l in labels]\n",
    "        self.tokenizer= tokenizer\n",
    "        self.max_input_len  = max_input_len\n",
    "        self.max_target_len = max_target_len\n",
    "\n",
    "    def __len__(self):\n",
    "        return len(self.texts)\n",
    "\n",
    "    def __getitem__(self, idx):\n",
    "        text  = self.texts[idx]\n",
    "        label = self.labels[idx]\n",
    "\n",
    "        enc = self.tokenizer(\n",
    "            text,\n",
    "            add_special_tokens=True,\n",
    "            truncation=True,\n",
    "            max_length=self.max_input_len,\n",
    "            return_attention_mask=True,\n",
    "        )\n",
    "        input_ids      = enc[\"input_ids\"]\n",
    "        attention_mask = enc[\"attention_mask\"]\n",
    "\n",
    "        tgt = self.tokenizer(\n",
    "            label,\n",
    "            add_special_tokens=True,\n",
    "            truncation=True,\n",
    "            max_length=self.max_target_len,\n",
    "        )\n",
    "        labels = tgt[\"input_ids\"]\n",
    "\n",
    "        return {\n",
    "            \"input_ids\":      torch.tensor(input_ids, dtype=torch.long),\n",
    "            \"attention_mask\": torch.tensor(attention_mask, dtype=torch.long),\n",
    "            \"labels\":         torch.tensor(labels, dtype=torch.long),\n",
    "        }"
   ],
   "id": "98908c903480b3cd",
   "outputs": [],
   "execution_count": 12
  },
  {
   "metadata": {},
   "cell_type": "markdown",
   "source": [
    "#### Evaluation\n",
    "\n",
    "Because our task requires open-ended label generation—where tokens like “large” and “big” carry the same meaning but never match character for character—we use the pre-trained sentence embedding model paraphrase-multilingual-MiniLM-L12-v2 to judge semantic equivalence.  By computing the cosine similarity between these embeddings, we capture true semantic closeness rather than mere string overlap.  As a result, lexically different but conceptually identical outputs are correctly scored as accurate, making our evaluation both more robust and more reflective of real language variation."
   ],
   "id": "6a3a5b711089bcea"
  },
  {
   "metadata": {
    "ExecuteTime": {
     "end_time": "2025-04-23T12:41:12.799505Z",
     "start_time": "2025-04-23T12:41:09.325091Z"
    }
   },
   "cell_type": "code",
   "source": [
    "sbert  = SentenceTransformer(\"paraphrase-multilingual-MiniLM-L12-v2\")\n",
    "alpha  = 0.5"
   ],
   "id": "8de94287b48a4f33",
   "outputs": [],
   "execution_count": 13
  },
  {
   "metadata": {
    "ExecuteTime": {
     "end_time": "2025-04-23T12:41:12.849436Z",
     "start_time": "2025-04-23T12:41:12.845157Z"
    }
   },
   "cell_type": "code",
   "source": [
    "def compute_metrics(eval_preds):\n",
    "    pred_ids, label_ids = eval_preds\n",
    "\n",
    "    decoded_preds = tokenizer.batch_decode(\n",
    "        pred_ids, skip_special_tokens=True\n",
    "    )\n",
    "    cleaned_labels = [\n",
    "        [(l if l >= 0 else tokenizer.pad_token_id) for l in seq]\n",
    "        for seq in label_ids\n",
    "    ]\n",
    "    decoded_labels = tokenizer.batch_decode(\n",
    "        cleaned_labels, skip_special_tokens=True\n",
    "    )\n",
    "\n",
    "    pairs = [\n",
    "        (p.strip(), r.strip())\n",
    "        for p, r in zip(decoded_preds, decoded_labels)\n",
    "        if p.strip() and r.strip()\n",
    "    ]\n",
    "    if not pairs:\n",
    "        return {\n",
    "            \"mean_semantic_similarity\": 0.0,\n",
    "            \"mean_string_similarity\":   0.0,\n",
    "            \"mean_hybrid_similarity\":   0.0,\n",
    "            \"exact_match_rate\":         0.0,\n",
    "        }\n",
    "\n",
    "    preds, refs = zip(*pairs)\n",
    "\n",
    "    emb_preds = sbert.encode(preds, convert_to_tensor=True)\n",
    "    emb_refs  = sbert.encode(refs,  convert_to_tensor=True)\n",
    "    sim_matrix = util.cos_sim(emb_preds, emb_refs)\n",
    "    sim_sem    = torch.diagonal(sim_matrix).cpu().numpy()\n",
    "\n",
    "    sim_str = np.array([fuzz.ratio(p, r) / 100.0\n",
    "                        for p, r in zip(preds, refs)])\n",
    "\n",
    "    sim_hybrid = alpha * sim_sem + (1 - alpha) * sim_str\n",
    "\n",
    "    exact_matches = np.array([1.0 if p == r else 0.0\n",
    "                              for p, r in zip(preds, refs)])\n",
    "\n",
    "    return {\n",
    "        \"mean_semantic_similarity\": float(np.mean(sim_sem)),\n",
    "        \"mean_string_similarity\":   float(np.mean(sim_str)),\n",
    "        \"mean_hybrid_similarity\":   float(np.mean(sim_hybrid)),\n",
    "        \"exact_match_rate\":         float(np.mean(exact_matches)),\n",
    "    }"
   ],
   "id": "1384777882d8d49a",
   "outputs": [],
   "execution_count": 14
  },
  {
   "metadata": {},
   "cell_type": "markdown",
   "source": "#### Train Model",
   "id": "f5c8cdf5da2ec435"
  },
  {
   "metadata": {
    "ExecuteTime": {
     "end_time": "2025-04-22T16:20:43.956107Z",
     "start_time": "2025-04-22T16:20:43.951987Z"
    }
   },
   "cell_type": "code",
   "source": [
    "train_df, val_df = train_test_split(\n",
    "    df,\n",
    "    test_size=0.2,\n",
    ")\n",
    "\n",
    "train_dataset = SlidingWindowDatasetMT5(\n",
    "    train_df[\"input_list\"].tolist(),\n",
    "    train_df[\"y_true\"].tolist(),\n",
    "    tokenizer,\n",
    "    max_input_len=1024,\n",
    "    max_target_len=12\n",
    ")\n",
    "\n",
    "val_dataset = SlidingWindowDatasetMT5(\n",
    "    val_df[\"input_list\"].tolist(),\n",
    "    val_df[\"y_true\"].tolist(),\n",
    "    tokenizer,\n",
    "    max_input_len=1024,\n",
    "    max_target_len=12\n",
    ")\n",
    "\n",
    "data_collator = DataCollatorForSeq2Seq(\n",
    "    tokenizer,\n",
    "    model=model,\n",
    "    padding=\"longest\",\n",
    "    label_pad_token_id=tokenizer.pad_token_id,\n",
    ")"
   ],
   "id": "757b3849d5aad7d1",
   "outputs": [],
   "execution_count": 9
  },
  {
   "metadata": {
    "ExecuteTime": {
     "end_time": "2025-04-22T16:35:07.684759Z",
     "start_time": "2025-04-22T16:20:43.978014Z"
    }
   },
   "cell_type": "code",
   "source": [
    "training_args = Seq2SeqTrainingArguments(\n",
    "    output_dir=\"model\",\n",
    "    predict_with_generate=True,\n",
    "    evaluation_strategy=\"steps\",\n",
    "    save_strategy=\"steps\",\n",
    "    eval_steps=125,\n",
    "    save_steps=125,\n",
    "    load_best_model_at_end=True,\n",
    "    metric_for_best_model=\"mean_hybrid_similarity\",\n",
    "    greater_is_better=True,\n",
    "    per_device_train_batch_size=4,\n",
    "    per_device_eval_batch_size=4,\n",
    "    num_train_epochs=4,\n",
    "    logging_strategy=\"steps\",\n",
    "    logging_steps=125,\n",
    "    fp16=True,\n",
    "    disable_tqdm=False,\n",
    "    learning_rate=3e-5,\n",
    "    warmup_ratio=0.1,\n",
    ")\n",
    "\n",
    "trainer = Seq2SeqTrainer(\n",
    "    model=model,\n",
    "    args=training_args,\n",
    "    train_dataset=train_dataset,\n",
    "    eval_dataset=val_dataset,\n",
    "    data_collator=data_collator,\n",
    "    compute_metrics=compute_metrics,\n",
    ")\n",
    "trainer.train()"
   ],
   "id": "4ab77ac850ff0e9",
   "outputs": [
    {
     "data": {
      "text/plain": [
       "<IPython.core.display.HTML object>"
      ],
      "text/html": [
       "\n",
       "    <div>\n",
       "      \n",
       "      <progress value='2204' max='2204' style='width:300px; height:20px; vertical-align: middle;'></progress>\n",
       "      [2204/2204 14:22, Epoch 4/4]\n",
       "    </div>\n",
       "    <table border=\"1\" class=\"dataframe\">\n",
       "  <thead>\n",
       " <tr style=\"text-align: left;\">\n",
       "      <th>Step</th>\n",
       "      <th>Training Loss</th>\n",
       "      <th>Validation Loss</th>\n",
       "      <th>Mean Semantic Similarity</th>\n",
       "      <th>Mean String Similarity</th>\n",
       "      <th>Mean Hybrid Similarity</th>\n",
       "      <th>Exact Match Rate</th>\n",
       "    </tr>\n",
       "  </thead>\n",
       "  <tbody>\n",
       "    <tr>\n",
       "      <td>125</td>\n",
       "      <td>2.905200</td>\n",
       "      <td>1.866767</td>\n",
       "      <td>0.663092</td>\n",
       "      <td>0.607332</td>\n",
       "      <td>0.635212</td>\n",
       "      <td>0.426497</td>\n",
       "    </tr>\n",
       "    <tr>\n",
       "      <td>250</td>\n",
       "      <td>1.227800</td>\n",
       "      <td>1.808222</td>\n",
       "      <td>0.712646</td>\n",
       "      <td>0.666334</td>\n",
       "      <td>0.689490</td>\n",
       "      <td>0.504537</td>\n",
       "    </tr>\n",
       "    <tr>\n",
       "      <td>375</td>\n",
       "      <td>0.976100</td>\n",
       "      <td>1.558843</td>\n",
       "      <td>0.730976</td>\n",
       "      <td>0.691706</td>\n",
       "      <td>0.711341</td>\n",
       "      <td>0.542650</td>\n",
       "    </tr>\n",
       "    <tr>\n",
       "      <td>500</td>\n",
       "      <td>0.738000</td>\n",
       "      <td>2.120743</td>\n",
       "      <td>0.513301</td>\n",
       "      <td>0.430967</td>\n",
       "      <td>0.472134</td>\n",
       "      <td>0.202555</td>\n",
       "    </tr>\n",
       "    <tr>\n",
       "      <td>625</td>\n",
       "      <td>0.595500</td>\n",
       "      <td>0.756124</td>\n",
       "      <td>0.764870</td>\n",
       "      <td>0.724083</td>\n",
       "      <td>0.744477</td>\n",
       "      <td>0.586207</td>\n",
       "    </tr>\n",
       "    <tr>\n",
       "      <td>750</td>\n",
       "      <td>0.537400</td>\n",
       "      <td>1.341034</td>\n",
       "      <td>0.697960</td>\n",
       "      <td>0.640799</td>\n",
       "      <td>0.669379</td>\n",
       "      <td>0.484574</td>\n",
       "    </tr>\n",
       "    <tr>\n",
       "      <td>875</td>\n",
       "      <td>0.590000</td>\n",
       "      <td>0.779192</td>\n",
       "      <td>0.770981</td>\n",
       "      <td>0.726189</td>\n",
       "      <td>0.748585</td>\n",
       "      <td>0.588022</td>\n",
       "    </tr>\n",
       "    <tr>\n",
       "      <td>1000</td>\n",
       "      <td>0.432700</td>\n",
       "      <td>0.775121</td>\n",
       "      <td>0.768085</td>\n",
       "      <td>0.727078</td>\n",
       "      <td>0.747582</td>\n",
       "      <td>0.589837</td>\n",
       "    </tr>\n",
       "    <tr>\n",
       "      <td>1125</td>\n",
       "      <td>0.426600</td>\n",
       "      <td>1.028754</td>\n",
       "      <td>0.763187</td>\n",
       "      <td>0.720399</td>\n",
       "      <td>0.741793</td>\n",
       "      <td>0.593466</td>\n",
       "    </tr>\n",
       "    <tr>\n",
       "      <td>1250</td>\n",
       "      <td>0.426800</td>\n",
       "      <td>0.810413</td>\n",
       "      <td>0.757169</td>\n",
       "      <td>0.717786</td>\n",
       "      <td>0.737477</td>\n",
       "      <td>0.584392</td>\n",
       "    </tr>\n",
       "    <tr>\n",
       "      <td>1375</td>\n",
       "      <td>0.359800</td>\n",
       "      <td>0.810428</td>\n",
       "      <td>0.786724</td>\n",
       "      <td>0.748348</td>\n",
       "      <td>0.767536</td>\n",
       "      <td>0.633394</td>\n",
       "    </tr>\n",
       "    <tr>\n",
       "      <td>1500</td>\n",
       "      <td>0.369100</td>\n",
       "      <td>0.839196</td>\n",
       "      <td>0.803808</td>\n",
       "      <td>0.768857</td>\n",
       "      <td>0.786332</td>\n",
       "      <td>0.655172</td>\n",
       "    </tr>\n",
       "    <tr>\n",
       "      <td>1625</td>\n",
       "      <td>0.352700</td>\n",
       "      <td>0.779366</td>\n",
       "      <td>0.800243</td>\n",
       "      <td>0.761579</td>\n",
       "      <td>0.780911</td>\n",
       "      <td>0.655172</td>\n",
       "    </tr>\n",
       "    <tr>\n",
       "      <td>1750</td>\n",
       "      <td>0.323500</td>\n",
       "      <td>0.736776</td>\n",
       "      <td>0.801014</td>\n",
       "      <td>0.766189</td>\n",
       "      <td>0.783601</td>\n",
       "      <td>0.655172</td>\n",
       "    </tr>\n",
       "    <tr>\n",
       "      <td>1875</td>\n",
       "      <td>0.304800</td>\n",
       "      <td>0.761140</td>\n",
       "      <td>0.801028</td>\n",
       "      <td>0.765898</td>\n",
       "      <td>0.783463</td>\n",
       "      <td>0.656987</td>\n",
       "    </tr>\n",
       "    <tr>\n",
       "      <td>2000</td>\n",
       "      <td>0.319000</td>\n",
       "      <td>0.790438</td>\n",
       "      <td>0.802977</td>\n",
       "      <td>0.763739</td>\n",
       "      <td>0.783358</td>\n",
       "      <td>0.651543</td>\n",
       "    </tr>\n",
       "    <tr>\n",
       "      <td>2125</td>\n",
       "      <td>0.303500</td>\n",
       "      <td>0.991664</td>\n",
       "      <td>0.800369</td>\n",
       "      <td>0.763793</td>\n",
       "      <td>0.782081</td>\n",
       "      <td>0.655172</td>\n",
       "    </tr>\n",
       "  </tbody>\n",
       "</table><p>"
      ]
     },
     "metadata": {},
     "output_type": "display_data"
    },
    {
     "data": {
      "text/plain": [
       "TrainOutput(global_step=2204, training_loss=0.6455184102274761, metrics={'train_runtime': 863.3327, 'train_samples_per_second': 10.198, 'train_steps_per_second': 2.553, 'total_flos': 1.1671803174100992e+16, 'train_loss': 0.6455184102274761, 'epoch': 4.0})"
      ]
     },
     "execution_count": 10,
     "metadata": {},
     "output_type": "execute_result"
    }
   ],
   "execution_count": 10
  },
  {
   "metadata": {
    "ExecuteTime": {
     "end_time": "2025-04-23T12:27:02.700587Z",
     "start_time": "2025-04-23T12:27:02.553115Z"
    }
   },
   "cell_type": "code",
   "source": [
    "df = pd.read_csv(\"result.csv\")\n",
    "\n",
    "fig, axes = plt.subplots(1, 2, figsize=(16, 5))\n",
    "\n",
    "axes[0].plot(df['Step'], df['Training Loss'], label='Training Loss', marker='o')\n",
    "axes[0].plot(df['Step'], df['Validation Loss'], label='Validation Loss', marker='o')\n",
    "axes[0].set_xlabel('Step')\n",
    "axes[0].set_ylabel('Loss')\n",
    "axes[0].set_title('Training and Validation Loss')\n",
    "axes[0].legend()\n",
    "\n",
    "axes[1].plot(df['Step'], df['Mean Semantic Similarity'], label='Semantic Sim', marker='o')\n",
    "axes[1].plot(df['Step'], df['Mean String Similarity'],   label='String Sim', marker='.')\n",
    "axes[1].plot(df['Step'], df['Mean Hybrid Similarity'],   label='Hybrid Sim', marker='s')\n",
    "axes[1].plot(df['Step'], df['Exact Match Rate'],         label='Exact Match Rate', marker='x')\n",
    "axes[1].set_xlabel('Step')\n",
    "axes[1].set_ylabel('Metric Value')\n",
    "axes[1].set_title('Similarity Metrics and Exact Match Rate')\n",
    "axes[1].legend()\n",
    "\n",
    "plt.tight_layout()\n",
    "plt.show()"
   ],
   "id": "343a8ef37024f9d0",
   "outputs": [
    {
     "data": {
      "text/plain": [
       "<Figure size 1600x500 with 2 Axes>"
      ],
      "image/png": "[encoded data removed]"
     },
     "metadata": {},
     "output_type": "display_data"
    }
   ],
   "execution_count": 9
  },
  {
   "metadata": {},
   "cell_type": "markdown",
   "source": "#### Test Model",
   "id": "e9ca8b379e7d05ee"
  },
  {
   "metadata": {
    "ExecuteTime": {
     "end_time": "2025-04-23T12:42:11.639279Z",
     "start_time": "2025-04-23T12:42:10.896422Z"
    }
   },
   "cell_type": "code",
   "source": [
    "checkpoint = \"model/checkpoint-1500\"\n",
    "\n",
    "tokenizer = BartTokenizer.from_pretrained(\"facebook/bart-large\")\n",
    "tokenizer.add_special_tokens({\n",
    "    \"additional_special_tokens\":[\n",
    "        \"[TITLE]\", \"[/TITLE]\", \"[ABSTRACT]\", \"[/ABSTRACT]\",\n",
    "        \"[EMPLOYER]\", \"[/EMPLOYER]\", \"[LOCATION]\", \"[/LOCATION]\",\n",
    "        \"[HIGHLIGHTS]\", \"[/HIGHLIGHTS]\", \"[CONTENTS]\", \"[/CONTENTS]\",\n",
    "        \"[NATION]\", \"[/NATION]\", \"[ADDITION]\", \"[/ADDITION]\",\n",
    "        \"[CLASS]\", \"[/CLASS]\", \"[SUBCLASS]\", \"[/SUBCLASS]\"\n",
    "    ]\n",
    "})\n",
    "\n",
    "model = BartForConditionalGeneration.from_pretrained(checkpoint)\n",
    "model.resize_token_embeddings(len(tokenizer))"
   ],
   "id": "86a59cfa06247a10",
   "outputs": [
    {
     "data": {
      "text/plain": [
       "BartScaledWordEmbedding(50285, 1024, padding_idx=1)"
      ]
     },
     "execution_count": 16,
     "metadata": {},
     "output_type": "execute_result"
    }
   ],
   "execution_count": 16
  },
  {
   "metadata": {
    "ExecuteTime": {
     "end_time": "2025-04-23T12:42:14.621578Z",
     "start_time": "2025-04-23T12:42:14.268021Z"
    }
   },
   "cell_type": "code",
   "source": [
    "df = pd.read_csv('dataset/seniority_labelled_test_set.csv')\n",
    "df[\"temp\"] = df[\"job_ad_details\"].apply(lambda x: remove_html_tags(x))\n",
    "df[\"input_list\"] = df.apply(parse_salary_row, axis=1)"
   ],
   "id": "68a4ec68f397160d",
   "outputs": [],
   "execution_count": 17
  },
  {
   "metadata": {
    "ExecuteTime": {
     "end_time": "2025-04-23T12:42:15.868706Z",
     "start_time": "2025-04-23T12:42:15.863181Z"
    }
   },
   "cell_type": "code",
   "source": [
    "ds = SlidingWindowDatasetMT5(\n",
    "    df[\"input_list\"].tolist(),\n",
    "    df[\"y_true\"].tolist(),\n",
    "    tokenizer,\n",
    "    max_input_len=1024,\n",
    "    max_target_len=12\n",
    ")"
   ],
   "id": "b8108a4c9011216f",
   "outputs": [],
   "execution_count": 18
  },
  {
   "metadata": {
    "ExecuteTime": {
     "end_time": "2025-04-23T12:43:14.112211Z",
     "start_time": "2025-04-23T12:42:17.293695Z"
    }
   },
   "cell_type": "code",
   "source": [
    "eval_args = Seq2SeqTrainingArguments(\n",
    "    output_dir=\"eval_tmp\",\n",
    "    per_device_eval_batch_size=4,\n",
    "    predict_with_generate=True,\n",
    "    logging_strategy=\"no\",\n",
    ")\n",
    "\n",
    "data_collator = DataCollatorForSeq2Seq(\n",
    "    tokenizer=tokenizer,\n",
    "    model=model,\n",
    "    padding=\"longest\",\n",
    "    label_pad_token_id=tokenizer.pad_token_id,\n",
    ")\n",
    "\n",
    "trainer = Seq2SeqTrainer(\n",
    "    model=model,\n",
    "    args=eval_args,\n",
    "    tokenizer=tokenizer,\n",
    "    data_collator=data_collator,\n",
    "    compute_metrics=compute_metrics,\n",
    ")\n",
    "\n",
    "metrics = trainer.evaluate(eval_dataset=ds)"
   ],
   "id": "39e15c2ff1439fa4",
   "outputs": [
    {
     "name": "stdout",
     "output_type": "stream",
     "text": [
      "{'eval_loss': 0.8604002594947815, 'eval_model_preparation_time': 0.0025, 'eval_mean_semantic_similarity': 0.784532368183136, 'eval_mean_string_similarity': 0.7467489114658926, 'eval_mean_hybrid_similarity': 0.7656406061292905, 'eval_exact_match_rate': 0.613933236574746, 'eval_runtime': 55.3722, 'eval_samples_per_second': 12.443, 'eval_steps_per_second': 3.124}\n"
     ]
    }
   ],
   "execution_count": 19
  },
  {
   "metadata": {
    "ExecuteTime": {
     "end_time": "2025-04-23T12:43:19.461049Z",
     "start_time": "2025-04-23T12:43:19.455410Z"
    }
   },
   "cell_type": "code",
   "source": [
    "print(\"== Final Test Metrics ==\")\n",
    "print(f\"Mean Semantic Similarity : {metrics['eval_mean_semantic_similarity']:.4f}\")\n",
    "print(f\"Mean String Similarity   : {metrics['eval_mean_string_similarity']:.4f}\")\n",
    "print(f\"Mean Best Similarity     : {metrics.get('eval_mean_best_similarity', metrics['eval_mean_hybrid_similarity']):.4f}\")\n",
    "print(f\"Exact Match Rate         : {metrics['eval_exact_match_rate']:.4f}\")"
   ],
   "id": "843047050fd45fa",
   "outputs": [
    {
     "name": "stdout",
     "output_type": "stream",
     "text": [
      "== Final Test Metrics ==\n",
      "Mean Semantic Similarity : 0.7845\n",
      "Mean String Similarity   : 0.7467\n",
      "Mean Best Similarity     : 0.7656\n",
      "Exact Match Rate         : 0.6139\n"
     ]
    }
   ],
   "execution_count": 20
  },
  {
   "metadata": {},
   "cell_type": "markdown",
   "source": [
    "#### Analysis\n",
    "\n",
    "- **High Semantic Alignment (0.7845)**\n",
    "  A mean SBERT cosine of ~0.78 tells us that, on average, the model’s predictions occupy very similar regions of semantic space as the references.  In practice this means most generated labels—even if phrased differently—carry the correct concept.\n",
    "- **Strong Surface Matching (0.7467)**\n",
    "  A fuzzy‐ratio string score of ~0.75 shows that beyond pure meaning, the model often reproduces labels with high character‐level overlap.  There’s still a ~25% gap from perfect surface match, indicating occasional synonyms, abbreviations, or formatting differences.\n",
    "- **Best‐of‐Both Worlds (0.7656)**\n",
    "  By taking the higher of semantic vs. string similarity per example, we get ~0.77.  This “best similarity” gives the model the benefit of the doubt: if it’s phrased differently but semantically correct, it still earns credit.  It sits naturally between the two individual metrics.\n",
    "- **Strict Exact Match (0.6139)**\n",
    "  Only ~61% of predictions are character‐perfect matches.  This gap underscores that while the model “understands” most labels (high semantic score), it still often diverges in phrasing.  Improving normalization (e.g. mapping synonyms back to canonical forms) or extending beam search could raise this."
   ],
   "id": "77174456d2e6ebc5"
  },
  {
   "metadata": {},
   "cell_type": "markdown",
   "source": "## Salary",
   "id": "1eabc9d6600ab854"
  },
  {
   "metadata": {},
   "cell_type": "markdown",
   "source": [
    "#### Preprocess Text Part 1\n",
    "\n",
    "First, preprocess these sections by removing any HTML formatting, then merge the multiple parts into a single CSV file."
   ],
   "id": "ee646882057d2751"
  },
  {
   "metadata": {
    "ExecuteTime": {
     "end_time": "2025-04-25T11:07:12.779059Z",
     "start_time": "2025-04-25T11:07:12.757639Z"
    }
   },
   "cell_type": "code",
   "source": [
    "def remove_html_tags(text):\n",
    "    soup = BeautifulSoup(text, \"html.parser\")\n",
    "    return soup.get_text(\" \", strip=True)"
   ],
   "id": "f1822756329b6d87",
   "outputs": [],
   "execution_count": 2
  },
  {
   "metadata": {
    "ExecuteTime": {
     "end_time": "2025-04-25T11:07:13.652145Z",
     "start_time": "2025-04-25T11:07:13.634545Z"
    }
   },
   "cell_type": "code",
   "source": [
    "def parse_salary_row(row):\n",
    "    parts = []\n",
    "\n",
    "    if pd.notna(row[\"job_title\"]):\n",
    "        parts.append(f\" {row['job_title'].strip()} \")\n",
    "\n",
    "    if pd.notna(row[\"temp\"]):\n",
    "        parts.append(f\" {row['temp'].strip()} \")\n",
    "\n",
    "    if pd.notna(row[\"nation_short_desc\"]):\n",
    "        parts.append(f\" {row['nation_short_desc'].strip()} \")\n",
    "\n",
    "    if pd.notna(row[\"salary_additional_text\"]):\n",
    "        parts.append(f\" {row['salary_additional_text'].strip()} \")\n",
    "\n",
    "    return \" \".join(parts).replace(\"\\n\", \" \").replace(\"\\r\", \" \").replace(\"\\t\", \" \").strip()"
   ],
   "id": "ddcd13d15d627958",
   "outputs": [],
   "execution_count": 3
  },
  {
   "metadata": {
    "ExecuteTime": {
     "end_time": "2025-04-25T10:52:21.062415Z",
     "start_time": "2025-04-25T10:52:19.757824Z"
    }
   },
   "cell_type": "code",
   "source": [
    "df = pd.read_csv('dataset/salary_labelled_development_set.csv')\n",
    "df[\"temp\"] = df[\"job_ad_details\"].apply(lambda x: remove_html_tags(x))\n",
    "df[\"input_list\"] = df.apply(parse_salary_row, axis=1)\n",
    "\n",
    "df.to_csv('dataset/dev_salary.csv', columns=[\"input_list\", \"y_true\"], index=False)"
   ],
   "id": "f29aa281edbe9935",
   "outputs": [],
   "execution_count": 5
  },
  {
   "metadata": {},
   "cell_type": "markdown",
   "source": [
    "#### Preprocess Text Part 2\n",
    "\n",
    "##### Min and Max Salary\n",
    "We used Label Studio to annotate the minimum and maximum salary values for every job ad, producing a JSON file that records each “min” and “max” span’s character positions. For example:\n",
    "\n",
    "```json\n",
    "[\n",
    "    {\n",
    "      \"input_list\": \"Financial Account … Compensation 17500 Compensation Range ₱15,000 - ₱20,000 PH\",\n",
    "      \"y_true\": \"17500-17500-PHP-MONTHLY\",\n",
    "      \"id\": 1,\n",
    "      \"label\": [\n",
    "        {\n",
    "          \"start\": 1291,\n",
    "          \"end\": 1296,\n",
    "          \"text\": \"17500\",\n",
    "          \"labels\": [\"MIN\"]\n",
    "        }\n",
    "      ],\n",
    "      \"annotator\": 1,\n",
    "      \"annotation_id\": 1,\n",
    "      \"created_at\": \"2025-04-24T09:51:52.308486Z\",\n",
    "      \"updated_at\": \"2025-04-24T09:58:01.055057Z\",\n",
    "      \"lead_time\": 101.4\n",
    "    }\n",
    "]\n",
    "```\n",
    "\n",
    "During review, we discovered 30 annotations where the annotated min/max salary did not actually appear in the text; because this is a very small fraction, we excluded those entries.\n",
    "\n",
    "We also corrected a few cases where the min/max spans had been marked at the wrong positions, re-annotating them based on their true semantic context.\n",
    "\n",
    "##### Period and Currency\n",
    "Based on our training analysis, we observed that currency and period follow consistent, predictable patterns. Consequently, we reformulated the generation task as a quantitative classification problem, significantly improving our pre-neural network’s accuracy."
   ],
   "id": "daf9d329daa78bb4"
  },
  {
   "metadata": {
    "ExecuteTime": {
     "end_time": "2025-04-25T09:02:13.672517Z",
     "start_time": "2025-04-25T09:02:13.632500Z"
    }
   },
   "cell_type": "code",
   "source": [
    "period = { 'MONTHLY': 0, 'HOURLY': 1, 'ANNUAL': 2, 'DAILY': 3, 'WEEKLY': 4, 'OTHER': 5  }\n",
    "currency = { 'PHP': 0, 'HKD': 1, 'NZD': 2, 'MYR': 3, 'AUD': 4, 'SGD': 5, 'THB': 6, 'IDR': 7, 'USD': 8, 'OTHER': 9 }\n",
    "\n",
    "df = pd.read_json('dataset/label.json')\n",
    "mask = df['label'].isna() & (df['y_true'] != '0-0-None-None')\n",
    "df = df.loc[~mask].reset_index(drop=True)\n",
    "df['label'] = df['label'].apply(lambda x: x if isinstance(x, list) else [])\n",
    "df['currency'] = df['y_true'].apply(lambda x: currency.get(x.split('-')[2], 9))\n",
    "df['period'] = df['y_true'].apply(lambda x: period.get(x.split('-')[3], 5))"
   ],
   "id": "4d6b26c5c8de647b",
   "outputs": [],
   "execution_count": 2
  },
  {
   "metadata": {
    "ExecuteTime": {
     "end_time": "2025-04-25T10:52:24.749551Z",
     "start_time": "2025-04-25T10:52:24.736094Z"
    }
   },
   "cell_type": "code",
   "source": [
    "class SalaryQAAndClassDataset(Dataset):\n",
    "    def __init__(self, input_list, currency, period, label, tokenizer, max_len=4096):\n",
    "        self.input_list = input_list\n",
    "        self.currency   = currency\n",
    "        self.period     = period\n",
    "        self.spans_list = label\n",
    "        self.tokenizer  = tokenizer\n",
    "        self.max_length = max_len\n",
    "\n",
    "    def __len__(self):\n",
    "        return len(self.input_list)\n",
    "\n",
    "    def __getitem__(self, idx):\n",
    "        text   = self.input_list[idx]\n",
    "        spans  = self.spans_list[idx]\n",
    "        enc = self.tokenizer(\n",
    "            text,\n",
    "            return_tensors=\"pt\",\n",
    "            return_offsets_mapping=True,\n",
    "            padding=\"max_length\",\n",
    "            truncation=True,\n",
    "            max_length=self.max_length,\n",
    "        )\n",
    "        input_ids      = enc[\"input_ids\"].squeeze(0)\n",
    "        attention_mask = enc[\"attention_mask\"].squeeze(0)\n",
    "        offsets        = enc[\"offset_mapping\"].squeeze(0)\n",
    "\n",
    "        min_start_pos = min_end_pos = max_start_pos = max_end_pos = 0\n",
    "\n",
    "        for ent in spans:\n",
    "            s_char, e_char = ent[\"start\"], ent[\"end\"] - 1\n",
    "            tok_s = enc.char_to_token(s_char)\n",
    "            tok_e = enc.char_to_token(e_char)\n",
    "            if tok_s is None or tok_e is None:\n",
    "                continue\n",
    "\n",
    "            if \"MIN\" in ent[\"labels\"]:\n",
    "                min_start_pos = tok_s\n",
    "                min_end_pos   = tok_e\n",
    "            if \"MAX\" in ent[\"labels\"]:\n",
    "                max_start_pos = tok_s\n",
    "                max_end_pos   = tok_e\n",
    "\n",
    "        return {\n",
    "            \"input_ids\":           input_ids,\n",
    "            \"attention_mask\":      attention_mask,\n",
    "            \"min_start_positions\": torch.tensor(min_start_pos, dtype=torch.long),\n",
    "            \"min_end_positions\":   torch.tensor(min_end_pos,   dtype=torch.long),\n",
    "            \"max_start_positions\": torch.tensor(max_start_pos, dtype=torch.long),\n",
    "            \"max_end_positions\":   torch.tensor(max_end_pos,   dtype=torch.long),\n",
    "            \"currency_labels\":     torch.tensor(self.currency[idx], dtype=torch.long),\n",
    "            \"time_labels\":         torch.tensor(self.period[idx],   dtype=torch.long),\n",
    "        }"
   ],
   "id": "beed15a12943ec69",
   "outputs": [],
   "execution_count": 6
  },
  {
   "metadata": {},
   "cell_type": "markdown",
   "source": [
    "#### Model Definition\n",
    "\n",
    "Salary extraction (span extraction) and attribute classification (currency/period) are fundamentally two different tasks: the former requires precisely locating the numeric spans in the text, while the latter requires determining the class of the entire sentence.\n",
    "\n",
    "We attach a QA‐style span head to both the “minimum salary” and “maximum salary” tasks to predict their start and end positions, and we add two classification heads—on top of the CLS pooled vector—for “currency type” and “payment period” to perform multi‐class classification.\n",
    "\n",
    "All of these tasks share the same XLM-RoBERTa encoder, allowing the lower-level token and sentence representations to be “borrowed” across tasks: the global semantics learned by the classification heads help the span heads better distinguish contextual boundaries, and vice versa."
   ],
   "id": "1fea382ce1f2ff55"
  },
  {
   "metadata": {
    "ExecuteTime": {
     "end_time": "2025-04-25T11:07:19.588391Z",
     "start_time": "2025-04-25T11:07:19.579997Z"
    }
   },
   "cell_type": "code",
   "source": [
    "class MultiTaskModel(XLMRobertaForQuestionAnswering):\n",
    "    def __init__(self, model_name, num_currency, num_time):\n",
    "        config = XLMRobertaConfig.from_pretrained(model_name)\n",
    "\n",
    "        super().__init__(config)\n",
    "\n",
    "        pretrained = XLMRobertaForQuestionAnswering.from_pretrained(model_name)\n",
    "        self.load_state_dict(pretrained.state_dict(), strict=False)\n",
    "\n",
    "        self.min_qa_outputs = nn.Linear(config.hidden_size, 2)\n",
    "        self.max_qa_outputs = nn.Linear(config.hidden_size, 2)\n",
    "\n",
    "        self.currency_classifier = nn.Linear(config.hidden_size, num_currency)\n",
    "        self.time_classifier     = nn.Linear(config.hidden_size, num_time)\n",
    "\n",
    "        self.init_weights()\n",
    "\n",
    "    def forward(\n",
    "        self,\n",
    "        input_ids,\n",
    "        attention_mask=None,\n",
    "        min_start_positions=None,\n",
    "        min_end_positions=None,\n",
    "        max_start_positions=None,\n",
    "        max_end_positions=None,\n",
    "        currency_labels=None,\n",
    "        time_labels=None,\n",
    "    ):\n",
    "        outputs = self.roberta(\n",
    "            input_ids=input_ids,\n",
    "            attention_mask=attention_mask,\n",
    "            return_dict=True,\n",
    "        )\n",
    "        seq_out = outputs.last_hidden_state  # (B, L, H)\n",
    "        pooled = seq_out[:, 0, :]            # (B, H)\n",
    "\n",
    "        min_logits = self.min_qa_outputs(seq_out)   # (B, L, 2)\n",
    "        min_start_logits, min_end_logits = min_logits.split(1, dim=-1)\n",
    "        min_start_logits = min_start_logits.squeeze(-1)  # (B, L)\n",
    "        min_end_logits   = min_end_logits.squeeze(-1)    # (B, L)\n",
    "\n",
    "        max_logits = self.max_qa_outputs(seq_out)   # (B, L, 2)\n",
    "        max_start_logits, max_end_logits = max_logits.split(1, dim=-1)\n",
    "        max_start_logits = max_start_logits.squeeze(-1)\n",
    "        max_end_logits   = max_end_logits.squeeze(-1)\n",
    "\n",
    "        curr_logits = self.currency_classifier(pooled)  # (B, C)\n",
    "        time_logits = self.time_classifier(pooled)      # (B, T)\n",
    "\n",
    "        loss = None\n",
    "        losses = []\n",
    "        ce = nn.CrossEntropyLoss()\n",
    "\n",
    "        if min_start_positions is not None and min_end_positions is not None:\n",
    "            losses += [\n",
    "                ce(min_start_logits, min_start_positions.squeeze()),\n",
    "                ce(min_end_logits,   min_end_positions.squeeze())\n",
    "            ]\n",
    "\n",
    "        if max_start_positions is not None and max_end_positions is not None:\n",
    "            losses += [\n",
    "                ce(max_start_logits, max_start_positions.squeeze()),\n",
    "                ce(max_end_logits,   max_end_positions.squeeze())\n",
    "            ]\n",
    "\n",
    "        if currency_labels is not None:\n",
    "            losses.append(ce(curr_logits, currency_labels))\n",
    "        if time_labels is not None:\n",
    "            losses.append(ce(time_logits, time_labels))\n",
    "\n",
    "        if losses:\n",
    "            loss = sum(losses) / len(losses)\n",
    "\n",
    "        return {\n",
    "            \"loss\":              loss,\n",
    "            \"min_start_logits\":  min_start_logits,\n",
    "            \"min_end_logits\":    min_end_logits,\n",
    "            \"max_start_logits\":  max_start_logits,\n",
    "            \"max_end_logits\":    max_end_logits,\n",
    "            \"curr_logits\":       curr_logits,\n",
    "            \"time_logits\":       time_logits,\n",
    "        }"
   ],
   "id": "444fed8133542f13",
   "outputs": [],
   "execution_count": 4
  },
  {
   "metadata": {},
   "cell_type": "markdown",
   "source": [
    "#### Train Part 1\n",
    "\n",
    "We start by exclusively training the span extraction heads for the minimum and maximum salary positions. In our training data, when a job ad lacks a min or max salary, we omit any currency or period labels—using a placeholder like “none” in those cases would skew the classification heads. By isolating and pretraining just the span extraction component first, we ensure the model learns to detect salary boundaries without contaminating the currency and period classifiers."
   ],
   "id": "d5daa3b7d7c5e1ac"
  },
  {
   "metadata": {},
   "cell_type": "code",
   "outputs": [
    {
     "data": {
      "text/plain": [
       "MultiTaskModel(\n",
       "  (roberta): XLMRobertaModel(\n",
       "    (embeddings): XLMRobertaEmbeddings(\n",
       "      (word_embeddings): Embedding(250002, 768, padding_idx=1)\n",
       "      (position_embeddings): Embedding(4098, 768, padding_idx=1)\n",
       "      (token_type_embeddings): Embedding(1, 768)\n",
       "      (LayerNorm): LayerNorm((768,), eps=1e-05, elementwise_affine=True)\n",
       "      (dropout): Dropout(p=0.1, inplace=False)\n",
       "    )\n",
       "    (encoder): XLMRobertaEncoder(\n",
       "      (layer): ModuleList(\n",
       "        (0-11): 12 x XLMRobertaLayer(\n",
       "          (attention): XLMRobertaAttention(\n",
       "            (self): XLMRobertaSdpaSelfAttention(\n",
       "              (query): Linear(in_features=768, out_features=768, bias=True)\n",
       "              (key): Linear(in_features=768, out_features=768, bias=True)\n",
       "              (value): Linear(in_features=768, out_features=768, bias=True)\n",
       "              (dropout): Dropout(p=0.1, inplace=False)\n",
       "            )\n",
       "            (output): XLMRobertaSelfOutput(\n",
       "              (dense): Linear(in_features=768, out_features=768, bias=True)\n",
       "              (LayerNorm): LayerNorm((768,), eps=1e-05, elementwise_affine=True)\n",
       "              (dropout): Dropout(p=0.1, inplace=False)\n",
       "            )\n",
       "          )\n",
       "          (intermediate): XLMRobertaIntermediate(\n",
       "            (dense): Linear(in_features=768, out_features=3072, bias=True)\n",
       "            (intermediate_act_fn): GELUActivation()\n",
       "          )\n",
       "          (output): XLMRobertaOutput(\n",
       "            (dense): Linear(in_features=3072, out_features=768, bias=True)\n",
       "            (LayerNorm): LayerNorm((768,), eps=1e-05, elementwise_affine=True)\n",
       "            (dropout): Dropout(p=0.1, inplace=False)\n",
       "          )\n",
       "        )\n",
       "      )\n",
       "    )\n",
       "  )\n",
       "  (qa_outputs): Linear(in_features=768, out_features=2, bias=True)\n",
       "  (min_qa_outputs): Linear(in_features=768, out_features=2, bias=True)\n",
       "  (max_qa_outputs): Linear(in_features=768, out_features=2, bias=True)\n",
       "  (currency_classifier): Linear(in_features=768, out_features=9, bias=True)\n",
       "  (time_classifier): Linear(in_features=768, out_features=5, bias=True)\n",
       ")"
      ]
     },
     "execution_count": 6,
     "metadata": {},
     "output_type": "execute_result"
    }
   ],
   "execution_count": 6,
   "source": [
    "model_name    = \"markussagen/xlm-roberta-longformer-base-4096\"\n",
    "num_currency  = len(currency) - 1\n",
    "num_time      = len(period) - 1\n",
    "\n",
    "model = MultiTaskModel(model_name, num_currency, num_time)\n",
    "tokenizer = XLMRobertaTokenizerFast.from_pretrained(model_name)\n",
    "model.to(device)"
   ],
   "id": "e3b59b7898f2ef15"
  },
  {
   "metadata": {},
   "cell_type": "markdown",
   "source": "Since our model’s task is solely to locate spans within the text, a 2,048-token context is more than sufficient—there’s no need to process the entire document.",
   "id": "eb2ed751d7aed6c0"
  },
  {
   "metadata": {},
   "cell_type": "code",
   "outputs": [],
   "execution_count": 7,
   "source": [
    "train_df, val_df = train_test_split(\n",
    "    df,\n",
    "    test_size=0.2,\n",
    "    random_state=42,\n",
    ")\n",
    "\n",
    "train_dataset = SalaryQAAndClassDataset(\n",
    "    input_list=train_df[\"input_list\"].tolist(),\n",
    "    currency=train_df[\"currency\"].tolist(),\n",
    "    period=train_df[\"period\"].tolist(),\n",
    "    label=train_df[\"label\"].tolist(),\n",
    "    tokenizer=tokenizer,\n",
    "    max_len=2048\n",
    ")\n",
    "\n",
    "val_dataset = SalaryQAAndClassDataset(\n",
    "    input_list=val_df[\"input_list\"].tolist(),\n",
    "    currency=val_df[\"currency\"].tolist(),\n",
    "    period=val_df[\"period\"].tolist(),\n",
    "    label=val_df[\"label\"].tolist(),\n",
    "    tokenizer=tokenizer,\n",
    "    max_len=2048\n",
    ")\n",
    "\n",
    "train_loader = DataLoader(train_dataset, batch_size=8, shuffle=True)\n",
    "val_loader = DataLoader(val_dataset, batch_size=8, shuffle=False)"
   ],
   "id": "d7732222295abed4"
  },
  {
   "metadata": {},
   "cell_type": "markdown",
   "source": "Freeze the classification heads and exclude their label inputs from the forward pass so that no classification loss is computed.",
   "id": "a76b4e23a1cfe38e"
  },
  {
   "metadata": {
    "ExecuteTime": {
     "end_time": "2025-04-25T06:54:03.701690Z",
     "start_time": "2025-04-25T06:54:03.687165Z"
    }
   },
   "cell_type": "code",
   "source": [
    "for param in model.currency_classifier.parameters():\n",
    "    param.requires_grad = False\n",
    "for param in model.time_classifier.parameters():\n",
    "    param.requires_grad = False"
   ],
   "id": "15268cdda7647e07",
   "outputs": [],
   "execution_count": 8
  },
  {
   "metadata": {},
   "cell_type": "markdown",
   "source": "We use F1 for the min and max spans because span extraction is a highly imbalanced detection task—positive boundary tokens are rare—so we need a metric that balances precision (avoiding false positives) and recall (finding true spans). Plain accuracy would be dominated by the many non-span tokens and wouldn’t reflect true extraction performance.",
   "id": "69d964179d02962b"
  },
  {
   "metadata": {
    "ExecuteTime": {
     "end_time": "2025-04-25T07:30:42.579324Z",
     "start_time": "2025-04-25T06:54:06.369824Z"
    }
   },
   "cell_type": "code",
   "source": [
    "EPOCHS = 10\n",
    "total_steps = len(train_loader) * EPOCHS\n",
    "\n",
    "optimizer = AdamW(\n",
    "    [p for p in model.parameters() if p.requires_grad],\n",
    "    lr=2e-5,\n",
    "    weight_decay=0.01,\n",
    ")\n",
    "scheduler = get_linear_schedule_with_warmup(\n",
    "    optimizer,\n",
    "    num_warmup_steps=int(0.1 * total_steps),\n",
    "    num_training_steps=total_steps,\n",
    ")\n",
    "\n",
    "for epoch in range(1, EPOCHS + 1):\n",
    "    # —— 训练阶段 ——\n",
    "    model.train()\n",
    "    running_loss = 0.0\n",
    "    for batch in tqdm(train_loader, desc=f\"Training Epoch {epoch}/{EPOCHS}\"):\n",
    "        optimizer.zero_grad()\n",
    "        out = model(\n",
    "            input_ids            = batch[\"input_ids\"].to(device),\n",
    "            attention_mask       = batch[\"attention_mask\"].to(device),\n",
    "            min_start_positions  = batch[\"min_start_positions\"].to(device),\n",
    "            min_end_positions    = batch[\"min_end_positions\"].to(device),\n",
    "            max_start_positions  = batch[\"max_start_positions\"].to(device),\n",
    "            max_end_positions    = batch[\"max_end_positions\"].to(device),\n",
    "        )\n",
    "        loss = out[\"loss\"]\n",
    "        loss.backward()\n",
    "        optimizer.step()\n",
    "        scheduler.step()\n",
    "\n",
    "        running_loss += loss.item()\n",
    "\n",
    "    avg_epoch_loss = running_loss / len(train_loader)\n",
    "    print(f\"[Epoch {epoch}] Training loss: {avg_epoch_loss:.4f}\")\n",
    "\n",
    "    # —— 验证阶段 ——\n",
    "    model.eval()\n",
    "    val_loss = 0.0\n",
    "    min_tp = min_fp = min_fn = 0\n",
    "    max_tp = max_fp = max_fn = 0\n",
    "\n",
    "    with torch.no_grad():\n",
    "        for batch in tqdm(val_loader, desc=f\"Validating Epoch {epoch}/{EPOCHS}\"):\n",
    "            out = model(\n",
    "                input_ids            = batch[\"input_ids\"].to(device),\n",
    "                attention_mask       = batch[\"attention_mask\"].to(device),\n",
    "                min_start_positions  = batch[\"min_start_positions\"].to(device),\n",
    "                min_end_positions    = batch[\"min_end_positions\"].to(device),\n",
    "                max_start_positions  = batch[\"max_start_positions\"].to(device),\n",
    "                max_end_positions    = batch[\"max_end_positions\"].to(device),\n",
    "            )\n",
    "            val_loss += out[\"loss\"].item()\n",
    "\n",
    "            # —— MIN span metrics ——\n",
    "            pred_min_s = out[\"min_start_logits\"].argmax(dim=1)\n",
    "            pred_min_e = out[\"min_end_logits\"].argmax(dim=1)\n",
    "            true_min_s = batch[\"min_start_positions\"].to(device).squeeze()\n",
    "            true_min_e = batch[\"min_end_positions\"].to(device).squeeze()\n",
    "            for ps, pe, ts, te in zip(pred_min_s, pred_min_e, true_min_s, true_min_e):\n",
    "                if ps == ts and pe == te:\n",
    "                    min_tp += 1\n",
    "                else:\n",
    "                    min_fp += 1\n",
    "                    min_fn += 1\n",
    "\n",
    "            # —— MAX span metrics ——\n",
    "            pred_max_s = out[\"max_start_logits\"].argmax(dim=1)\n",
    "            pred_max_e = out[\"max_end_logits\"].argmax(dim=1)\n",
    "            true_max_s = batch[\"max_start_positions\"].to(device).squeeze()\n",
    "            true_max_e = batch[\"max_end_positions\"].to(device).squeeze()\n",
    "            for ps, pe, ts, te in zip(pred_max_s, pred_max_e, true_max_s, true_max_e):\n",
    "                if ps == ts and pe == te:\n",
    "                    max_tp += 1\n",
    "                else:\n",
    "                    max_fp += 1\n",
    "                    max_fn += 1\n",
    "\n",
    "    avg_val_loss = val_loss / len(val_loader)\n",
    "\n",
    "    # 计算 MIN span F1\n",
    "    prec_min = min_tp / (min_tp + min_fp + 1e-12)\n",
    "    rec_min  = min_tp / (min_tp + min_fn + 1e-12)\n",
    "    f1_min   = 2 * prec_min * rec_min / (prec_min + rec_min + 1e-8)\n",
    "\n",
    "    # 计算 MAX span F1\n",
    "    prec_max = max_tp / (max_tp + max_fp + 1e-12)\n",
    "    rec_max  = max_tp / (max_tp + max_fn + 1e-12)\n",
    "    f1_max   = 2 * prec_max * rec_max / (prec_max + rec_max + 1e-8)\n",
    "\n",
    "    print(\n",
    "        f\"[Epoch {epoch}] Val loss: {avg_val_loss:.4f}  \"\n",
    "        f\"F1(min): {f1_min:.4f}  F1(max): {f1_max:.4f}\"\n",
    "    )\n",
    "\n",
    "    # —— 保存模型 ——\n",
    "    save_dir = f\"checkpoints/epoch_{epoch}\"\n",
    "    os.makedirs(save_dir, exist_ok=True)\n",
    "    torch.save(model.state_dict(), os.path.join(save_dir, \"pytorch_model.bin\"))\n",
    "    tokenizer.save_pretrained(save_dir)"
   ],
   "id": "e8a4ebaffa2cdd02",
   "outputs": [
    {
     "name": "stderr",
     "output_type": "stream",
     "text": [
      "Training Epoch 1/10: 100%|███████████████████████████████████████████████████████████| 224/224 [03:17<00:00,  1.13it/s]\n"
     ]
    },
    {
     "name": "stdout",
     "output_type": "stream",
     "text": [
      "[Epoch 1] Training loss: 4.0512\n"
     ]
    },
    {
     "name": "stderr",
     "output_type": "stream",
     "text": [
      "Validating Epoch 1/10: 100%|███████████████████████████████████████████████████████████| 56/56 [00:20<00:00,  2.67it/s]\n"
     ]
    },
    {
     "name": "stdout",
     "output_type": "stream",
     "text": [
      "[Epoch 1] Val loss: 0.8989  F1(min): 0.6540  F1(max): 0.6071\n"
     ]
    },
    {
     "name": "stderr",
     "output_type": "stream",
     "text": [
      "Training Epoch 2/10: 100%|███████████████████████████████████████████████████████████| 224/224 [03:17<00:00,  1.13it/s]\n"
     ]
    },
    {
     "name": "stdout",
     "output_type": "stream",
     "text": [
      "[Epoch 2] Training loss: 0.8199\n"
     ]
    },
    {
     "name": "stderr",
     "output_type": "stream",
     "text": [
      "Validating Epoch 2/10: 100%|███████████████████████████████████████████████████████████| 56/56 [00:21<00:00,  2.66it/s]\n"
     ]
    },
    {
     "name": "stdout",
     "output_type": "stream",
     "text": [
      "[Epoch 2] Val loss: 0.5440  F1(min): 0.6674  F1(max): 0.6607\n"
     ]
    },
    {
     "name": "stderr",
     "output_type": "stream",
     "text": [
      "Training Epoch 3/10: 100%|███████████████████████████████████████████████████████████| 224/224 [03:17<00:00,  1.13it/s]\n"
     ]
    },
    {
     "name": "stdout",
     "output_type": "stream",
     "text": [
      "[Epoch 3] Training loss: 0.5711\n"
     ]
    },
    {
     "name": "stderr",
     "output_type": "stream",
     "text": [
      "Validating Epoch 3/10: 100%|███████████████████████████████████████████████████████████| 56/56 [00:20<00:00,  2.67it/s]\n"
     ]
    },
    {
     "name": "stdout",
     "output_type": "stream",
     "text": [
      "[Epoch 3] Val loss: 0.4935  F1(min): 0.6786  F1(max): 0.6629\n"
     ]
    },
    {
     "name": "stderr",
     "output_type": "stream",
     "text": [
      "Training Epoch 4/10: 100%|███████████████████████████████████████████████████████████| 224/224 [03:17<00:00,  1.13it/s]\n"
     ]
    },
    {
     "name": "stdout",
     "output_type": "stream",
     "text": [
      "[Epoch 4] Training loss: 0.4941\n"
     ]
    },
    {
     "name": "stderr",
     "output_type": "stream",
     "text": [
      "Validating Epoch 4/10: 100%|███████████████████████████████████████████████████████████| 56/56 [00:20<00:00,  2.67it/s]\n"
     ]
    },
    {
     "name": "stdout",
     "output_type": "stream",
     "text": [
      "[Epoch 4] Val loss: 0.4484  F1(min): 0.6763  F1(max): 0.6607\n"
     ]
    },
    {
     "name": "stderr",
     "output_type": "stream",
     "text": [
      "Training Epoch 5/10: 100%|███████████████████████████████████████████████████████████| 224/224 [03:17<00:00,  1.13it/s]\n"
     ]
    },
    {
     "name": "stdout",
     "output_type": "stream",
     "text": [
      "[Epoch 5] Training loss: 0.4427\n"
     ]
    },
    {
     "name": "stderr",
     "output_type": "stream",
     "text": [
      "Validating Epoch 5/10: 100%|███████████████████████████████████████████████████████████| 56/56 [00:20<00:00,  2.67it/s]\n"
     ]
    },
    {
     "name": "stdout",
     "output_type": "stream",
     "text": [
      "[Epoch 5] Val loss: 0.4664  F1(min): 0.6942  F1(max): 0.6696\n"
     ]
    },
    {
     "name": "stderr",
     "output_type": "stream",
     "text": [
      "Training Epoch 6/10: 100%|███████████████████████████████████████████████████████████| 224/224 [03:17<00:00,  1.13it/s]\n"
     ]
    },
    {
     "name": "stdout",
     "output_type": "stream",
     "text": [
      "[Epoch 6] Training loss: 0.4021\n"
     ]
    },
    {
     "name": "stderr",
     "output_type": "stream",
     "text": [
      "Validating Epoch 6/10: 100%|███████████████████████████████████████████████████████████| 56/56 [00:21<00:00,  2.66it/s]\n"
     ]
    },
    {
     "name": "stdout",
     "output_type": "stream",
     "text": [
      "[Epoch 6] Val loss: 0.4766  F1(min): 0.7232  F1(max): 0.6830\n"
     ]
    },
    {
     "name": "stderr",
     "output_type": "stream",
     "text": [
      "Training Epoch 7/10: 100%|███████████████████████████████████████████████████████████| 224/224 [03:17<00:00,  1.13it/s]\n"
     ]
    },
    {
     "name": "stdout",
     "output_type": "stream",
     "text": [
      "[Epoch 7] Training loss: 0.3836\n"
     ]
    },
    {
     "name": "stderr",
     "output_type": "stream",
     "text": [
      "Validating Epoch 7/10: 100%|███████████████████████████████████████████████████████████| 56/56 [00:21<00:00,  2.67it/s]\n"
     ]
    },
    {
     "name": "stdout",
     "output_type": "stream",
     "text": [
      "[Epoch 7] Val loss: 0.4784  F1(min): 0.6987  F1(max): 0.7143\n"
     ]
    },
    {
     "name": "stderr",
     "output_type": "stream",
     "text": [
      "Training Epoch 8/10: 100%|███████████████████████████████████████████████████████████| 224/224 [03:17<00:00,  1.13it/s]\n"
     ]
    },
    {
     "name": "stdout",
     "output_type": "stream",
     "text": [
      "[Epoch 8] Training loss: 0.3647\n"
     ]
    },
    {
     "name": "stderr",
     "output_type": "stream",
     "text": [
      "Validating Epoch 8/10: 100%|███████████████████████████████████████████████████████████| 56/56 [00:20<00:00,  2.67it/s]\n"
     ]
    },
    {
     "name": "stdout",
     "output_type": "stream",
     "text": [
      "[Epoch 8] Val loss: 0.5207  F1(min): 0.7277  F1(max): 0.6897\n"
     ]
    },
    {
     "name": "stderr",
     "output_type": "stream",
     "text": [
      "Training Epoch 9/10: 100%|███████████████████████████████████████████████████████████| 224/224 [03:17<00:00,  1.13it/s]\n"
     ]
    },
    {
     "name": "stdout",
     "output_type": "stream",
     "text": [
      "[Epoch 9] Training loss: 0.3432\n"
     ]
    },
    {
     "name": "stderr",
     "output_type": "stream",
     "text": [
      "Validating Epoch 9/10: 100%|███████████████████████████████████████████████████████████| 56/56 [00:21<00:00,  2.67it/s]\n"
     ]
    },
    {
     "name": "stdout",
     "output_type": "stream",
     "text": [
      "[Epoch 9] Val loss: 0.5373  F1(min): 0.7433  F1(max): 0.7143\n"
     ]
    },
    {
     "name": "stderr",
     "output_type": "stream",
     "text": [
      "Training Epoch 10/10: 100%|██████████████████████████████████████████████████████████| 224/224 [03:17<00:00,  1.13it/s]\n"
     ]
    },
    {
     "name": "stdout",
     "output_type": "stream",
     "text": [
      "[Epoch 10] Training loss: 0.3292\n"
     ]
    },
    {
     "name": "stderr",
     "output_type": "stream",
     "text": [
      "Validating Epoch 10/10: 100%|██████████████████████████████████████████████████████████| 56/56 [00:20<00:00,  2.67it/s]\n"
     ]
    },
    {
     "name": "stdout",
     "output_type": "stream",
     "text": [
      "[Epoch 10] Val loss: 0.5578  F1(min): 0.7366  F1(max): 0.7098\n"
     ]
    }
   ],
   "execution_count": 9
  },
  {
   "metadata": {
    "ExecuteTime": {
     "end_time": "2025-04-25T11:49:22.322190Z",
     "start_time": "2025-04-25T11:49:22.189436Z"
    }
   },
   "cell_type": "code",
   "source": [
    "train_loss = [4.0512, 0.8199, 0.5711, 0.4941, 0.4427, 0.4021, 0.3836, 0.3647, 0.3432, 0.3292]\n",
    "valid_loss = [0.8989, 0.5440, 0.4935, 0.4484, 0.4664, 0.4766, 0.4784, 0.5207, 0.5373, 0.5578]\n",
    "min = [0.6540, 0.6674, 0.6786, 0.6763, 0.6942, 0.7232, 0.6987, 0.7277, 0.7433, 0.7366]\n",
    "max = [0.6071, 0.6607, 0.6629, 0.6607, 0.6696, 0.6830, 0.7143, 0.6897, 0.7143, 0.7098]\n",
    "\n",
    "fig, axes = plt.subplots(1, 2, figsize=(16, 5))\n",
    "step = range(1, len(min) + 1)\n",
    "\n",
    "axes[0].plot(step, train_loss, label='Training Loss', marker='o')\n",
    "axes[0].plot(step, valid_loss, label='Validation Loss', marker='o')\n",
    "axes[0].set_xlabel('Step')\n",
    "axes[0].set_ylabel('Loss')\n",
    "axes[0].set_title('Training and Validation Loss')\n",
    "axes[0].legend()\n",
    "\n",
    "axes[1].plot(step, min, label='Min F1', marker='o')\n",
    "axes[1].plot(step, max,   label='Max F1', marker='o')\n",
    "axes[1].set_xlabel('Step')\n",
    "axes[1].set_ylabel('Metric Value')\n",
    "axes[1].set_title('F1 Score for min and max salary')\n",
    "axes[1].legend()\n",
    "\n",
    "plt.tight_layout()\n",
    "plt.show()"
   ],
   "id": "4272278ed2058b4",
   "outputs": [
    {
     "data": {
      "text/plain": [
       "<Figure size 1600x500 with 2 Axes>"
      ],
      "image/png": "[encoded data removed]"
     },
     "metadata": {},
     "output_type": "display_data"
    }
   ],
   "execution_count": 18
  },
  {
   "metadata": {},
   "cell_type": "markdown",
   "source": [
    "#### Train Part 2\n",
    "\n",
    "We filter out all “0-0-none-none” entries—keeping only records with actual currency and period labels—to eliminate unnecessary noise. Then, based on our earlier evaluation, we continue training from the epoch-9 checkpoint, where the overall loss is comparable but the min/max salary F1 is highest."
   ],
   "id": "b039b712d8c65218"
  },
  {
   "metadata": {
    "ExecuteTime": {
     "end_time": "2025-04-25T09:02:13.741487Z",
     "start_time": "2025-04-25T09:02:13.738272Z"
    }
   },
   "cell_type": "code",
   "source": [
    "mask = (df['y_true'] == '0-0-None-None')\n",
    "df = df[~mask]\n",
    "print(df.shape)"
   ],
   "id": "70e230531c1ffe0c",
   "outputs": [
    {
     "name": "stdout",
     "output_type": "stream",
     "text": [
      "(1288, 11)\n"
     ]
    }
   ],
   "execution_count": 5
  },
  {
   "metadata": {
    "ExecuteTime": {
     "end_time": "2025-04-25T09:02:18.111017Z",
     "start_time": "2025-04-25T09:02:13.779765Z"
    }
   },
   "cell_type": "code",
   "source": [
    "model_name   = \"markussagen/xlm-roberta-longformer-base-4096\"\n",
    "num_currency = len(currency) - 1\n",
    "num_time     = len(period)   - 1\n",
    "\n",
    "model     = MultiTaskModel(model_name, num_currency, num_time)\n",
    "tokenizer = XLMRobertaTokenizerFast.from_pretrained(model_name)\n",
    "\n",
    "ckpt_path = \"checkpoints/epoch_9/pytorch_model.bin\"\n",
    "state_dict = torch.load(ckpt_path, map_location=\"cpu\")\n",
    "model.load_state_dict(state_dict, strict=False)"
   ],
   "id": "41a00e3d6380824f",
   "outputs": [
    {
     "data": {
      "text/plain": [
       "<All keys matched successfully>"
      ]
     },
     "execution_count": 6,
     "metadata": {},
     "output_type": "execute_result"
    }
   ],
   "execution_count": 6
  },
  {
   "metadata": {},
   "cell_type": "markdown",
   "source": "Because the filter dataset is relatively small, we’ve increased the input length to 4,096 tokens so the model can attend to the entire document.",
   "id": "7da8eca99709bcd7"
  },
  {
   "metadata": {
    "ExecuteTime": {
     "end_time": "2025-04-25T09:02:18.430422Z",
     "start_time": "2025-04-25T09:02:18.425986Z"
    }
   },
   "cell_type": "code",
   "source": [
    "train_df, val_df = train_test_split(\n",
    "    df,\n",
    "    test_size=0.2,\n",
    "    random_state=42,\n",
    ")\n",
    "\n",
    "train_dataset = SalaryQAAndClassDataset(\n",
    "    input_list=train_df[\"input_list\"].tolist(),\n",
    "    currency=train_df[\"currency\"].tolist(),\n",
    "    period=train_df[\"period\"].tolist(),\n",
    "    label=train_df[\"label\"].tolist(),\n",
    "    tokenizer=tokenizer,\n",
    "    max_len=4096\n",
    ")\n",
    "\n",
    "val_dataset = SalaryQAAndClassDataset(\n",
    "    input_list=val_df[\"input_list\"].tolist(),\n",
    "    currency=val_df[\"currency\"].tolist(),\n",
    "    period=val_df[\"period\"].tolist(),\n",
    "    label=val_df[\"label\"].tolist(),\n",
    "    tokenizer=tokenizer,\n",
    "    max_len=4096\n",
    ")\n",
    "\n",
    "train_loader = DataLoader(train_dataset, batch_size=8, shuffle=True)\n",
    "val_loader = DataLoader(val_dataset, batch_size=8, shuffle=False)"
   ],
   "id": "12c32b0404395078",
   "outputs": [],
   "execution_count": 7
  },
  {
   "metadata": {},
   "cell_type": "markdown",
   "source": "We freeze the embeddings and the first six Transformer layers—locking in general language features—and leave the top six layers plus all four task heads trainable. This reduces overfitting and speeds up convergence on our small dataset while still allowing the model to adapt high-level representations for salary span extraction and currency/period classification.",
   "id": "cdc09d5a2d34307b"
  },
  {
   "metadata": {
    "ExecuteTime": {
     "end_time": "2025-04-25T09:02:18.876553Z",
     "start_time": "2025-04-25T09:02:18.744309Z"
    }
   },
   "cell_type": "code",
   "source": [
    "for name, param in model.named_parameters():\n",
    "    if name.startswith(\"roberta.embeddings.\"):\n",
    "        param.requires_grad = False\n",
    "\n",
    "for layer in model.roberta.encoder.layer[:6]:\n",
    "    for param in layer.parameters():\n",
    "        param.requires_grad = False\n",
    "\n",
    "for layer in model.roberta.encoder.layer[6:]:\n",
    "    for param in layer.parameters():\n",
    "        param.requires_grad = True\n",
    "\n",
    "for head in (\n",
    "        model.min_qa_outputs, model.max_qa_outputs,\n",
    "        model.currency_classifier, model.time_classifier\n",
    "):\n",
    "    for param in head.parameters():\n",
    "        param.requires_grad = True\n",
    "\n",
    "model.to(device)"
   ],
   "id": "ef0190a5f71b5e7b",
   "outputs": [
    {
     "data": {
      "text/plain": [
       "MultiTaskModel(\n",
       "  (roberta): XLMRobertaModel(\n",
       "    (embeddings): XLMRobertaEmbeddings(\n",
       "      (word_embeddings): Embedding(250002, 768, padding_idx=1)\n",
       "      (position_embeddings): Embedding(4098, 768, padding_idx=1)\n",
       "      (token_type_embeddings): Embedding(1, 768)\n",
       "      (LayerNorm): LayerNorm((768,), eps=1e-05, elementwise_affine=True)\n",
       "      (dropout): Dropout(p=0.1, inplace=False)\n",
       "    )\n",
       "    (encoder): XLMRobertaEncoder(\n",
       "      (layer): ModuleList(\n",
       "        (0-11): 12 x XLMRobertaLayer(\n",
       "          (attention): XLMRobertaAttention(\n",
       "            (self): XLMRobertaSdpaSelfAttention(\n",
       "              (query): Linear(in_features=768, out_features=768, bias=True)\n",
       "              (key): Linear(in_features=768, out_features=768, bias=True)\n",
       "              (value): Linear(in_features=768, out_features=768, bias=True)\n",
       "              (dropout): Dropout(p=0.1, inplace=False)\n",
       "            )\n",
       "            (output): XLMRobertaSelfOutput(\n",
       "              (dense): Linear(in_features=768, out_features=768, bias=True)\n",
       "              (LayerNorm): LayerNorm((768,), eps=1e-05, elementwise_affine=True)\n",
       "              (dropout): Dropout(p=0.1, inplace=False)\n",
       "            )\n",
       "          )\n",
       "          (intermediate): XLMRobertaIntermediate(\n",
       "            (dense): Linear(in_features=768, out_features=3072, bias=True)\n",
       "            (intermediate_act_fn): GELUActivation()\n",
       "          )\n",
       "          (output): XLMRobertaOutput(\n",
       "            (dense): Linear(in_features=3072, out_features=768, bias=True)\n",
       "            (LayerNorm): LayerNorm((768,), eps=1e-05, elementwise_affine=True)\n",
       "            (dropout): Dropout(p=0.1, inplace=False)\n",
       "          )\n",
       "        )\n",
       "      )\n",
       "    )\n",
       "  )\n",
       "  (qa_outputs): Linear(in_features=768, out_features=2, bias=True)\n",
       "  (min_qa_outputs): Linear(in_features=768, out_features=2, bias=True)\n",
       "  (max_qa_outputs): Linear(in_features=768, out_features=2, bias=True)\n",
       "  (currency_classifier): Linear(in_features=768, out_features=9, bias=True)\n",
       "  (time_classifier): Linear(in_features=768, out_features=5, bias=True)\n",
       ")"
      ]
     },
     "execution_count": 8,
     "metadata": {},
     "output_type": "execute_result"
    }
   ],
   "execution_count": 8
  },
  {
   "metadata": {},
   "cell_type": "markdown",
   "source": "By freezing most of the model, we can safely use a higher learning rate to speed up convergence. At the same time, we compute and optimize the classification and extraction heads’ losses in parallel, ensuring both tasks improve together and preventing over‐optimization on any single objective.",
   "id": "cb5fb8479efd9022"
  },
  {
   "metadata": {
    "ExecuteTime": {
     "end_time": "2025-04-25T10:26:06.223224Z",
     "start_time": "2025-04-25T09:02:22.431599Z"
    }
   },
   "cell_type": "code",
   "source": [
    "EPOCHS = 20\n",
    "total_steps = len(train_loader) * EPOCHS\n",
    "\n",
    "optimizer = AdamW(\n",
    "    [p for p in model.parameters() if p.requires_grad],\n",
    "    lr=1e-4,\n",
    "    weight_decay=0.01,\n",
    ")\n",
    "scheduler = get_linear_schedule_with_warmup(\n",
    "    optimizer,\n",
    "    num_warmup_steps=int(0.1 * total_steps),\n",
    "    num_training_steps=total_steps,\n",
    ")\n",
    "\n",
    "ce = torch.nn.CrossEntropyLoss()\n",
    "\n",
    "for epoch in range(1, EPOCHS + 1):\n",
    "    model.train()\n",
    "    train_loss = 0.0\n",
    "    for step, batch in enumerate(tqdm(train_loader, desc=f\"Train Classification Epoch {epoch}/{EPOCHS}\")):\n",
    "        optimizer.zero_grad()\n",
    "        out = model(\n",
    "            input_ids      = batch[\"input_ids\"].to(device),\n",
    "            attention_mask = batch[\"attention_mask\"].to(device),\n",
    "            min_start_positions  = batch[\"min_start_positions\"].to(device),\n",
    "            min_end_positions    = batch[\"min_end_positions\"].to(device),\n",
    "            max_start_positions  = batch[\"max_start_positions\"].to(device),\n",
    "            max_end_positions    = batch[\"max_end_positions\"].to(device),\n",
    "            currency_labels= batch[\"currency_labels\"].to(device),\n",
    "            time_labels    = batch[\"time_labels\"].to(device),\n",
    "        )\n",
    "        loss = out[\"loss\"]\n",
    "        loss.backward()\n",
    "        optimizer.step()\n",
    "        scheduler.step()\n",
    "\n",
    "        train_loss += loss.item()\n",
    "\n",
    "    avg_train = train_loss / len(train_loader)\n",
    "    print(f\"Average training loss: {avg_train:.4f}\")\n",
    "\n",
    "    model.eval()\n",
    "    val_loss = 0.0\n",
    "    corr_curr = corr_time = total = 0\n",
    "    min_tp = min_fp = min_fn = 0\n",
    "    max_tp = max_fp = max_fn = 0\n",
    "\n",
    "    with torch.no_grad():\n",
    "        for batch in tqdm(val_loader, desc=f\"Validate Classification Epoch {epoch}/{EPOCHS}\"):\n",
    "            out = model(\n",
    "                input_ids      = batch[\"input_ids\"].to(device),\n",
    "                attention_mask = batch[\"attention_mask\"].to(device),\n",
    "                min_start_positions  = batch[\"min_start_positions\"].to(device),\n",
    "                min_end_positions    = batch[\"min_end_positions\"].to(device),\n",
    "                max_start_positions  = batch[\"max_start_positions\"].to(device),\n",
    "                max_end_positions    = batch[\"max_end_positions\"].to(device),\n",
    "                currency_labels= batch[\"currency_labels\"].to(device),\n",
    "                time_labels    = batch[\"time_labels\"].to(device),\n",
    "            )\n",
    "            val_loss += out[\"loss\"].item()\n",
    "\n",
    "            pred_curr = out[\"curr_logits\"].argmax(dim=1)\n",
    "            pred_time = out[\"time_logits\"].argmax(dim=1)\n",
    "            true_curr = batch[\"currency_labels\"].to(device)\n",
    "            true_time = batch[\"time_labels\"].to(device)\n",
    "\n",
    "            corr_curr += (pred_curr == true_curr).sum().item()\n",
    "            corr_time += (pred_time == true_time).sum().item()\n",
    "            total     += true_curr.size(0)\n",
    "\n",
    "            pred_min_s = out[\"min_start_logits\"].argmax(dim=1)\n",
    "            pred_min_e = out[\"min_end_logits\"].argmax(dim=1)\n",
    "            true_min_s = batch[\"min_start_positions\"].to(device).squeeze()\n",
    "            true_min_e = batch[\"min_end_positions\"].to(device).squeeze()\n",
    "            for ps, pe, ts, te in zip(pred_min_s, pred_min_e, true_min_s, true_min_e):\n",
    "                if ps == ts and pe == te:\n",
    "                    min_tp += 1\n",
    "                else:\n",
    "                    min_fp += 1\n",
    "                    min_fn += 1\n",
    "\n",
    "            # —— MAX span metrics ——\n",
    "            pred_max_s = out[\"max_start_logits\"].argmax(dim=1)\n",
    "            pred_max_e = out[\"max_end_logits\"].argmax(dim=1)\n",
    "            true_max_s = batch[\"max_start_positions\"].to(device).squeeze()\n",
    "            true_max_e = batch[\"max_end_positions\"].to(device).squeeze()\n",
    "            for ps, pe, ts, te in zip(pred_max_s, pred_max_e, true_max_s, true_max_e):\n",
    "                if ps == ts and pe == te:\n",
    "                    max_tp += 1\n",
    "                else:\n",
    "                    max_fp += 1\n",
    "                    max_fn += 1\n",
    "\n",
    "    avg_val = val_loss / len(val_loader)\n",
    "    acc_curr = corr_curr / total\n",
    "    acc_time = corr_time / total\n",
    "\n",
    "    prec_min = min_tp / (min_tp + min_fp + 1e-12)\n",
    "    rec_min  = min_tp / (min_tp + min_fn + 1e-12)\n",
    "    f1_min   = 2 * prec_min * rec_min / (prec_min + rec_min + 1e-8)\n",
    "\n",
    "    prec_max = max_tp / (max_tp + max_fp + 1e-12)\n",
    "    rec_max  = max_tp / (max_tp + max_fn + 1e-12)\n",
    "    f1_max   = 2 * prec_max * rec_max / (prec_max + rec_max + 1e-8)\n",
    "\n",
    "    print(f\"Validation loss: {avg_val:.4f} — Currency Acc: {acc_curr:.4f}, Time Acc: {acc_time:.4f}, F1 (min): {f1_min:4f}, F1 (max): {f1_max:4f}\")\n",
    "\n",
    "    save_dir = f\"checkpoints/c_epoch_{epoch}\"\n",
    "    os.makedirs(save_dir, exist_ok=True)\n",
    "    torch.save(model.state_dict(), os.path.join(save_dir, \"pytorch_model.bin\"))\n",
    "    tokenizer.save_pretrained(save_dir)"
   ],
   "id": "16d85aea4fcf76a3",
   "outputs": [
    {
     "name": "stderr",
     "output_type": "stream",
     "text": [
      "Train Classification Epoch 1/20: 100%|███████████████████████████████████████████████| 129/129 [03:40<00:00,  1.71s/it]\n"
     ]
    },
    {
     "name": "stdout",
     "output_type": "stream",
     "text": [
      "Average training loss: 0.8465\n"
     ]
    },
    {
     "name": "stderr",
     "output_type": "stream",
     "text": [
      "Validate Classification Epoch 1/20: 100%|██████████████████████████████████████████████| 33/33 [00:29<00:00,  1.11it/s]\n"
     ]
    },
    {
     "name": "stdout",
     "output_type": "stream",
     "text": [
      "Validation loss: 0.8052 — Currency Acc: 0.2713, Time Acc: 0.4419, F1 (min): 0.779070, F1 (max): 0.717054\n"
     ]
    },
    {
     "name": "stderr",
     "output_type": "stream",
     "text": [
      "Train Classification Epoch 2/20: 100%|███████████████████████████████████████████████| 129/129 [03:40<00:00,  1.71s/it]\n"
     ]
    },
    {
     "name": "stdout",
     "output_type": "stream",
     "text": [
      "Average training loss: 0.7945\n"
     ]
    },
    {
     "name": "stderr",
     "output_type": "stream",
     "text": [
      "Validate Classification Epoch 2/20: 100%|██████████████████████████████████████████████| 33/33 [00:29<00:00,  1.11it/s]\n"
     ]
    },
    {
     "name": "stdout",
     "output_type": "stream",
     "text": [
      "Validation loss: 0.7244 — Currency Acc: 0.5271, Time Acc: 0.6085, F1 (min): 0.697674, F1 (max): 0.736434\n"
     ]
    },
    {
     "name": "stderr",
     "output_type": "stream",
     "text": [
      "Train Classification Epoch 3/20: 100%|███████████████████████████████████████████████| 129/129 [03:40<00:00,  1.71s/it]\n"
     ]
    },
    {
     "name": "stdout",
     "output_type": "stream",
     "text": [
      "Average training loss: 0.6261\n"
     ]
    },
    {
     "name": "stderr",
     "output_type": "stream",
     "text": [
      "Validate Classification Epoch 3/20: 100%|██████████████████████████████████████████████| 33/33 [00:29<00:00,  1.11it/s]\n"
     ]
    },
    {
     "name": "stdout",
     "output_type": "stream",
     "text": [
      "Validation loss: 0.6595 — Currency Acc: 0.7248, Time Acc: 0.7171, F1 (min): 0.759690, F1 (max): 0.709302\n"
     ]
    },
    {
     "name": "stderr",
     "output_type": "stream",
     "text": [
      "Train Classification Epoch 4/20: 100%|███████████████████████████████████████████████| 129/129 [03:40<00:00,  1.71s/it]\n"
     ]
    },
    {
     "name": "stdout",
     "output_type": "stream",
     "text": [
      "Average training loss: 0.4724\n"
     ]
    },
    {
     "name": "stderr",
     "output_type": "stream",
     "text": [
      "Validate Classification Epoch 4/20: 100%|██████████████████████████████████████████████| 33/33 [00:29<00:00,  1.11it/s]\n"
     ]
    },
    {
     "name": "stdout",
     "output_type": "stream",
     "text": [
      "Validation loss: 0.5004 — Currency Acc: 0.8605, Time Acc: 0.8217, F1 (min): 0.771318, F1 (max): 0.736434\n"
     ]
    },
    {
     "name": "stderr",
     "output_type": "stream",
     "text": [
      "Train Classification Epoch 5/20: 100%|███████████████████████████████████████████████| 129/129 [03:40<00:00,  1.71s/it]\n"
     ]
    },
    {
     "name": "stdout",
     "output_type": "stream",
     "text": [
      "Average training loss: 0.3746\n"
     ]
    },
    {
     "name": "stderr",
     "output_type": "stream",
     "text": [
      "Validate Classification Epoch 5/20: 100%|██████████████████████████████████████████████| 33/33 [00:29<00:00,  1.11it/s]\n"
     ]
    },
    {
     "name": "stdout",
     "output_type": "stream",
     "text": [
      "Validation loss: 0.4586 — Currency Acc: 0.8527, Time Acc: 0.8760, F1 (min): 0.740310, F1 (max): 0.744186\n"
     ]
    },
    {
     "name": "stderr",
     "output_type": "stream",
     "text": [
      "Train Classification Epoch 6/20: 100%|███████████████████████████████████████████████| 129/129 [03:40<00:00,  1.71s/it]\n"
     ]
    },
    {
     "name": "stdout",
     "output_type": "stream",
     "text": [
      "Average training loss: 0.3089\n"
     ]
    },
    {
     "name": "stderr",
     "output_type": "stream",
     "text": [
      "Validate Classification Epoch 6/20: 100%|██████████████████████████████████████████████| 33/33 [00:29<00:00,  1.11it/s]\n"
     ]
    },
    {
     "name": "stdout",
     "output_type": "stream",
     "text": [
      "Validation loss: 0.4361 — Currency Acc: 0.8876, Time Acc: 0.9225, F1 (min): 0.767442, F1 (max): 0.744186\n"
     ]
    },
    {
     "name": "stderr",
     "output_type": "stream",
     "text": [
      "Train Classification Epoch 7/20: 100%|███████████████████████████████████████████████| 129/129 [03:40<00:00,  1.71s/it]\n"
     ]
    },
    {
     "name": "stdout",
     "output_type": "stream",
     "text": [
      "Average training loss: 0.2644\n"
     ]
    },
    {
     "name": "stderr",
     "output_type": "stream",
     "text": [
      "Validate Classification Epoch 7/20: 100%|██████████████████████████████████████████████| 33/33 [00:29<00:00,  1.12it/s]\n"
     ]
    },
    {
     "name": "stdout",
     "output_type": "stream",
     "text": [
      "Validation loss: 0.4659 — Currency Acc: 0.8992, Time Acc: 0.9225, F1 (min): 0.759690, F1 (max): 0.759690\n"
     ]
    },
    {
     "name": "stderr",
     "output_type": "stream",
     "text": [
      "Train Classification Epoch 8/20: 100%|███████████████████████████████████████████████| 129/129 [03:40<00:00,  1.71s/it]\n"
     ]
    },
    {
     "name": "stdout",
     "output_type": "stream",
     "text": [
      "Average training loss: 0.2124\n"
     ]
    },
    {
     "name": "stderr",
     "output_type": "stream",
     "text": [
      "Validate Classification Epoch 8/20: 100%|██████████████████████████████████████████████| 33/33 [00:29<00:00,  1.11it/s]\n"
     ]
    },
    {
     "name": "stdout",
     "output_type": "stream",
     "text": [
      "Validation loss: 0.4241 — Currency Acc: 0.9651, Time Acc: 0.9109, F1 (min): 0.786822, F1 (max): 0.748062\n"
     ]
    },
    {
     "name": "stderr",
     "output_type": "stream",
     "text": [
      "Train Classification Epoch 9/20: 100%|███████████████████████████████████████████████| 129/129 [03:40<00:00,  1.71s/it]\n"
     ]
    },
    {
     "name": "stdout",
     "output_type": "stream",
     "text": [
      "Average training loss: 0.1644\n"
     ]
    },
    {
     "name": "stderr",
     "output_type": "stream",
     "text": [
      "Validate Classification Epoch 9/20: 100%|██████████████████████████████████████████████| 33/33 [00:29<00:00,  1.11it/s]\n"
     ]
    },
    {
     "name": "stdout",
     "output_type": "stream",
     "text": [
      "Validation loss: 0.4563 — Currency Acc: 0.9690, Time Acc: 0.9574, F1 (min): 0.790698, F1 (max): 0.740310\n"
     ]
    },
    {
     "name": "stderr",
     "output_type": "stream",
     "text": [
      "Train Classification Epoch 10/20: 100%|██████████████████████████████████████████████| 129/129 [03:40<00:00,  1.71s/it]\n"
     ]
    },
    {
     "name": "stdout",
     "output_type": "stream",
     "text": [
      "Average training loss: 0.1318\n"
     ]
    },
    {
     "name": "stderr",
     "output_type": "stream",
     "text": [
      "Validate Classification Epoch 10/20: 100%|█████████████████████████████████████████████| 33/33 [00:29<00:00,  1.11it/s]\n"
     ]
    },
    {
     "name": "stdout",
     "output_type": "stream",
     "text": [
      "Validation loss: 0.4456 — Currency Acc: 0.9729, Time Acc: 0.9574, F1 (min): 0.751938, F1 (max): 0.744186\n"
     ]
    },
    {
     "name": "stderr",
     "output_type": "stream",
     "text": [
      "Train Classification Epoch 11/20: 100%|██████████████████████████████████████████████| 129/129 [03:40<00:00,  1.71s/it]\n"
     ]
    },
    {
     "name": "stdout",
     "output_type": "stream",
     "text": [
      "Average training loss: 0.1155\n"
     ]
    },
    {
     "name": "stderr",
     "output_type": "stream",
     "text": [
      "Validate Classification Epoch 11/20: 100%|█████████████████████████████████████████████| 33/33 [00:29<00:00,  1.11it/s]\n"
     ]
    },
    {
     "name": "stdout",
     "output_type": "stream",
     "text": [
      "Validation loss: 0.5279 — Currency Acc: 0.9690, Time Acc: 0.9651, F1 (min): 0.732558, F1 (max): 0.748062\n"
     ]
    },
    {
     "name": "stderr",
     "output_type": "stream",
     "text": [
      "Train Classification Epoch 12/20: 100%|██████████████████████████████████████████████| 129/129 [03:40<00:00,  1.71s/it]\n"
     ]
    },
    {
     "name": "stdout",
     "output_type": "stream",
     "text": [
      "Average training loss: 0.0868\n"
     ]
    },
    {
     "name": "stderr",
     "output_type": "stream",
     "text": [
      "Validate Classification Epoch 12/20: 100%|█████████████████████████████████████████████| 33/33 [00:29<00:00,  1.11it/s]\n"
     ]
    },
    {
     "name": "stdout",
     "output_type": "stream",
     "text": [
      "Validation loss: 0.5248 — Currency Acc: 0.9729, Time Acc: 0.9651, F1 (min): 0.748062, F1 (max): 0.779070\n"
     ]
    },
    {
     "name": "stderr",
     "output_type": "stream",
     "text": [
      "Train Classification Epoch 13/20: 100%|██████████████████████████████████████████████| 129/129 [03:40<00:00,  1.71s/it]\n"
     ]
    },
    {
     "name": "stdout",
     "output_type": "stream",
     "text": [
      "Average training loss: 0.0823\n"
     ]
    },
    {
     "name": "stderr",
     "output_type": "stream",
     "text": [
      "Validate Classification Epoch 13/20: 100%|█████████████████████████████████████████████| 33/33 [00:29<00:00,  1.11it/s]\n"
     ]
    },
    {
     "name": "stdout",
     "output_type": "stream",
     "text": [
      "Validation loss: 0.5399 — Currency Acc: 0.9845, Time Acc: 0.9767, F1 (min): 0.775194, F1 (max): 0.775194\n"
     ]
    },
    {
     "name": "stderr",
     "output_type": "stream",
     "text": [
      "Train Classification Epoch 14/20: 100%|██████████████████████████████████████████████| 129/129 [03:40<00:00,  1.71s/it]\n"
     ]
    },
    {
     "name": "stdout",
     "output_type": "stream",
     "text": [
      "Average training loss: 0.0836\n"
     ]
    },
    {
     "name": "stderr",
     "output_type": "stream",
     "text": [
      "Validate Classification Epoch 14/20: 100%|█████████████████████████████████████████████| 33/33 [00:29<00:00,  1.11it/s]\n"
     ]
    },
    {
     "name": "stdout",
     "output_type": "stream",
     "text": [
      "Validation loss: 0.5415 — Currency Acc: 0.9845, Time Acc: 0.9767, F1 (min): 0.802326, F1 (max): 0.767442\n"
     ]
    },
    {
     "name": "stderr",
     "output_type": "stream",
     "text": [
      "Train Classification Epoch 15/20: 100%|██████████████████████████████████████████████| 129/129 [03:40<00:00,  1.71s/it]\n"
     ]
    },
    {
     "name": "stdout",
     "output_type": "stream",
     "text": [
      "Average training loss: 0.0624\n"
     ]
    },
    {
     "name": "stderr",
     "output_type": "stream",
     "text": [
      "Validate Classification Epoch 15/20: 100%|█████████████████████████████████████████████| 33/33 [00:29<00:00,  1.11it/s]\n"
     ]
    },
    {
     "name": "stdout",
     "output_type": "stream",
     "text": [
      "Validation loss: 0.5791 — Currency Acc: 0.9884, Time Acc: 0.9767, F1 (min): 0.782946, F1 (max): 0.775194\n"
     ]
    },
    {
     "name": "stderr",
     "output_type": "stream",
     "text": [
      "Train Classification Epoch 16/20: 100%|██████████████████████████████████████████████| 129/129 [03:40<00:00,  1.71s/it]\n"
     ]
    },
    {
     "name": "stdout",
     "output_type": "stream",
     "text": [
      "Average training loss: 0.0535\n"
     ]
    },
    {
     "name": "stderr",
     "output_type": "stream",
     "text": [
      "Validate Classification Epoch 16/20: 100%|█████████████████████████████████████████████| 33/33 [00:29<00:00,  1.11it/s]\n"
     ]
    },
    {
     "name": "stdout",
     "output_type": "stream",
     "text": [
      "Validation loss: 0.5876 — Currency Acc: 0.9884, Time Acc: 0.9845, F1 (min): 0.802326, F1 (max): 0.771318\n"
     ]
    },
    {
     "name": "stderr",
     "output_type": "stream",
     "text": [
      "Train Classification Epoch 17/20: 100%|██████████████████████████████████████████████| 129/129 [03:40<00:00,  1.71s/it]\n"
     ]
    },
    {
     "name": "stdout",
     "output_type": "stream",
     "text": [
      "Average training loss: 0.0498\n"
     ]
    },
    {
     "name": "stderr",
     "output_type": "stream",
     "text": [
      "Validate Classification Epoch 17/20: 100%|█████████████████████████████████████████████| 33/33 [00:29<00:00,  1.11it/s]\n"
     ]
    },
    {
     "name": "stdout",
     "output_type": "stream",
     "text": [
      "Validation loss: 0.6134 — Currency Acc: 0.9884, Time Acc: 0.9767, F1 (min): 0.794574, F1 (max): 0.782946\n"
     ]
    },
    {
     "name": "stderr",
     "output_type": "stream",
     "text": [
      "Train Classification Epoch 18/20: 100%|██████████████████████████████████████████████| 129/129 [03:40<00:00,  1.71s/it]\n"
     ]
    },
    {
     "name": "stdout",
     "output_type": "stream",
     "text": [
      "Average training loss: 0.0480\n"
     ]
    },
    {
     "name": "stderr",
     "output_type": "stream",
     "text": [
      "Validate Classification Epoch 18/20: 100%|█████████████████████████████████████████████| 33/33 [00:29<00:00,  1.11it/s]\n"
     ]
    },
    {
     "name": "stdout",
     "output_type": "stream",
     "text": [
      "Validation loss: 0.5936 — Currency Acc: 0.9884, Time Acc: 0.9806, F1 (min): 0.782946, F1 (max): 0.759690\n"
     ]
    },
    {
     "name": "stderr",
     "output_type": "stream",
     "text": [
      "Train Classification Epoch 19/20: 100%|██████████████████████████████████████████████| 129/129 [03:40<00:00,  1.71s/it]\n"
     ]
    },
    {
     "name": "stdout",
     "output_type": "stream",
     "text": [
      "Average training loss: 0.0475\n"
     ]
    },
    {
     "name": "stderr",
     "output_type": "stream",
     "text": [
      "Validate Classification Epoch 19/20: 100%|█████████████████████████████████████████████| 33/33 [00:29<00:00,  1.11it/s]\n"
     ]
    },
    {
     "name": "stdout",
     "output_type": "stream",
     "text": [
      "Validation loss: 0.6062 — Currency Acc: 0.9884, Time Acc: 0.9767, F1 (min): 0.779070, F1 (max): 0.763566\n"
     ]
    },
    {
     "name": "stderr",
     "output_type": "stream",
     "text": [
      "Train Classification Epoch 20/20: 100%|██████████████████████████████████████████████| 129/129 [03:40<00:00,  1.71s/it]\n"
     ]
    },
    {
     "name": "stdout",
     "output_type": "stream",
     "text": [
      "Average training loss: 0.0472\n"
     ]
    },
    {
     "name": "stderr",
     "output_type": "stream",
     "text": [
      "Validate Classification Epoch 20/20: 100%|█████████████████████████████████████████████| 33/33 [00:29<00:00,  1.11it/s]\n"
     ]
    },
    {
     "name": "stdout",
     "output_type": "stream",
     "text": [
      "Validation loss: 0.6078 — Currency Acc: 0.9884, Time Acc: 0.9767, F1 (min): 0.775194, F1 (max): 0.771318\n"
     ]
    }
   ],
   "execution_count": 9
  },
  {
   "metadata": {
    "ExecuteTime": {
     "end_time": "2025-04-25T11:49:57.459836Z",
     "start_time": "2025-04-25T11:49:57.311169Z"
    }
   },
   "cell_type": "code",
   "source": [
    "train_loss = [0.8465, 0.7945, 0.6261, 0.4724, 0.3746, 0.3089, 0.2644, 0.2124, 0.1644, 0.1318, 0.1155, 0.0868, 0.0823, 0.0836, 0.0624, 0.0535, 0.0498, 0.0480, 0.0475, 0.0472]\n",
    "valid_loss = [0.8052, 0.7244, 0.6595, 0.5004, 0.4586, 0.4361, 0.4659, 0.4241, 0.4563, 0.4456, 0.5279, 0.5248, 0.5399, 0.5415, 0.5791, 0.5876, 0.6134, 0.5936, 0.6062, 0.6078]\n",
    "currency_acc = [0.2713, 0.5271, 0.7248, 0.8605, 0.8527, 0.8876, 0.8992, 0.9651, 0.9690, 0.9729, 0.9690, 0.9729, 0.9845, 0.9845, 0.9884, 0.9884, 0.9884, 0.9884, 0.9884, 0.9884]\n",
    "period_acc = [0.4419, 0.6085, 0.7171, 0.8217, 0.8760, 0.9225, 0.9225, 0.9109, 0.9574, 0.9574, 0.9651, 0.9651, 0.9767, 0.9767, 0.9767, 0.9845, 0.9767, 0.9806, 0.9767, 0.9767]\n",
    "min_f1 = [0.779070, 0.697674, 0.759690, 0.771318, 0.740310, 0.767442, 0.759690, 0.786822, 0.790698, 0.751938, 0.732558, 0.748062, 0.775194, 0.802326, 0.782946, 0.802326, 0.794574, 0.782946, 0.779070, 0.775194]\n",
    "max_f1 = [0.717054, 0.736434, 0.709302, 0.736434, 0.744186, 0.744186, 0.759690, 0.748062, 0.740310, 0.744186, 0.748062, 0.779070, 0.775194, 0.767442, 0.775194, 0.771318, 0.782946, 0.759690, 0.763566, 0.771318]\n",
    "\n",
    "fig, axes = plt.subplots(1, 2, figsize=(16, 5))\n",
    "step = range(1, len(train_loss) + 1)\n",
    "\n",
    "axes[0].plot(step, train_loss, label='Training Loss', marker='o')\n",
    "axes[0].plot(step, valid_loss, label='Validation Loss', marker='o')\n",
    "axes[0].set_xlabel('Step')\n",
    "axes[0].set_ylabel('Loss')\n",
    "axes[0].set_title('Training and Validation Loss')\n",
    "axes[0].legend()\n",
    "\n",
    "axes[1].plot(step, currency_acc, label='Currency Acc', marker='o')\n",
    "axes[1].plot(step, period_acc,   label='Period Acc', marker='.')\n",
    "axes[1].plot(step, min_f1,   label='Min F1', marker='s')\n",
    "axes[1].plot(step, max_f1,   label='Max F1', marker='x')\n",
    "axes[1].set_xlabel('Step')\n",
    "axes[1].set_ylabel('Metric Value')\n",
    "axes[1].set_title('min and max salary, Currency, Period')\n",
    "axes[1].legend()\n",
    "\n",
    "plt.tight_layout()\n",
    "plt.show()"
   ],
   "id": "2016215ae2b0deeb",
   "outputs": [
    {
     "data": {
      "text/plain": [
       "<Figure size 1600x500 with 2 Axes>"
      ],
      "image/png": "[encoded data removed]"
     },
     "metadata": {},
     "output_type": "display_data"
    }
   ],
   "execution_count": 20
  },
  {
   "metadata": {},
   "cell_type": "markdown",
   "source": [
    "#### Test Model\n",
    "\n",
    "We use the model’s dedicated min_* and max_* span heads to locate the numeric boundaries in the text. By taking the argmax of each head’s start/end logits, we pinpoint the most likely token indices for the salary spans.\n",
    "\n",
    "If the predicted end index comes before the start, or the extracted substring contains no digits (after stripping non‐numeric characters), we return 0 to indicate a missing or invalid span. This ensures noisy or out‐of‐context predictions don’t crash downstream code.\n",
    "\n",
    "When only one of min/max is found, we set the other equal to it. This covers cases like “Salary: 50k” where only one bound is specified, so we still produce a valid range.\n",
    "\n",
    "We then apply the currency and period classifiers on the pooled [CLS] vector to label the currency type and payment frequency."
   ],
   "id": "5d0957714aa03221"
  },
  {
   "metadata": {
    "ExecuteTime": {
     "end_time": "2025-04-25T11:07:29.759085Z",
     "start_time": "2025-04-25T11:07:29.740630Z"
    }
   },
   "cell_type": "code",
   "source": [
    "def predict_job_salary(\n",
    "        text: str,\n",
    "        model,\n",
    "        tokenizer,\n",
    "        device,\n",
    "        currency_list: list[str],\n",
    "        period_list:   list[str],\n",
    "        max_len:       int   = 4096\n",
    "):\n",
    "    model.eval()\n",
    "    enc = tokenizer(\n",
    "        text,\n",
    "        return_tensors=\"pt\",\n",
    "        return_offsets_mapping=True,\n",
    "        truncation=True,\n",
    "        padding=\"max_length\",\n",
    "        max_length=max_len,\n",
    "    )\n",
    "    input_ids      = enc[\"input_ids\"].to(device)\n",
    "    attention_mask = enc[\"attention_mask\"].to(device)\n",
    "    offsets        = enc[\"offset_mapping\"][0].tolist()\n",
    "\n",
    "    with torch.no_grad():\n",
    "        out = model(input_ids=input_ids, attention_mask=attention_mask)\n",
    "\n",
    "    def extract_span(start_logits, end_logits) -> int:\n",
    "        s_idx = start_logits[0].argmax().item()\n",
    "        e_idx = end_logits[0].argmax().item()\n",
    "        if e_idx < s_idx:\n",
    "            return 0\n",
    "        cs, _ = offsets[s_idx]\n",
    "        _, ce = offsets[e_idx]\n",
    "        raw = text[cs:ce]\n",
    "        cleaned = re.sub(r\"[^\\d\\.]\", \"\", raw)\n",
    "        if not cleaned:\n",
    "            return 0\n",
    "        try:\n",
    "            return int(round(float(cleaned)))\n",
    "        except:\n",
    "            return 0\n",
    "\n",
    "    min_val = extract_span(out[\"min_start_logits\"], out[\"min_end_logits\"])\n",
    "    max_val = extract_span(out[\"max_start_logits\"], out[\"max_end_logits\"])\n",
    "\n",
    "    if min_val == 0 and max_val == 0:\n",
    "        return 0, 0, \"None\", \"None\"\n",
    "    if min_val == 0:\n",
    "        min_val = max_val\n",
    "    elif max_val == 0:\n",
    "        max_val = min_val\n",
    "\n",
    "    curr_id = out[\"curr_logits\"].argmax(dim=1).item()\n",
    "    time_id = out[\"time_logits\"].argmax(dim=1).item()\n",
    "    currency = currency_list[curr_id]\n",
    "    period   = period_list[time_id]\n",
    "\n",
    "    return min_val, max_val, currency, period"
   ],
   "id": "863096c05058a5fc",
   "outputs": [],
   "execution_count": 5
  },
  {
   "metadata": {},
   "cell_type": "markdown",
   "source": "At epoch 13, the model reached its best combined performance: currency accuracy peaked at ~98.45%, period accuracy at ~97.67%, and the min/max salary F1 scores remained near their highest values. Since the validation loss showed no clear rebound or overfitting by then, epoch 13 offers the optimal trade-off, making it the ideal checkpoint for continued training and deployment.",
   "id": "1c0a10c9d7467a58"
  },
  {
   "metadata": {
    "ExecuteTime": {
     "end_time": "2025-04-25T11:07:35.849142Z",
     "start_time": "2025-04-25T11:07:31.460490Z"
    }
   },
   "cell_type": "code",
   "source": [
    "model_name   = \"markussagen/xlm-roberta-longformer-base-4096\"\n",
    "\n",
    "model     = MultiTaskModel(model_name, 9, 5)\n",
    "tokenizer = XLMRobertaTokenizerFast.from_pretrained(model_name)\n",
    "\n",
    "ckpt_path = \"checkpoints/c_epoch_13/pytorch_model.bin\"\n",
    "state_dict = torch.load(ckpt_path, map_location=\"cpu\")\n",
    "model.load_state_dict(state_dict, strict=False)"
   ],
   "id": "823e8be77398bb61",
   "outputs": [
    {
     "data": {
      "text/plain": [
       "<All keys matched successfully>"
      ]
     },
     "execution_count": 6,
     "metadata": {},
     "output_type": "execute_result"
    }
   ],
   "execution_count": 6
  },
  {
   "metadata": {
    "ExecuteTime": {
     "end_time": "2025-04-25T11:07:37.001688Z",
     "start_time": "2025-04-25T11:07:36.696953Z"
    }
   },
   "cell_type": "code",
   "source": [
    "df = pd.read_csv('dataset/salary_labelled_test_set.csv')\n",
    "df[\"temp\"] = df[\"job_ad_details\"].apply(lambda x: remove_html_tags(x))\n",
    "df[\"input_list\"] = df.apply(parse_salary_row, axis=1)\n",
    "\n",
    "min = df[\"y_true\"].map(lambda x: int(x.split('-')[0])).tolist()\n",
    "max = df[\"y_true\"].map(lambda x: int(x.split('-')[1])).tolist()\n",
    "currency = df[\"y_true\"].map(lambda x: x.split('-')[2]).tolist()\n",
    "period = df[\"y_true\"].map(lambda x: x.split('-')[3]).tolist()"
   ],
   "id": "85e7668a7b0ee0",
   "outputs": [],
   "execution_count": 7
  },
  {
   "metadata": {
    "ExecuteTime": {
     "end_time": "2025-04-25T11:08:42.864560Z",
     "start_time": "2025-04-25T11:07:38.202105Z"
    }
   },
   "cell_type": "code",
   "source": [
    "model.to(device)\n",
    "\n",
    "tar_min, tar_max, tar_currency, tar_period = [], [], [], []\n",
    "for i in tqdm(df[\"input_list\"].tolist()):\n",
    "    p_min, p_max, p_cur, p_per = predict_job_salary(\n",
    "        text=i,\n",
    "        model=model,\n",
    "        tokenizer=tokenizer,\n",
    "        device=device,\n",
    "        currency_list=['PHP','HKD','NZD','MYR','AUD','SGD','THB','IDR','USD'],\n",
    "        period_list=['MONTHLY','HOURLY','ANNUAL','DAILY','WEEKLY']\n",
    "    )\n",
    "    tar_min.append(p_min)\n",
    "    tar_max.append(p_max)\n",
    "    tar_currency.append(p_cur)\n",
    "    tar_period.append(p_per)"
   ],
   "id": "ab247bb607b63558",
   "outputs": [
    {
     "name": "stderr",
     "output_type": "stream",
     "text": [
      "100%|████████████████████████████████████████████████████████████████████████████████| 567/567 [01:04<00:00,  8.79it/s]\n"
     ]
    }
   ],
   "execution_count": 8
  },
  {
   "metadata": {},
   "cell_type": "markdown",
   "source": "Compute the accuracy for each of the four metrics.",
   "id": "164107e39224cabc"
  },
  {
   "metadata": {
    "ExecuteTime": {
     "end_time": "2025-04-25T11:08:58.483066Z",
     "start_time": "2025-04-25T11:08:58.470653Z"
    }
   },
   "cell_type": "code",
   "source": [
    "acc_min = sum(1 for t, p in zip(min, tar_min) if t == p) / len(min)\n",
    "acc_max = sum(1 for t, p in zip(max, tar_max) if t == p) / len(max)\n",
    "acc_currency = sum(1 for t, p in zip(currency, tar_currency) if t == p) / len(currency)\n",
    "acc_period = sum(1 for t, p in zip(period, tar_period) if t == p) / len(period)\n",
    "\n",
    "print(f\"Accuracy (min values):      {acc_min:.4f}\")\n",
    "print(f\"Accuracy (max values):      {acc_max:.4f}\")\n",
    "print(f\"Accuracy (currency labels): {acc_currency:.4f}\")\n",
    "print(f\"Accuracy (period labels):   {acc_period:.4f}\")"
   ],
   "id": "862f1103dc537100",
   "outputs": [
    {
     "name": "stdout",
     "output_type": "stream",
     "text": [
      "Accuracy (min values):      0.9347\n",
      "Accuracy (max values):      0.9136\n",
      "Accuracy (currency labels): 0.9612\n",
      "Accuracy (period labels):   0.9365\n"
     ]
    }
   ],
   "execution_count": 9
  },
  {
   "metadata": {
    "ExecuteTime": {
     "end_time": "2025-04-25T11:09:24.395113Z",
     "start_time": "2025-04-25T11:09:24.264554Z"
    }
   },
   "cell_type": "code",
   "source": [
    "disp = ConfusionMatrixDisplay.from_predictions(\n",
    "    y_true=currency,\n",
    "    y_pred=tar_currency,\n",
    "    cmap=\"Blues\",\n",
    "    normalize=None\n",
    ")\n",
    "\n",
    "plt.title(\"Confusion Matrix\")\n",
    "plt.tight_layout()\n",
    "plt.show()"
   ],
   "id": "bc640bb323ba6b34",
   "outputs": [
    {
     "data": {
      "text/plain": [
       "<Figure size 640x480 with 2 Axes>"
      ],
      "image/png": "[encoded data removed]"
     },
     "metadata": {},
     "output_type": "display_data"
    }
   ],
   "execution_count": 11
  },
  {
   "metadata": {
    "ExecuteTime": {
     "end_time": "2025-04-25T11:09:32.486244Z",
     "start_time": "2025-04-25T11:09:32.395839Z"
    }
   },
   "cell_type": "code",
   "source": [
    "disp = ConfusionMatrixDisplay.from_predictions(\n",
    "    y_true=period,\n",
    "    y_pred=tar_period,\n",
    "    cmap=\"Blues\",\n",
    "    normalize=None\n",
    ")\n",
    "\n",
    "plt.title(\"Confusion Matrix\")\n",
    "plt.tight_layout()\n",
    "plt.show()"
   ],
   "id": "e79a8adf0c641055",
   "outputs": [
    {
     "data": {
      "text/plain": [
       "<Figure size 640x480 with 2 Axes>"
      ],
      "image/png": "[encoded data removed]"
     },
     "metadata": {},
     "output_type": "display_data"
    }
   ],
   "execution_count": 13
  },
  {
   "metadata": {},
   "cell_type": "markdown",
   "source": "Compute the exact‐match accuracy across all four metrics.",
   "id": "7efdd05e66655401"
  },
  {
   "metadata": {
    "ExecuteTime": {
     "end_time": "2025-04-25T11:09:45.812192Z",
     "start_time": "2025-04-25T11:09:45.805554Z"
    }
   },
   "cell_type": "code",
   "source": [
    "exact_matches = sum(\n",
    "    1\n",
    "    for tm, pm, tx, px, tc, pc, tp, pp\n",
    "    in zip(min, tar_min,\n",
    "           max, tar_max,\n",
    "           currency, tar_currency,\n",
    "           period, tar_period)\n",
    "    if tm == pm and tx == px and tc == pc and tp == pp\n",
    ")\n",
    "\n",
    "exact_acc = exact_matches / len(min)\n",
    "print(f\"Exact match rate (min,max,currency,period): {exact_acc:.4f}\")"
   ],
   "id": "be0966f95ca3b7d9",
   "outputs": [
    {
     "name": "stdout",
     "output_type": "stream",
     "text": [
      "Exact match rate (min,max,currency,period): 0.8695\n"
     ]
    }
   ],
   "execution_count": 14
  },
  {
   "metadata": {},
   "cell_type": "markdown",
   "source": "Since we observed during training annotation that some rounded y_true values didn’t perfectly align with the text, we’ll allow a ±1 tolerance when evaluating matches.",
   "id": "1b3f17c855b27eaf"
  },
  {
   "metadata": {
    "ExecuteTime": {
     "end_time": "2025-04-25T11:10:47.979315Z",
     "start_time": "2025-04-25T11:10:47.976013Z"
    }
   },
   "cell_type": "code",
   "source": [
    "exact_matches = sum(\n",
    "    1\n",
    "    for tm, pm, tx, px, tc, pc, tp, pp\n",
    "    in zip(min, tar_min,\n",
    "           max, tar_max,\n",
    "           currency, tar_currency,\n",
    "           period, tar_period)\n",
    "    if (tm == pm or tm - 1 == pm or tm + 1 == pm) and (tx == px or tx - 1 == px or tx + 1 == px) and tc == pc and tp == pp\n",
    ")\n",
    "\n",
    "exact_acc = exact_matches / len(min)\n",
    "print(f\"Exact match rate (min,max,currency,period): {exact_acc:.4f}\")"
   ],
   "id": "b5ed28fb816265c3",
   "outputs": [
    {
     "name": "stdout",
     "output_type": "stream",
     "text": [
      "Exact match rate (min,max,currency,period): 0.8836\n"
     ]
    }
   ],
   "execution_count": 15
  },
  {
   "metadata": {},
   "cell_type": "markdown",
   "source": [
    "#### Analysis\n",
    "\n",
    "1. Component-Wise Accuracy\n",
    "\n",
    "| Metric                 | Accuracy |\n",
    "|------------------------|---------:|\n",
    "| **Min value extraction**      |   93.47 % |\n",
    "| **Max value extraction**      |   91.36 % |\n",
    "| **Currency classification**   |   96.12 % |\n",
    "| **Period classification**     |   93.65 % |\n",
    "\n",
    "- **Min vs. Max**: Extracting the minimum salary is slightly more accurate than the maximum (93.5% vs. 91.4%), suggesting the model locates lower‐bound spans more reliably.\n",
    "- **Currency & Period**: Both classification heads perform very well (>93%), with currency at 96% and period at 93.7%.\n",
    "\n",
    "\n",
    "2. Confusion Matrix Highlights\n",
    "\n",
    "Currency\n",
    "- Almost all major currencies sit on the diagonal (e.g. AUD: 72/72, HKD: 53/54).\n",
    "- The biggest off-diagonal errors involve `NZD` being confused with `None` and a few stray mislabels in rare classes like `SGD`.\n",
    "\n",
    "Period\n",
    "- `ANNUAL` and `MONTHLY` are classified almost perfectly.\n",
    "- Some confusion occurs between `HOURLY`↔️`DAILY` and `WEEKLY`↔️`MONTHLY`, as well as occasional “None” misclassifications.\n",
    "\n",
    "\n",
    "3. Exact-Match Rate (all four fields)\n",
    "\n",
    "| Setting               | Exact-Match |\n",
    "|-----------------------|------------:|\n",
    "| **Strict**            |      86.95 % |\n",
    "| **±1 Tolerance**      |      88.36 % |\n",
    "\n",
    "- **Strict**: About 87 % of records have _all four_ fields (min, max, currency, period) exactly correct.\n",
    "- **±1 Tolerance**: Allowing a ±1 difference on the numeric fields raises that to 88.4 %, capturing a few borderline rounding cases.\n",
    "\n",
    "\n",
    "4. Takeaways & Next Steps\n",
    "\n",
    "- The model is **very reliable** on currency and period classification, but there is still room to improve the **max value extraction** head.\n",
    "- Minor confusions in the tails (e.g. `NZD` vs. `None`, `WEEKLY` vs. `MONTHLY`) suggest adding a few more balanced examples or targeted data augmentation.\n",
    "- With an overall exact‐match above 86 %, this system already meets strong practical requirements;"
   ],
   "id": "4d0b1bf046bb752f"
  }
 ],
 "metadata": {
  "kernelspec": {
   "display_name": "Python 3",
   "language": "python",
   "name": "python3"
  },
  "language_info": {
   "codemirror_mode": {
    "name": "ipython",
    "version": 2
   },
   "file_extension": ".py",
   "mimetype": "text/x-python",
   "name": "python",
   "nbconvert_exporter": "python",
   "pygments_lexer": "ipython2",
   "version": "2.7.6"
  }
 },
 "nbformat": 4,
 "nbformat_minor": 5
}
