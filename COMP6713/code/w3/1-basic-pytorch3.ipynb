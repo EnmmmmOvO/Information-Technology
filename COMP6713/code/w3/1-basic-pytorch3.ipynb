{
 "cells": [
  {
   "cell_type": "code",
   "execution_count": 215,
   "id": "1404fc5b",
   "metadata": {},
   "outputs": [],
   "source": [
    "import torch\n",
    "import torch.nn as nn\n",
    "from torch.optim import Adam\n",
    "import time"
   ]
  },
  {
   "cell_type": "code",
   "execution_count": 216,
   "id": "c5e23840",
   "metadata": {},
   "outputs": [],
   "source": [
    "class ExampleModel(nn.Module):\n",
    "    def __init__(self):\n",
    "        super().__init__()\n",
    "        self.linear1 = nn.Linear(10, 5)\n",
    "        self.linear2 = nn.Linear(5, 2)\n",
    "        \n",
    "    def forward(self, x):\n",
    "        x = self.linear1(x)\n",
    "        x = self.linear2(x)\n",
    "        return x"
   ]
  },
  {
   "cell_type": "code",
   "execution_count": 217,
   "id": "7b17a6d0",
   "metadata": {},
   "outputs": [],
   "source": [
    "example = ExampleModel()"
   ]
  },
  {
   "cell_type": "code",
   "execution_count": 218,
   "id": "6a862e4e",
   "metadata": {},
   "outputs": [
    {
     "name": "stdout",
     "output_type": "stream",
     "text": [
      "tensor([-1.5136, -0.5039, -1.4082,  0.5537,  1.9155,  0.3978, -0.3439, -0.7648,\n",
      "         0.9704, -1.1627])\n"
     ]
    }
   ],
   "source": [
    "x = torch.randn(10)\n",
    "print(x)"
   ]
  },
  {
   "cell_type": "code",
   "execution_count": 219,
   "id": "74468860",
   "metadata": {},
   "outputs": [
    {
     "name": "stdout",
     "output_type": "stream",
     "text": [
      "tensor([ 0.2895, -0.1652], grad_fn=<ViewBackward0>)\n"
     ]
    }
   ],
   "source": [
    "y = example(x)\n",
    "print(y)"
   ]
  },
  {
   "cell_type": "code",
   "execution_count": 220,
   "id": "589689ca",
   "metadata": {},
   "outputs": [],
   "source": [
    "loss_fn = nn.MSELoss()\n",
    "optimizer = Adam(example.parameters())"
   ]
  },
  {
   "cell_type": "code",
   "execution_count": 221,
   "id": "37f4b217",
   "metadata": {},
   "outputs": [],
   "source": [
    "xs = torch.randn(1000, 10)\n",
    "ys = torch.rand(1000,1)\n",
    "ys = ys.float()"
   ]
  },
  {
   "cell_type": "code",
   "execution_count": 222,
   "id": "5ba77e8e",
   "metadata": {},
   "outputs": [
    {
     "name": "stdout",
     "output_type": "stream",
     "text": [
      "--- 0.003634929656982422 seconds ---\n"
     ]
    }
   ],
   "source": [
    "start_time = time.time()\n",
    "\n",
    "losses = []\n",
    "\n",
    "for epoch in range(0, 10):\n",
    "    example.train(True)\n",
    "    optimizer.zero_grad()\n",
    "    yhats = example(xs)\n",
    "    loss = loss_fn(yhats, ys)\n",
    "    loss.backward()\n",
    "    losses.append(loss)\n",
    "    optimizer.step()\n",
    "\n",
    "print(\"--- %s seconds ---\" % (time.time() - start_time))"
   ]
  },
  {
   "cell_type": "code",
   "execution_count": 223,
   "id": "1ca4c9a0",
   "metadata": {},
   "outputs": [
    {
     "data": {
      "text/plain": [
       "[tensor(0.6019, grad_fn=<MseLossBackward0>),\n",
       " tensor(0.5964, grad_fn=<MseLossBackward0>),\n",
       " tensor(0.5909, grad_fn=<MseLossBackward0>),\n",
       " tensor(0.5854, grad_fn=<MseLossBackward0>),\n",
       " tensor(0.5801, grad_fn=<MseLossBackward0>),\n",
       " tensor(0.5748, grad_fn=<MseLossBackward0>),\n",
       " tensor(0.5696, grad_fn=<MseLossBackward0>),\n",
       " tensor(0.5644, grad_fn=<MseLossBackward0>),\n",
       " tensor(0.5593, grad_fn=<MseLossBackward0>),\n",
       " tensor(0.5543, grad_fn=<MseLossBackward0>)]"
      ]
     },
     "execution_count": 223,
     "metadata": {},
     "output_type": "execute_result"
    }
   ],
   "source": [
    "losses"
   ]
  },
  {
   "cell_type": "code",
   "execution_count": 224,
   "id": "5b2299a8",
   "metadata": {},
   "outputs": [],
   "source": [
    "xs = torch.randn(1000, 10)\n",
    "ys = torch.rand(1000,1)\n",
    "ys = ys.float()\n",
    "\n",
    "xs_val = torch.randn(100, 10)\n",
    "ys_val = torch.rand(100,1)\n",
    "ys_val = ys_val.float()"
   ]
  },
  {
   "cell_type": "code",
   "execution_count": 225,
   "id": "b7d32b65",
   "metadata": {},
   "outputs": [
    {
     "name": "stdout",
     "output_type": "stream",
     "text": [
      "--- 0.003946065902709961 seconds ---\n"
     ]
    }
   ],
   "source": [
    "start_time = time.time()\n",
    "losses = []\n",
    "\n",
    "for epoch in range(0, 10):\n",
    "    example.train(True)\n",
    "    optimizer.zero_grad()\n",
    "    yhats = example(xs)\n",
    "    loss = loss_fn(yhats, ys)\n",
    "    loss.backward()\n",
    "    \n",
    "    example.eval()\n",
    "    \n",
    "    with torch.no_grad():\n",
    "        yhats_val = example(xs_val)\n",
    "        loss_val = loss_fn(yhats_val, ys_val)\n",
    "    losses.append((loss, loss_val))\n",
    "    optimizer.step()\n",
    "    \n",
    "\n",
    "print(\"--- %s seconds ---\" % (time.time() - start_time))"
   ]
  },
  {
   "cell_type": "code",
   "execution_count": 226,
   "id": "6c395eb7",
   "metadata": {},
   "outputs": [
    {
     "data": {
      "text/plain": [
       "[(tensor(0.5802, grad_fn=<MseLossBackward0>), tensor(0.5990)),\n",
       " (tensor(0.5751, grad_fn=<MseLossBackward0>), tensor(0.5928)),\n",
       " (tensor(0.5698, grad_fn=<MseLossBackward0>), tensor(0.5864)),\n",
       " (tensor(0.5646, grad_fn=<MseLossBackward0>), tensor(0.5799)),\n",
       " (tensor(0.5594, grad_fn=<MseLossBackward0>), tensor(0.5734)),\n",
       " (tensor(0.5542, grad_fn=<MseLossBackward0>), tensor(0.5669)),\n",
       " (tensor(0.5491, grad_fn=<MseLossBackward0>), tensor(0.5604)),\n",
       " (tensor(0.5440, grad_fn=<MseLossBackward0>), tensor(0.5540)),\n",
       " (tensor(0.5389, grad_fn=<MseLossBackward0>), tensor(0.5476)),\n",
       " (tensor(0.5339, grad_fn=<MseLossBackward0>), tensor(0.5412))]"
      ]
     },
     "execution_count": 226,
     "metadata": {},
     "output_type": "execute_result"
    }
   ],
   "source": [
    "losses"
   ]
  },
  {
   "cell_type": "code",
   "execution_count": 227,
   "id": "6847e705",
   "metadata": {},
   "outputs": [],
   "source": [
    "xs = torch.randn(1000, 10)\n",
    "ys = torch.rand(1000,1)\n",
    "ys = ys.float()\n",
    "\n",
    "xs_val = torch.randn(100, 10)\n",
    "ys_val = torch.rand(100,1)\n",
    "ys_val = ys_val.float()"
   ]
  },
  {
   "cell_type": "code",
   "execution_count": 228,
   "id": "69c76c39",
   "metadata": {},
   "outputs": [],
   "source": [
    "training_loader = torch.utils.data.DataLoader([[xs, ys]], batch_size=24, shuffle=True)"
   ]
  },
  {
   "cell_type": "code",
   "execution_count": 229,
   "id": "ba0ee1a7",
   "metadata": {},
   "outputs": [
    {
     "name": "stdout",
     "output_type": "stream",
     "text": [
      "--- 0.005258083343505859 seconds ---\n"
     ]
    }
   ],
   "source": [
    "start_time = time.time()\n",
    "\n",
    "losses = []\n",
    "\n",
    "for epoch in range(0, 10):\n",
    "    example.train(True)\n",
    "    optimizer.zero_grad()\n",
    "    tot_loss = 0\n",
    "    for i, data in enumerate(training_loader):\n",
    "        yhats = example(xs)\n",
    "        loss = loss_fn(yhats, ys)\n",
    "        loss.backward()\n",
    "        tot_loss += loss.item()\n",
    "        optimizer.step()\n",
    "        \n",
    "    \n",
    "    example.eval()\n",
    "    \n",
    "    with torch.no_grad():\n",
    "        yhats_val = example(xs_val)\n",
    "        loss_val = loss_fn(yhats_val, ys_val)\n",
    "    losses.append((loss, loss_val))\n",
    "\n",
    "print(\"--- %s seconds ---\" % (time.time() - start_time))"
   ]
  },
  {
   "cell_type": "code",
   "execution_count": 230,
   "id": "44e79ef8",
   "metadata": {},
   "outputs": [
    {
     "data": {
      "text/plain": [
       "[(tensor(0.4948, grad_fn=<MseLossBackward0>), tensor(0.5524)),\n",
       " (tensor(0.4905, grad_fn=<MseLossBackward0>), tensor(0.5468)),\n",
       " (tensor(0.4862, grad_fn=<MseLossBackward0>), tensor(0.5413)),\n",
       " (tensor(0.4820, grad_fn=<MseLossBackward0>), tensor(0.5359)),\n",
       " (tensor(0.4778, grad_fn=<MseLossBackward0>), tensor(0.5306)),\n",
       " (tensor(0.4736, grad_fn=<MseLossBackward0>), tensor(0.5255)),\n",
       " (tensor(0.4695, grad_fn=<MseLossBackward0>), tensor(0.5204)),\n",
       " (tensor(0.4654, grad_fn=<MseLossBackward0>), tensor(0.5155)),\n",
       " (tensor(0.4614, grad_fn=<MseLossBackward0>), tensor(0.5107)),\n",
       " (tensor(0.4574, grad_fn=<MseLossBackward0>), tensor(0.5060))]"
      ]
     },
     "execution_count": 230,
     "metadata": {},
     "output_type": "execute_result"
    }
   ],
   "source": [
    "losses"
   ]
  },
  {
   "cell_type": "code",
   "execution_count": null,
   "id": "668a9a01",
   "metadata": {},
   "outputs": [],
   "source": []
  },
  {
   "cell_type": "code",
   "execution_count": null,
   "id": "72e218b6",
   "metadata": {},
   "outputs": [],
   "source": []
  }
 ],
 "metadata": {
  "kernelspec": {
   "display_name": "Python 3 (ipykernel)",
   "language": "python",
   "name": "python3"
  },
  "language_info": {
   "codemirror_mode": {
    "name": "ipython",
    "version": 3
   },
   "file_extension": ".py",
   "mimetype": "text/x-python",
   "name": "python",
   "nbconvert_exporter": "python",
   "pygments_lexer": "ipython3",
   "version": "3.11.4"
  }
 },
 "nbformat": 4,
 "nbformat_minor": 5
}
