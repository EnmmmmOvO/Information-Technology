{
 "cells": [
  {
   "cell_type": "markdown",
   "id": "301bf561d1dfaf05",
   "metadata": {},
   "source": [
    "### COMP9517 24T3 Lab 02"
   ]
  },
  {
   "cell_type": "markdown",
   "id": "78543acca7f439b",
   "metadata": {},
   "source": [
    "Jinghan Wang (z5286124)"
   ]
  },
  {
   "cell_type": "code",
   "execution_count": null,
   "id": "1fee7d2686a30c08",
   "metadata": {
    "ExecuteTime": {
     "end_time": "2024-10-04T01:52:15.077830Z",
     "start_time": "2024-10-04T01:52:15.075645Z"
    }
   },
   "outputs": [],
   "source": [
    "import cv2\n",
    "import numpy as np\n",
    "import matplotlib.pyplot as plt"
   ]
  },
  {
   "cell_type": "code",
   "execution_count": null,
   "id": "469fee12a726ab34",
   "metadata": {
    "ExecuteTime": {
     "end_time": "2024-10-04T01:52:15.150214Z",
     "start_time": "2024-10-04T01:52:15.085874Z"
    }
   },
   "outputs": [],
   "source": [
    "left = cv2.imread('Images/left.jpeg')\n",
    "right = cv2.imread('Images/right.jpeg')"
   ]
  },
  {
   "cell_type": "markdown",
   "id": "8c2748339ec6f1ea",
   "metadata": {},
   "source": [
    "##### Task 1 (0.5 mark)"
   ]
  },
  {
   "cell_type": "markdown",
   "id": "b1fc74326dd19ee7",
   "metadata": {},
   "source": [
    "Compute the SIFT features of the two pictures."
   ]
  },
  {
   "cell_type": "markdown",
   "id": "3308a387e0719c5a",
   "metadata": {},
   "source": [
    "1. Extract the SIFT features with default parameters and show the keypoints on the pictures.\n",
    "Hint: Use existing library functions for this (see suggestions at the end).\n"
   ]
  },
  {
   "cell_type": "code",
   "execution_count": null,
   "id": "72f2205cf274d59b",
   "metadata": {
    "ExecuteTime": {
     "end_time": "2024-10-04T01:52:16.008197Z",
     "start_time": "2024-10-04T01:52:15.156587Z"
    }
   },
   "outputs": [],
   "source": [
    "left_gray = cv2.cvtColor(left, cv2.COLOR_BGR2GRAY)\n",
    "mask = np.ones(left_gray.shape, dtype=np.uint8)\n",
    "mask[0:-1, 0:1110] = 0\n",
    "\n",
    "sift = cv2.SIFT_create(contrastThreshold=0.1, nfeatures=20)\n",
    "\n",
    "keypoints, descriptors = sift.detectAndCompute(left_gray, mask=mask)\n",
    "\n",
    "keypoints_image = cv2.drawKeypoints(left, keypoints, None, flags=cv2.DRAW_MATCHES_FLAGS_DRAW_RICH_KEYPOINTS)\n",
    "\n",
    "plt.figure(figsize=(10, 10))\n",
    "plt.imshow(cv2.cvtColor(keypoints_image, cv2.COLOR_BGR2RGB))\n",
    "plt.title(\"SIFT Keypoints\")\n",
    "plt.axis(\"off\")\n",
    "plt.show()"
   ]
  },
  {
   "cell_type": "code",
   "execution_count": null,
   "id": "aeb65d111e1be6c4",
   "metadata": {
    "ExecuteTime": {
     "end_time": "2024-10-04T01:55:51.092491Z",
     "start_time": "2024-10-04T01:55:40.029888Z"
    }
   },
   "outputs": [],
   "source": [
    "right_gray = cv2.cvtColor(right, cv2.COLOR_BGR2GRAY)\n",
    "mask = np.ones(right_gray.shape, dtype=np.uint8)\n",
    "mask[0:-1, 1100:-1] = 0\n",
    "\n",
    "sift = cv2.SIFT_create(contrastThreshold=0.1, nfeatures=20)\n",
    "\n",
    "keypoints, descriptors = sift.detectAndCompute(right_gray, mask=mask)\n",
    "\n",
    "# 绘制图像和关键点标注（红色圆圈）\n",
    "plt.figure(figsize=(20, 10))\n",
    "\n",
    "plt.imshow(cv2.cvtColor(right, cv2.COLOR_BGR2RGB))\n",
    "\n",
    "for kp in keypoints:\n",
    "    plt.scatter(kp.pt[0], kp.pt[1], s=100, facecolors='none', edgecolors='r', linewidths=2)\n",
    "\n",
    "plt.title(\"SIFT Keypoints (Top 20)\")\n",
    "plt.axis(\"on\")\n",
    "\n",
    "plt.show()"
   ]
  },
  {
   "cell_type": "markdown",
   "id": "d1dc172075239149",
   "metadata": {},
   "source": [
    "2. To achieve better visualization of the keypoints, reduce their number to include only the\n",
    "~20 most prominent ones. Hint: Vary the parameter contrastThreshold or nfeatures.\n",
    "Show the results obtained in a) and b) in your Jupyter notebook (like the examples below) and\n",
    "include a brief description of the approach you used for b)."
   ]
  }
 ],
 "metadata": {
  "kernelspec": {
   "display_name": "Python 3 (ipykernel)",
   "language": "python",
   "name": "python3"
  }
 },
 "nbformat": 5,
 "nbformat_minor": 9
}
