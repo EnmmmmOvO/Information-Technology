{
 "cells": [
  {
   "cell_type": "code",
   "execution_count": 1,
   "id": "c679ac13",
   "metadata": {
    "scrolled": true
   },
   "outputs": [
    {
     "name": "stdout",
     "output_type": "stream",
     "text": [
      "Requirement already satisfied: python-crfsuite in /Users/z3539958/anaconda3/lib/python3.11/site-packages (0.9.10)\r\n"
     ]
    }
   ],
   "source": [
    "! pip install python-crfsuite"
   ]
  },
  {
   "cell_type": "code",
   "execution_count": 2,
   "id": "ccc0c7f3",
   "metadata": {},
   "outputs": [],
   "source": [
    "train_sents = [[('The', 'DT'), ('dog', 'N'), ('barks', 'V'), ('loudly', 'RB')],\n",
    "            [('The', 'DT'), ('cat', 'N'), ('meows', 'V'), ('softly', 'RB')],\n",
    "             [('The', 'DT'), ('boy', 'N'), ('ate', 'VZ'), ('rice', 'N')],\n",
    "             [('The', 'DT'), ('girl', 'N'), ('drank', 'VZ'), ('water', 'N')]\n",
    "            ]"
   ]
  },
  {
   "cell_type": "code",
   "execution_count": 7,
   "id": "a36e7a4d",
   "metadata": {},
   "outputs": [],
   "source": [
    "def word2features(sent, i):\n",
    "    word = sent[i][0]\n",
    "    postag = sent[i][1]\n",
    "\n",
    "    features = {\n",
    "        'bias': 1.0,\n",
    "        'word.lower()': word.lower(),\n",
    "        'word[-3:]': word[-3:],\n",
    "        'word[-2:]': word[-2:],\n",
    "        'word.isupper()': word.isupper(),\n",
    "        'word.istitle()': word.istitle(),\n",
    "        'word.isdigit()': word.isdigit(),\n",
    "        'postag': postag,\n",
    "        'postag[:2]': postag[:2],\n",
    "    }\n",
    "    if i > 0:\n",
    "        word1 = sent[i-1][0]\n",
    "        postag1 = sent[i-1][1]\n",
    "        features.update({\n",
    "            '-1:word.lower()': word1.lower(),\n",
    "            '-1:word.istitle()': word1.istitle(),\n",
    "            '-1:word.isupper()': word1.isupper(),\n",
    "            '-1:postag': postag1,\n",
    "            '-1:postag[:2]': postag1[:2],\n",
    "        })\n",
    "    else:\n",
    "        features['BOS'] = True\n",
    "\n",
    "    if i < len(sent)-1:\n",
    "        word1 = sent[i+1][0]\n",
    "        postag1 = sent[i+1][1]\n",
    "        features.update({\n",
    "            '+1:word.lower()': word1.lower(),\n",
    "            '+1:word.istitle()': word1.istitle(),\n",
    "            '+1:word.isupper()': word1.isupper(),\n",
    "            '+1:postag': postag1,\n",
    "            '+1:postag[:2]': postag1[:2],\n",
    "        })\n",
    "    else:\n",
    "        features['EOS'] = True\n",
    "\n",
    "    return features\n",
    "\n",
    "\n",
    "def sent2features(sent):\n",
    "    return [word2features(sent, i) for i in range(len(sent))]\n",
    "\n",
    "def sent2labels(sent):\n",
    "    return [postag for token, postag in sent]\n",
    "\n",
    "def sent2tokens(sent):\n",
    "    return [token for token, postag in sent]"
   ]
  },
  {
   "cell_type": "code",
   "execution_count": 9,
   "id": "443fb5c1",
   "metadata": {},
   "outputs": [],
   "source": [
    "X_train = [sent2features(s) for s in train_sents]\n",
    "y_train =[sent2labels(s) for s in train_sents]\n"
   ]
  },
  {
   "cell_type": "code",
   "execution_count": 10,
   "id": "ca9db457",
   "metadata": {},
   "outputs": [],
   "source": [
    "import pycrfsuite\n",
    "\n",
    "trainer = pycrfsuite.Trainer(algorithm='lbfgs', verbose=False)\n",
    "\n",
    "for xseq, yseq in zip(X_train, y_train):\n",
    "    trainer.append(xseq, yseq)"
   ]
  },
  {
   "cell_type": "code",
   "execution_count": 11,
   "id": "9ef48fc1",
   "metadata": {},
   "outputs": [],
   "source": [
    "trainer.set_params({\n",
    "    'c1': 1.0,   # coefficient for L1 penalty\n",
    "    'c2': 1e-3,  # coefficient for L2 penalty\n",
    "    'max_iterations': 50,  # stop earlier\n",
    "\n",
    "    # include transitions that are possible, but not observed\n",
    "    'feature.possible_transitions': True\n",
    "})\n",
    "\n",
    "trainer.train('postagger.crfsuite')"
   ]
  },
  {
   "cell_type": "code",
   "execution_count": 32,
   "id": "16e675cb",
   "metadata": {},
   "outputs": [],
   "source": [
    "from itertools import chain\n",
    "\n",
    "tagger = pycrfsuite.Tagger()\n",
    "tagger.open('postagger.crfsuite')\n",
    "\n",
    "test_sents = [[('The'), ('cat'), ('drinks'), ('slowly')]\n",
    "            ]\n",
    "\n",
    "X_test = [sent2features(s) for s in test_sents]\n",
    "y_pred = list(chain(*[tagger.tag(xseq) for xseq in X_test]))"
   ]
  },
  {
   "cell_type": "code",
   "execution_count": 33,
   "id": "728a53b5",
   "metadata": {},
   "outputs": [
    {
     "data": {
      "text/plain": [
       "['V', 'RB', 'V', 'RB']"
      ]
     },
     "execution_count": 33,
     "metadata": {},
     "output_type": "execute_result"
    }
   ],
   "source": [
    "y_pred"
   ]
  },
  {
   "cell_type": "code",
   "execution_count": 34,
   "id": "7629a913",
   "metadata": {},
   "outputs": [],
   "source": [
    "from itertools import chain\n",
    "\n",
    "tagger = pycrfsuite.Tagger()\n",
    "tagger.open('postagger.crfsuite')\n",
    "\n",
    "test_sents = [[('The', 'DT'), ('cat'), ('drinks'), ('slowly')]\n",
    "            ]\n",
    "\n",
    "X_test = [sent2features(s) for s in test_sents]\n",
    "y_pred = list(chain(*[tagger.tag(xseq) for xseq in X_test]))"
   ]
  },
  {
   "cell_type": "code",
   "execution_count": 35,
   "id": "dc769446",
   "metadata": {},
   "outputs": [
    {
     "data": {
      "text/plain": [
       "['DT', 'N', 'V', 'RB']"
      ]
     },
     "execution_count": 35,
     "metadata": {},
     "output_type": "execute_result"
    }
   ],
   "source": [
    "y_pred"
   ]
  }
 ],
 "metadata": {
  "kernelspec": {
   "display_name": "Python 3 (ipykernel)",
   "language": "python",
   "name": "python3"
  },
  "language_info": {
   "codemirror_mode": {
    "name": "ipython",
    "version": 3
   },
   "file_extension": ".py",
   "mimetype": "text/x-python",
   "name": "python",
   "nbconvert_exporter": "python",
   "pygments_lexer": "ipython3",
   "version": "3.11.4"
  }
 },
 "nbformat": 4,
 "nbformat_minor": 5
}
