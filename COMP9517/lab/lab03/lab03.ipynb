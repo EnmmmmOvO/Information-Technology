{
 "cells": [
  {
   "cell_type": "markdown",
   "id": "301bf561d1dfaf05",
   "metadata": {},
   "source": [
    "### COMP9517 24T3 Lab 03"
   ]
  },
  {
   "cell_type": "markdown",
   "id": "78543acca7f439b",
   "metadata": {},
   "source": [
    "Jinghan Wang (z5286124)"
   ]
  },
  {
   "metadata": {
    "ExecuteTime": {
     "end_time": "2024-10-11T04:41:14.631100Z",
     "start_time": "2024-10-11T04:41:14.626844Z"
    }
   },
   "cell_type": "code",
   "source": [
    "import numpy as np\n",
    "import pandas as pd\n",
    "import random\n",
    "from PIL import Image\n",
    "from sklearn.neighbors import KNeighborsClassifier\n",
    "from sklearn.metrics import classification_report, confusion_matrix\n",
    "from sklearn.tree import DecisionTreeClassifier\n",
    "from sklearn.linear_model import SGDClassifier\n",
    "import warnings\n",
    "warnings.filterwarnings(\"ignore\")"
   ],
   "id": "1fee7d2686a30c08",
   "outputs": [],
   "execution_count": 18
  },
  {
   "metadata": {
    "ExecuteTime": {
     "end_time": "2024-10-11T04:41:14.643777Z",
     "start_time": "2024-10-11T04:41:14.641277Z"
    }
   },
   "cell_type": "code",
   "source": "random.seed(42)",
   "id": "de202459ec3ceec5",
   "outputs": [],
   "execution_count": 19
  },
  {
   "metadata": {},
   "cell_type": "markdown",
   "source": "#### Load, Split, Reshape Dataset",
   "id": "7a6dfa5aa5d0f4b2"
  },
  {
   "metadata": {
    "ExecuteTime": {
     "end_time": "2024-10-11T04:41:14.656219Z",
     "start_time": "2024-10-11T04:41:14.654087Z"
    }
   },
   "cell_type": "code",
   "source": [
    "def load_and_reshape_image(image_path):\n",
    "    image = Image.open(f\"dataset/data/data/{image_path}\").convert('L')\n",
    "    image = image.resize((64, 64))\n",
    "    image_array = np.array(image, dtype=np.float32)\n",
    "    image_flat = image_array.flatten()\n",
    "    image_flat /= 255\n",
    "    return image_flat"
   ],
   "id": "5958860a66609a55",
   "outputs": [],
   "execution_count": 20
  },
  {
   "metadata": {
    "ExecuteTime": {
     "end_time": "2024-10-11T04:41:15.968715Z",
     "start_time": "2024-10-11T04:41:14.665048Z"
    }
   },
   "cell_type": "code",
   "source": [
    "data = pd.read_csv('dataset/chinese_mnist.csv')\n",
    "\n",
    "test = data.groupby('value').apply(lambda x: x.sample(n=66, random_state=1)).reset_index(drop=True)\n",
    "\n",
    "last_data = data.drop(test.index)\n",
    "train = last_data.groupby('value').apply(lambda x: x.sample(n=333, replace=True, random_state=1)).reset_index(drop=True)\n",
    "\n",
    "train_image = np.array([load_and_reshape_image(f\"input_{row['suite_id']}_{row['sample_id']}_{row['code']}.jpg\") for _, row in train.iterrows()])\n",
    "train_label = train['value'].values\n",
    "\n",
    "test_image = np.array([load_and_reshape_image(f\"input_{row['suite_id']}_{row['sample_id']}_{row['code']}.jpg\") for _, row in test.iterrows()])\n",
    "test_label = test['value'].values\n",
    "\n",
    "print(\"Train image data shape:\", train_image.shape)\n",
    "print(\"Train labels shape:\", train_label.shape)\n",
    "print(\"Test image data shape:\", test_image.shape)\n",
    "print(\"Test labels shape:\", test_label.shape)"
   ],
   "id": "f45bf70d4d47319a",
   "outputs": [
    {
     "name": "stdout",
     "output_type": "stream",
     "text": [
      "Train image data shape: (4995, 4096)\n",
      "Train labels shape: (4995,)\n",
      "Test image data shape: (990, 4096)\n",
      "Test labels shape: (990,)\n"
     ]
    }
   ],
   "execution_count": 21
  },
  {
   "metadata": {},
   "cell_type": "markdown",
   "source": "#### KNN",
   "id": "37eb14006aecbe29"
  },
  {
   "metadata": {
    "ExecuteTime": {
     "end_time": "2024-10-11T04:41:16.203735Z",
     "start_time": "2024-10-11T04:41:15.982199Z"
    }
   },
   "cell_type": "code",
   "source": [
    "knn = KNeighborsClassifier(n_neighbors=3)\n",
    "knn.fit(train_image, train_label)\n",
    "prediction = knn.predict(test_image)"
   ],
   "id": "2e04747eea56dcb",
   "outputs": [],
   "execution_count": 22
  },
  {
   "metadata": {},
   "cell_type": "markdown",
   "source": "##### Result",
   "id": "3f56ce34a1e3266f"
  },
  {
   "metadata": {
    "ExecuteTime": {
     "end_time": "2024-10-11T04:41:16.212906Z",
     "start_time": "2024-10-11T04:41:16.207456Z"
    }
   },
   "cell_type": "code",
   "source": "print(\"KNN Classification Report:\\n\", classification_report(test_label, prediction))",
   "id": "d32ea1294bdddb52",
   "outputs": [
    {
     "name": "stdout",
     "output_type": "stream",
     "text": [
      "KNN Classification Report:\n",
      "               precision    recall  f1-score   support\n",
      "\n",
      "           0       0.74      0.53      0.62        66\n",
      "           1       0.18      0.95      0.30        66\n",
      "           2       0.22      0.36      0.27        66\n",
      "           3       0.30      0.39      0.34        66\n",
      "           4       0.61      0.30      0.40        66\n",
      "           5       0.50      0.17      0.25        66\n",
      "           6       0.34      0.32      0.33        66\n",
      "           7       0.35      0.12      0.18        66\n",
      "           8       0.88      0.80      0.84        66\n",
      "           9       1.00      0.02      0.03        66\n",
      "          10       0.43      0.58      0.49        66\n",
      "         100       0.81      0.20      0.32        66\n",
      "        1000       0.56      0.23      0.32        66\n",
      "       10000       0.41      0.26      0.32        66\n",
      "   100000000       0.78      0.21      0.33        66\n",
      "\n",
      "    accuracy                           0.36       990\n",
      "   macro avg       0.54      0.36      0.36       990\n",
      "weighted avg       0.54      0.36      0.36       990\n",
      "\n"
     ]
    }
   ],
   "execution_count": 23
  },
  {
   "metadata": {
    "ExecuteTime": {
     "end_time": "2024-10-11T04:41:16.225500Z",
     "start_time": "2024-10-11T04:41:16.221989Z"
    }
   },
   "cell_type": "code",
   "source": "print(\"KNN Confusion Matrix:\\n\", confusion_matrix(test_label, prediction))",
   "id": "2deb6f9fac186476",
   "outputs": [
    {
     "name": "stdout",
     "output_type": "stream",
     "text": [
      "KNN Confusion Matrix:\n",
      " [[35  6  1  0  4  2  6  2  0  0  5  1  1  3  0]\n",
      " [ 0 63  2  0  0  0  0  0  0  0  1  0  0  0  0]\n",
      " [ 0 33 24  9  0  0  0  0  0  0  0  0  0  0  0]\n",
      " [ 0 23 15 26  0  0  0  2  0  0  0  0  0  0  0]\n",
      " [ 3 23  9  8 20  1  0  0  0  0  0  1  0  0  1]\n",
      " [ 0 11 25 13  0 11  0  0  0  0  3  0  0  3  0]\n",
      " [ 1 38  2  2  0  0 21  0  1  0  1  0  0  0  0]\n",
      " [ 0 28  2  8  0  2  6  8  0  0  7  0  3  1  1]\n",
      " [ 0  9  1  0  0  1  1  0 53  0  0  0  1  0  0]\n",
      " [ 3 18  4  3  3  2 13  3  0  1  7  0  0  7  2]\n",
      " [ 0 18  2  0  0  0  1  0  0  0 38  0  7  0  0]\n",
      " [ 1 15  4  7  2  2  2  3  1  0  7 13  0  9  0]\n",
      " [ 1 21  7  1  0  0  4  0  0  0 17  0 15  0  0]\n",
      " [ 2 30  4  0  1  1  5  0  4  0  2  0  0 17  0]\n",
      " [ 1 20  7  9  3  0  3  5  1  0  1  1  0  1 14]]\n"
     ]
    }
   ],
   "execution_count": 24
  },
  {
   "metadata": {},
   "cell_type": "markdown",
   "source": "#### DT",
   "id": "f17feca21966609d"
  },
  {
   "metadata": {
    "ExecuteTime": {
     "end_time": "2024-10-11T04:41:18.338242Z",
     "start_time": "2024-10-11T04:41:16.234237Z"
    }
   },
   "cell_type": "code",
   "source": [
    "dt = DecisionTreeClassifier(random_state=1)\n",
    "dt.fit(train_image, train_label)\n",
    "prediction = dt.predict(test_image)"
   ],
   "id": "6a44fae813b22fb4",
   "outputs": [],
   "execution_count": 25
  },
  {
   "metadata": {},
   "cell_type": "markdown",
   "source": "##### Result",
   "id": "d9f494031a8f9769"
  },
  {
   "metadata": {
    "ExecuteTime": {
     "end_time": "2024-10-11T04:41:18.351585Z",
     "start_time": "2024-10-11T04:41:18.346405Z"
    }
   },
   "cell_type": "code",
   "source": "print(\"Decision Tree Classification Report:\\n\", classification_report(test_label, prediction))",
   "id": "f55b10ace9e9303c",
   "outputs": [
    {
     "name": "stdout",
     "output_type": "stream",
     "text": [
      "Decision Tree Classification Report:\n",
      "               precision    recall  f1-score   support\n",
      "\n",
      "           0       0.44      0.44      0.44        66\n",
      "           1       0.63      0.79      0.70        66\n",
      "           2       0.24      0.26      0.25        66\n",
      "           3       0.20      0.24      0.22        66\n",
      "           4       0.32      0.29      0.30        66\n",
      "           5       0.17      0.17      0.17        66\n",
      "           6       0.21      0.29      0.24        66\n",
      "           7       0.21      0.24      0.23        66\n",
      "           8       0.32      0.35      0.33        66\n",
      "           9       0.20      0.02      0.03        66\n",
      "          10       0.35      0.39      0.37        66\n",
      "         100       0.21      0.18      0.19        66\n",
      "        1000       0.23      0.21      0.22        66\n",
      "       10000       0.14      0.14      0.14        66\n",
      "   100000000       0.18      0.18      0.18        66\n",
      "\n",
      "    accuracy                           0.28       990\n",
      "   macro avg       0.27      0.28      0.27       990\n",
      "weighted avg       0.27      0.28      0.27       990\n",
      "\n"
     ]
    }
   ],
   "execution_count": 26
  },
  {
   "metadata": {
    "ExecuteTime": {
     "end_time": "2024-10-11T04:41:18.362645Z",
     "start_time": "2024-10-11T04:41:18.359477Z"
    }
   },
   "cell_type": "code",
   "source": "print(\"Decision Confusion Matrix:\\n\", confusion_matrix(test_label, prediction))",
   "id": "7777c3da50c4bc54",
   "outputs": [
    {
     "name": "stdout",
     "output_type": "stream",
     "text": [
      "Decision Confusion Matrix:\n",
      " [[29  0  2  0  2  8  6  0  0  0  3  6  3  3  4]\n",
      " [ 0 52  3  1  0  0  2  1  5  0  1  0  1  0  0]\n",
      " [ 0  9 17 12  2  3  2  4  9  0  2  1  1  3  1]\n",
      " [ 4  4 10 16  0  5  7  3  1  1  3  3  7  1  1]\n",
      " [ 7  2  3  4 19  4  5  1  2  0  1  3  2  5  8]\n",
      " [ 6  2  3  5  2 11  4  6  4  0  4  6  1  8  4]\n",
      " [ 4  1  2  5  5  4 19  3  4  0  2  4  3  5  5]\n",
      " [ 1  0  5  6  3  6  5 16  3  0  4  3  4  3  7]\n",
      " [ 1  3  8  1  2  1  5  6 23  2  1  3  3  3  4]\n",
      " [ 4  1  3  6  4  2 10  8  2  1  5  4  3  6  7]\n",
      " [ 0  6  1  2  3  2  2  2  5  0 26  1 10  5  1]\n",
      " [ 2  1  2  2  5 10  4  6  7  0  4 12  0  7  4]\n",
      " [ 2  1  3  5  4  3  4  5  2  1 10  4 14  4  4]\n",
      " [ 3  0  3  6  3  4  8  8  2  0  7  3  5  9  5]\n",
      " [ 3  0  7  9  5  1  7  6  4  0  1  5  4  2 12]]\n"
     ]
    }
   ],
   "execution_count": 27
  },
  {
   "metadata": {},
   "cell_type": "markdown",
   "source": "#### SGD",
   "id": "835867630052727"
  },
  {
   "metadata": {
    "ExecuteTime": {
     "end_time": "2024-10-11T04:41:30.619755Z",
     "start_time": "2024-10-11T04:41:18.382310Z"
    }
   },
   "cell_type": "code",
   "source": [
    "sgd = SGDClassifier(max_iter=250, random_state=1)\n",
    "sgd.fit(train_image, train_label)\n",
    "prediction = sgd.predict(test_image)"
   ],
   "id": "d12cc974a71798d8",
   "outputs": [],
   "execution_count": 28
  },
  {
   "metadata": {},
   "cell_type": "markdown",
   "source": "##### Result",
   "id": "66ae44c2b7b8aa26"
  },
  {
   "metadata": {
    "ExecuteTime": {
     "end_time": "2024-10-11T04:41:30.712774Z",
     "start_time": "2024-10-11T04:41:30.691060Z"
    }
   },
   "cell_type": "code",
   "source": "print(\"SGD Classification Report:\\n\", classification_report(test_label, prediction))",
   "id": "a8990c267b714e00",
   "outputs": [
    {
     "name": "stdout",
     "output_type": "stream",
     "text": [
      "SGD Classification Report:\n",
      "               precision    recall  f1-score   support\n",
      "\n",
      "           0       0.54      0.68      0.60        66\n",
      "           1       0.58      0.80      0.67        66\n",
      "           2       0.48      0.24      0.32        66\n",
      "           3       0.39      0.30      0.34        66\n",
      "           4       0.42      0.53      0.47        66\n",
      "           5       0.31      0.35      0.33        66\n",
      "           6       0.33      0.39      0.36        66\n",
      "           7       0.29      0.36      0.32        66\n",
      "           8       0.44      0.41      0.42        66\n",
      "           9       1.00      0.02      0.03        66\n",
      "          10       0.43      0.50      0.46        66\n",
      "         100       0.23      0.24      0.23        66\n",
      "        1000       0.30      0.27      0.29        66\n",
      "       10000       0.32      0.35      0.33        66\n",
      "   100000000       0.34      0.35      0.35        66\n",
      "\n",
      "    accuracy                           0.39       990\n",
      "   macro avg       0.43      0.39      0.37       990\n",
      "weighted avg       0.43      0.39      0.37       990\n",
      "\n"
     ]
    }
   ],
   "execution_count": 29
  },
  {
   "metadata": {
    "ExecuteTime": {
     "end_time": "2024-10-11T04:41:30.756250Z",
     "start_time": "2024-10-11T04:41:30.750893Z"
    }
   },
   "cell_type": "code",
   "source": "print(\"SGD Confusion Matrix:\\n\", confusion_matrix(test_label, prediction))",
   "id": "38c4e9d9f298d062",
   "outputs": [
    {
     "name": "stdout",
     "output_type": "stream",
     "text": [
      "SGD Confusion Matrix:\n",
      " [[45  0  0  1  1  4  3  0  0  0  2  5  3  1  1]\n",
      " [ 0 53  0  2  1  0  1  1  2  0  2  0  2  0  2]\n",
      " [ 0 16 16  7  1  2  4  4  3  0  7  4  2  0  0]\n",
      " [ 1  3  8 20  1  4  2  2  4  0  2  9  5  3  2]\n",
      " [ 0  0  0  2 35  5  1  3  2  0  3  3  2  4  6]\n",
      " [ 4  1  0  3  9 23  4  2  2  0  1  6  4  2  5]\n",
      " [ 0  3  1  3  1  3 26  3  3  0  2  3  8  7  3]\n",
      " [ 0  0  4  3  1  5  2 24  3  0  5  2  4  4  9]\n",
      " [ 0  9  1  2  4  1  9  6 27  0  1  2  0  3  1]\n",
      " [ 6  0  0  3  5  6  7 11  1  1  1  5  6  5  9]\n",
      " [ 3  5  0  1  5  1  2  3  2  0 33  1  2  6  2]\n",
      " [11  0  1  0  6 11  2  4  4  0  4 16  1  6  0]\n",
      " [ 8  1  0  1  2  1  4  7  1  0 13  4 18  4  2]\n",
      " [ 4  1  0  1  4  6  4  8  4  0  1  7  1 23  2]\n",
      " [ 1  0  2  2  8  2  7  6  4  0  0  4  2  5 23]]\n"
     ]
    }
   ],
   "execution_count": 30
  },
  {
   "metadata": {},
   "cell_type": "markdown",
   "source": "##### Analyse\n",
   "id": "c6d3ff4a7cf33a75"
  },
  {
   "metadata": {},
   "cell_type": "markdown",
   "source": [
    "- **KNN (36%)**\n",
    "  KNN relies on neighboring samples. With fewer training samples, it struggles to find enough similar neighbors, leading to lower accuracy.\n",
    "- **Decision Tree (28%)**\n",
    "  The decision tree easily overfits on small datasets by memorizing specific patterns, which reduces its generalization on the test set.\n",
    "- **SGD (39%)**\n",
    "  SGD uses a linear boundary and is more robust with small samples. It performs slightly better, achieving the highest accuracy."
   ],
   "id": "873487d7bd985a6e"
  },
  {
   "metadata": {},
   "cell_type": "markdown",
   "source": "#### Increase the size of Training Set",
   "id": "7687f5efda955ff6"
  },
  {
   "metadata": {
    "ExecuteTime": {
     "end_time": "2024-10-11T04:41:32.825868Z",
     "start_time": "2024-10-11T04:41:30.776565Z"
    }
   },
   "cell_type": "code",
   "source": [
    "train = last_data.groupby('value').apply(lambda x: x.sample(n=666, replace=True, random_state=1)).reset_index(drop=True)\n",
    "train_image = np.array([load_and_reshape_image(f\"input_{row['suite_id']}_{row['sample_id']}_{row['code']}.jpg\") for _, row in train.iterrows()])\n",
    "train_label = train['value'].values"
   ],
   "id": "690ffdb1db5ef0f5",
   "outputs": [],
   "execution_count": 31
  },
  {
   "metadata": {
    "ExecuteTime": {
     "end_time": "2024-10-11T04:41:33.199317Z",
     "start_time": "2024-10-11T04:41:32.833180Z"
    }
   },
   "cell_type": "code",
   "source": [
    "knn.fit(train_image, train_label)\n",
    "prediction = knn.predict(test_image)\n",
    "print(\"KNN Classification Report:\\n\", classification_report(test_label, prediction))"
   ],
   "id": "1759c9e3b4068483",
   "outputs": [
    {
     "name": "stdout",
     "output_type": "stream",
     "text": [
      "KNN Classification Report:\n",
      "               precision    recall  f1-score   support\n",
      "\n",
      "           0       0.83      0.59      0.69        66\n",
      "           1       0.21      0.92      0.34        66\n",
      "           2       0.25      0.36      0.30        66\n",
      "           3       0.38      0.47      0.42        66\n",
      "           4       0.59      0.35      0.44        66\n",
      "           5       0.50      0.24      0.33        66\n",
      "           6       0.39      0.36      0.38        66\n",
      "           7       0.53      0.29      0.37        66\n",
      "           8       0.94      0.92      0.93        66\n",
      "           9       1.00      0.02      0.03        66\n",
      "          10       0.49      0.71      0.58        66\n",
      "         100       0.79      0.23      0.35        66\n",
      "        1000       0.56      0.36      0.44        66\n",
      "       10000       0.46      0.39      0.42        66\n",
      "   100000000       0.82      0.35      0.49        66\n",
      "\n",
      "    accuracy                           0.44       990\n",
      "   macro avg       0.58      0.44      0.43       990\n",
      "weighted avg       0.58      0.44      0.43       990\n",
      "\n"
     ]
    }
   ],
   "execution_count": 32
  },
  {
   "metadata": {
    "ExecuteTime": {
     "end_time": "2024-10-11T04:41:37.739150Z",
     "start_time": "2024-10-11T04:41:33.208667Z"
    }
   },
   "cell_type": "code",
   "source": [
    "dt.fit(train_image, train_label)\n",
    "prediction = dt.predict(test_image)\n",
    "print(\"Decision Tree Classification Report:\\n\", classification_report(test_label, prediction))"
   ],
   "id": "d4d2bc8e49784b5f",
   "outputs": [
    {
     "name": "stdout",
     "output_type": "stream",
     "text": [
      "Decision Tree Classification Report:\n",
      "               precision    recall  f1-score   support\n",
      "\n",
      "           0       0.63      0.48      0.55        66\n",
      "           1       0.71      0.79      0.75        66\n",
      "           2       0.33      0.42      0.37        66\n",
      "           3       0.25      0.33      0.29        66\n",
      "           4       0.34      0.33      0.34        66\n",
      "           5       0.29      0.30      0.30        66\n",
      "           6       0.32      0.36      0.34        66\n",
      "           7       0.32      0.32      0.32        66\n",
      "           8       0.58      0.53      0.56        66\n",
      "           9       0.50      0.02      0.03        66\n",
      "          10       0.45      0.44      0.44        66\n",
      "         100       0.26      0.33      0.29        66\n",
      "        1000       0.37      0.41      0.39        66\n",
      "       10000       0.25      0.26      0.25        66\n",
      "   100000000       0.38      0.39      0.39        66\n",
      "\n",
      "    accuracy                           0.38       990\n",
      "   macro avg       0.40      0.38      0.37       990\n",
      "weighted avg       0.40      0.38      0.37       990\n",
      "\n"
     ]
    }
   ],
   "execution_count": 33
  },
  {
   "metadata": {
    "ExecuteTime": {
     "end_time": "2024-10-11T04:41:58.495377Z",
     "start_time": "2024-10-11T04:41:37.754368Z"
    }
   },
   "cell_type": "code",
   "source": [
    "sgd.fit(train_image, train_label)\n",
    "prediction = sgd.predict(test_image)\n",
    "print(\"SGD Classification Report:\\n\", classification_report(test_label, prediction))"
   ],
   "id": "69c7148ac161f36a",
   "outputs": [
    {
     "name": "stdout",
     "output_type": "stream",
     "text": [
      "SGD Classification Report:\n",
      "               precision    recall  f1-score   support\n",
      "\n",
      "           0       0.68      0.76      0.72        66\n",
      "           1       0.59      0.83      0.69        66\n",
      "           2       0.53      0.29      0.37        66\n",
      "           3       0.33      0.44      0.37        66\n",
      "           4       0.48      0.61      0.54        66\n",
      "           5       0.42      0.44      0.43        66\n",
      "           6       0.37      0.36      0.37        66\n",
      "           7       0.40      0.44      0.42        66\n",
      "           8       0.58      0.65      0.61        66\n",
      "           9       1.00      0.02      0.03        66\n",
      "          10       0.52      0.44      0.48        66\n",
      "         100       0.36      0.38      0.37        66\n",
      "        1000       0.36      0.32      0.34        66\n",
      "       10000       0.37      0.33      0.35        66\n",
      "   100000000       0.31      0.42      0.36        66\n",
      "\n",
      "    accuracy                           0.45       990\n",
      "   macro avg       0.49      0.45      0.43       990\n",
      "weighted avg       0.49      0.45      0.43       990\n",
      "\n"
     ]
    }
   ],
   "execution_count": 34
  },
  {
   "metadata": {},
   "cell_type": "markdown",
   "source": "##### Analyse",
   "id": "87377eb4ca3c31ac"
  },
  {
   "metadata": {},
   "cell_type": "markdown",
   "source": [
    "When the training set size doubles, all models see improvement\n",
    "- KNN benefits from having more neighbors to compare, which enhances accuracy\n",
    "- The Decision Tree overfits less, allowing it to generalize better.\n",
    "- For SGD, the extra data helps it define clearer decision boundaries, leading to a more accurate classification overall."
   ],
   "id": "5cfbf4dcc7b337e"
  }
 ],
 "metadata": {
  "kernelspec": {
   "display_name": "Python 3 (ipykernel)",
   "language": "python",
   "name": "python3"
  }
 },
 "nbformat": 5,
 "nbformat_minor": 9
}
