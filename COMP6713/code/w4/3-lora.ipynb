{
 "cells": [
  {
   "cell_type": "code",
   "execution_count": 104,
   "id": "512a04d3",
   "metadata": {},
   "outputs": [],
   "source": [
    "import torch\n",
    "import torch.nn as nn\n",
    "from torch.optim import Adam\n",
    "import time\n",
    "import loralib as lora"
   ]
  },
  {
   "cell_type": "code",
   "execution_count": 105,
   "id": "601e75dc",
   "metadata": {},
   "outputs": [],
   "source": [
    "class ExampleModel(nn.Module):\n",
    "    def __init__(self):\n",
    "        super().__init__()\n",
    "        self.linear1 = nn.Linear(1000, 1000)\n",
    "        self.linear2 = nn.Linear(1000, 1000)\n",
    "        self.linear3 = nn.Linear(1000, 1000)\n",
    "        self.linear4 = nn.Linear(1000, 1000)\n",
    "        self.linear5 = nn.Linear(1000, 1000)\n",
    "        self.linear6 = nn.Linear(1000, 1000)\n",
    "        self.linear7 = nn.Linear(1000, 1000)\n",
    "        self.linear8 = nn.Linear(1000, 2)\n",
    "        \n",
    "    def forward(self, x):\n",
    "        x = self.linear1(x)\n",
    "        x = self.linear2(x)\n",
    "        x = self.linear3(x)\n",
    "        x = self.linear4(x)\n",
    "        x = self.linear5(x)\n",
    "        x = self.linear6(x)\n",
    "        x = self.linear7(x)\n",
    "        x = self.linear8(x)\n",
    "        return x"
   ]
  },
  {
   "cell_type": "code",
   "execution_count": 106,
   "id": "eb10152b",
   "metadata": {},
   "outputs": [],
   "source": [
    "class ExampleLoraModel(nn.Module):\n",
    "    def __init__(self):\n",
    "        super().__init__()\n",
    "        self.linear1 = lora.Linear(1000, 1000, r=3)\n",
    "        self.linear2 = lora.Linear(1000, 1000, r=3)\n",
    "        self.linear3 = lora.Linear(1000, 1000, r=3)\n",
    "        self.linear4 = lora.Linear(1000, 1000, r=3)\n",
    "        self.linear5 = lora.Linear(1000, 1000, r=3)\n",
    "        self.linear6 = lora.Linear(1000, 1000, r=3)\n",
    "        self.linear7 = lora.Linear(1000, 1000, r=3)\n",
    "        self.linear8 = lora.Linear(1000, 2, r = 3)\n",
    "\n",
    "        \n",
    "    def forward(self, x):\n",
    "        x = self.linear1(x)\n",
    "        x = self.linear2(x)\n",
    "        x = self.linear3(x)\n",
    "        x = self.linear4(x)\n",
    "        x = self.linear5(x)\n",
    "        x = self.linear6(x)\n",
    "        x = self.linear7(x)\n",
    "        x = self.linear8(x)\n",
    "        return x\n",
    "    \n",
    "    "
   ]
  },
  {
   "cell_type": "code",
   "execution_count": 107,
   "id": "1e34485a",
   "metadata": {},
   "outputs": [
    {
     "name": "stdout",
     "output_type": "stream",
     "text": [
      "--- 0.16100788116455078 seconds ---\n"
     ]
    }
   ],
   "source": [
    "example = ExampleModel()\n",
    "loss_fn = nn.MSELoss()\n",
    "optimizer = Adam(example.parameters())\n",
    "\n",
    "xs = torch.randn(100, 1000)\n",
    "ys = torch.rand(100,2)\n",
    "ys = ys.float()\n",
    "\n",
    "start_time = time.time()\n",
    "\n",
    "losses = []\n",
    "\n",
    "for epoch in range(0, 10):\n",
    "    example.train(True)\n",
    "    optimizer.zero_grad()\n",
    "    yhats = example(xs)\n",
    "    loss = loss_fn(yhats, ys)\n",
    "    loss.backward()\n",
    "    losses.append(loss)\n",
    "    optimizer.step()\n",
    "\n",
    "print(\"--- %s seconds ---\" % (time.time() - start_time))\n"
   ]
  },
  {
   "cell_type": "code",
   "execution_count": 108,
   "id": "ddb74308",
   "metadata": {},
   "outputs": [
    {
     "name": "stdout",
     "output_type": "stream",
     "text": [
      "--- 0.07629585266113281 seconds ---\n"
     ]
    }
   ],
   "source": [
    "exampleLora = ExampleLoraModel()\n",
    "loss_fn = nn.MSELoss()\n",
    "optimizer = Adam(example.parameters())\n",
    "\n",
    "xs = torch.randn(100, 1000)\n",
    "ys = torch.rand(100,2)\n",
    "ys = ys.float()\n",
    "\n",
    "start_time = time.time()\n",
    "lora.mark_only_lora_as_trainable(exampleLora)\n",
    "losses = []\n",
    "\n",
    "for epoch in range(0, 10):\n",
    "    example.train(True)\n",
    "    optimizer.zero_grad()\n",
    "    yhats = exampleLora(xs)\n",
    "    loss = loss_fn(yhats, ys)\n",
    "    loss.backward()\n",
    "    losses.append(loss)\n",
    "    optimizer.step()\n",
    "\n",
    "print(\"--- %s seconds ---\" % (time.time() - start_time))\n",
    "\n"
   ]
  },
  {
   "cell_type": "code",
   "execution_count": null,
   "id": "56c7f627",
   "metadata": {},
   "outputs": [],
   "source": []
  }
 ],
 "metadata": {
  "kernelspec": {
   "display_name": "Python 3 (ipykernel)",
   "language": "python",
   "name": "python3"
  },
  "language_info": {
   "codemirror_mode": {
    "name": "ipython",
    "version": 3
   },
   "file_extension": ".py",
   "mimetype": "text/x-python",
   "name": "python",
   "nbconvert_exporter": "python",
   "pygments_lexer": "ipython3",
   "version": "3.11.4"
  }
 },
 "nbformat": 4,
 "nbformat_minor": 5
}
