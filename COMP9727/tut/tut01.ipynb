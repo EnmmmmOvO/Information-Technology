{
 "cells": [
  {
   "cell_type": "markdown",
   "metadata": {
    "id": "x__QmUxMdorf"
   },
   "source": [
    "\n",
    "# **COMP9727 Recommender Systems**\n",
    "## Tutorial Week 1: Introduction to Recommender Systems\n",
    "\n",
    "@Authors: **Mingqin Yu**, **Wayne Wobcke**\n",
    "\n",
    "### Objective\n",
    "\n",
    "Welcome to Week 1 of COMP9727 Recommender Systems! This week, we will delve into the basics of Recommender Systems, understand the significance of recommendations and user feedback, and explore the different types of data that companies like Booking.com and Expedia need to collect in order to fulfil their business objectives. By the end of this tutorial, you will have a solid understanding of the function and purpose of a Recommender System, which is crucial for the upcoming weeks.\n",
    "\n",
    "### Before the tutorial\n",
    "\n",
    "Review the lecture material, particularly the types of data used by Recommender Systems and the metrics used to evaluate the effectiveness of machine learning algorithms used in Recommender Systems.\n",
    "\n",
    "### Activities\n",
    "\n",
    "1. Group Discussion: Consider one Recommender System that you are familiar with (such as Netflix, Amazon, etc.) and think about that system from a *user* point of view:\n",
    "    - What do you like about the Recommender System/recommendations provided?\n",
    "    - What do you dislike about the Recommender System/recommendations provided?\n",
    "    - What benefits does the Recommender System provide to the user?\n",
    "    - What techniques (content-based or collaborative filtering, sequential, context-aware) do you think they use?\n",
    "    - What metrics do you think they use to evaluate the Recommender System?\n",
    "    - Is the user interface easy to use?\n",
    "    - Are the recommendations easy to navigate; are there too many or too few?\n",
    "    - Are the recommendations sufficiently diverse?\n",
    "    - Are there any explanations given &ndash; if so, are they \"good\" explanations?\n",
    "    - How could the Recommender System/recommendations be improved?\n",
    "<br>&nbsp;<br>\n",
    "2. Group Discussion: Consider one company that you commonly engage with (such as Commonwealth Bank, Woolworths, etc.) and think about how that company might make use of a Recommender System from a *business* point of view:\n",
    "    - What data does this business collect about you?\n",
    "    - What products/services does this company offer?\n",
    "    - How could that data be used as the basis of a Recommender System?\n",
    "    - How would they compute recommendations (content-based or collaborative filtering, sequential, context-aware)?\n",
    "    - How should the recommendations be given to users; if on a web site, where should they be placed?\n",
    "    - When should recommendations be given to users?\n",
    "    - How many recommendations should be given at one time?\n",
    "    - What metrics would they use to evaluate the recommendations?\n",
    "    - How would they get feedback from users about the recommendations?\n",
    "    - How would that feedback be used to improve the recommendations?\n",
    "    - How much money do you think it would cost to build the Recommender System?\n",
    "    - How much money do you think they would make from using the Recommender System?"
   ]
  }
 ],
 "metadata": {
  "colab": {
   "provenance": [],
   "toc_visible": true
  },
  "kernelspec": {
   "display_name": "Python 3",
   "name": "python3"
  },
  "language_info": {
   "name": "python"
  }
 },
 "nbformat": 4,
 "nbformat_minor": 0
}
