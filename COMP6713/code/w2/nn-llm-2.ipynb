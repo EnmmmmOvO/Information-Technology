{
 "cells": [
  {
   "cell_type": "code",
   "execution_count": 57,
   "id": "de9f8f60",
   "metadata": {},
   "outputs": [],
   "source": [
    "# Based on: https://medium.com/@ilaslanduzgun/next-word-prediction-using-lstm-with-tensorflow-e2a8f63b613c\n",
    "\n",
    "import numpy as np\n",
    "import tensorflow as tf\n",
    "from tensorflow.keras.preprocessing.text import Tokenizer\n",
    "from tensorflow.keras.preprocessing.sequence import pad_sequences\n",
    "from tensorflow.keras.models import Sequential\n",
    "from tensorflow.keras.layers import Embedding, LSTM, Dense"
   ]
  },
  {
   "cell_type": "code",
   "execution_count": 58,
   "id": "281a7135",
   "metadata": {},
   "outputs": [],
   "source": [
    "text = open('mobydick-gutenberg.txt', 'r', encoding='utf-8').read()"
   ]
  },
  {
   "cell_type": "code",
   "execution_count": 59,
   "id": "024cb39f",
   "metadata": {},
   "outputs": [],
   "source": [
    "tokenizer = Tokenizer()\n",
    "#fit\n",
    "tokenizer.fit_on_texts([text])\n",
    "#assign length of word index\n",
    "total_words = len(tokenizer.word_index) + 1"
   ]
  },
  {
   "cell_type": "code",
   "execution_count": 84,
   "id": "2da13dc3",
   "metadata": {},
   "outputs": [],
   "source": [
    "#declare ngrams\n",
    "input_sequences = []\n",
    "#split the sentence from '\\n'\n",
    "for line in text.split('\\n')[0:1000]:\n",
    "    #get tokens\n",
    "    token_list = tokenizer.texts_to_sequences([line])[0]\n",
    "    for i in range(1, len(token_list)):\n",
    "        n_gram_sequence = token_list[:i+1]\n",
    "        input_sequences.append(n_gram_sequence)"
   ]
  },
  {
   "cell_type": "code",
   "execution_count": 100,
   "id": "8aaff5f6",
   "metadata": {},
   "outputs": [
    {
     "data": {
      "text/plain": [
       "array([    0,     0,     0,     0,     0,     0,     0,     0,     0,\n",
       "           0,     0, 10189,   265,   620,  1601,     2,   284],\n",
       "      dtype=int32)"
      ]
     },
     "execution_count": 100,
     "metadata": {},
     "output_type": "execute_result"
    }
   ],
   "source": [
    "input_sequences[4]"
   ]
  },
  {
   "cell_type": "code",
   "execution_count": 85,
   "id": "e381e4e9",
   "metadata": {},
   "outputs": [
    {
     "name": "stdout",
     "output_type": "stream",
     "text": [
      "['this', 'ebook', 'is', 'for', 'the', 'use', 'of', 'anyone', 'anywhere', 'in', 'the', 'united']\n"
     ]
    }
   ],
   "source": [
    "sentence_token = input_sequences[19] #\n",
    "sentence = []\n",
    "for token in sentence_token:\n",
    "    sentence.append(list((tokenizer.word_index).keys())[list((tokenizer.word_index).values()).index(token)])\n",
    "print(sentence)"
   ]
  },
  {
   "cell_type": "code",
   "execution_count": 86,
   "id": "1e46315b",
   "metadata": {},
   "outputs": [],
   "source": [
    "#maximum sentence length\n",
    "max_sequence_len = max([len(seq) for seq in input_sequences])\n",
    "# input sequences\n",
    "input_sequences = np.array(pad_sequences(input_sequences, maxlen=max_sequence_len, padding='pre'))"
   ]
  },
  {
   "cell_type": "code",
   "execution_count": 101,
   "id": "155ad1db",
   "metadata": {
    "scrolled": true
   },
   "outputs": [
    {
     "name": "stdout",
     "output_type": "stream",
     "text": [
      "17\n"
     ]
    }
   ],
   "source": [
    "print(max_sequence_len)"
   ]
  },
  {
   "cell_type": "code",
   "execution_count": 87,
   "id": "3a493c23",
   "metadata": {},
   "outputs": [],
   "source": [
    "X = input_sequences[:, :-1]\n",
    "y = input_sequences[:, -1]\n",
    "y = np.array(tf.keras.utils.to_categorical(y, num_classes=total_words))"
   ]
  },
  {
   "cell_type": "code",
   "execution_count": 88,
   "id": "581e7190",
   "metadata": {},
   "outputs": [
    {
     "name": "stdout",
     "output_type": "stream",
     "text": [
      "Model: \"sequential_6\"\n",
      "_________________________________________________________________\n",
      " Layer (type)                Output Shape              Param #   \n",
      "=================================================================\n",
      " embedding_6 (Embedding)     (None, 16, 100)           1959200   \n",
      "                                                                 \n",
      " lstm_6 (LSTM)               (None, 150)               150600    \n",
      "                                                                 \n",
      " dense_6 (Dense)             (None, 19592)             2958392   \n",
      "                                                                 \n",
      "=================================================================\n",
      "Total params: 5068192 (19.33 MB)\n",
      "Trainable params: 5068192 (19.33 MB)\n",
      "Non-trainable params: 0 (0.00 Byte)\n",
      "_________________________________________________________________\n",
      "None\n"
     ]
    }
   ],
   "source": [
    "model = Sequential()\n",
    "model.add(Embedding(total_words, 100, input_length=max_sequence_len-1))\n",
    "model.add(LSTM(150))\n",
    "model.add(Dense(total_words, activation='softmax'))\n",
    "print(model.summary())"
   ]
  },
  {
   "cell_type": "code",
   "execution_count": 89,
   "id": "b793cdba",
   "metadata": {},
   "outputs": [
    {
     "name": "stdout",
     "output_type": "stream",
     "text": [
      "Epoch 1/50\n",
      "183/183 [==============================] - 4s 20ms/step - loss: 7.7865 - accuracy: 0.0752\n",
      "Epoch 2/50\n",
      "183/183 [==============================] - 4s 20ms/step - loss: 6.4454 - accuracy: 0.0764\n",
      "Epoch 3/50\n",
      "183/183 [==============================] - 4s 20ms/step - loss: 6.2300 - accuracy: 0.0768\n",
      "Epoch 4/50\n",
      "183/183 [==============================] - 4s 20ms/step - loss: 6.0879 - accuracy: 0.0764\n",
      "Epoch 5/50\n",
      "183/183 [==============================] - 3s 19ms/step - loss: 5.9847 - accuracy: 0.0797\n",
      "Epoch 6/50\n",
      "183/183 [==============================] - 4s 20ms/step - loss: 5.8927 - accuracy: 0.0884\n",
      "Epoch 7/50\n",
      "183/183 [==============================] - 4s 20ms/step - loss: 5.7853 - accuracy: 0.0934\n",
      "Epoch 8/50\n",
      "183/183 [==============================] - 4s 20ms/step - loss: 5.6650 - accuracy: 0.1022\n",
      "Epoch 9/50\n",
      "183/183 [==============================] - 4s 20ms/step - loss: 5.5276 - accuracy: 0.1263\n",
      "Epoch 10/50\n",
      "183/183 [==============================] - 4s 20ms/step - loss: 5.3956 - accuracy: 0.1354\n",
      "Epoch 11/50\n",
      "183/183 [==============================] - 4s 19ms/step - loss: 5.2757 - accuracy: 0.1395\n",
      "Epoch 12/50\n",
      "183/183 [==============================] - 3s 19ms/step - loss: 5.1620 - accuracy: 0.1493\n",
      "Epoch 13/50\n",
      "183/183 [==============================] - 4s 20ms/step - loss: 5.0494 - accuracy: 0.1575\n",
      "Epoch 14/50\n",
      "183/183 [==============================] - 4s 21ms/step - loss: 4.9353 - accuracy: 0.1678\n",
      "Epoch 15/50\n",
      "183/183 [==============================] - 4s 22ms/step - loss: 4.8260 - accuracy: 0.1716\n",
      "Epoch 16/50\n",
      "183/183 [==============================] - 4s 20ms/step - loss: 4.7154 - accuracy: 0.1829\n",
      "Epoch 17/50\n",
      "183/183 [==============================] - 4s 20ms/step - loss: 4.6033 - accuracy: 0.1851\n",
      "Epoch 18/50\n",
      "183/183 [==============================] - 4s 21ms/step - loss: 4.4939 - accuracy: 0.1942\n",
      "Epoch 19/50\n",
      "183/183 [==============================] - 4s 21ms/step - loss: 4.3817 - accuracy: 0.2004\n",
      "Epoch 20/50\n",
      "183/183 [==============================] - 4s 20ms/step - loss: 4.2687 - accuracy: 0.2098\n",
      "Epoch 21/50\n",
      "183/183 [==============================] - 4s 19ms/step - loss: 4.1580 - accuracy: 0.2191\n",
      "Epoch 22/50\n",
      "183/183 [==============================] - 4s 20ms/step - loss: 4.0470 - accuracy: 0.2257\n",
      "Epoch 23/50\n",
      "183/183 [==============================] - 4s 20ms/step - loss: 3.9363 - accuracy: 0.2376\n",
      "Epoch 24/50\n",
      "183/183 [==============================] - 4s 21ms/step - loss: 3.8223 - accuracy: 0.2463\n",
      "Epoch 25/50\n",
      "183/183 [==============================] - 4s 21ms/step - loss: 3.7111 - accuracy: 0.2590\n",
      "Epoch 26/50\n",
      "183/183 [==============================] - 4s 21ms/step - loss: 3.6025 - accuracy: 0.2695\n",
      "Epoch 27/50\n",
      "183/183 [==============================] - 4s 20ms/step - loss: 3.4926 - accuracy: 0.2869\n",
      "Epoch 28/50\n",
      "183/183 [==============================] - 4s 21ms/step - loss: 3.3828 - accuracy: 0.3025\n",
      "Epoch 29/50\n",
      "183/183 [==============================] - 4s 21ms/step - loss: 3.2750 - accuracy: 0.3192\n",
      "Epoch 30/50\n",
      "183/183 [==============================] - 4s 20ms/step - loss: 3.1880 - accuracy: 0.3377\n",
      "Epoch 31/50\n",
      "183/183 [==============================] - 4s 20ms/step - loss: 3.0741 - accuracy: 0.3546\n",
      "Epoch 32/50\n",
      "183/183 [==============================] - 4s 21ms/step - loss: 2.9701 - accuracy: 0.3792\n",
      "Epoch 33/50\n",
      "183/183 [==============================] - 4s 20ms/step - loss: 2.8649 - accuracy: 0.3996\n",
      "Epoch 34/50\n",
      "183/183 [==============================] - 4s 21ms/step - loss: 2.7662 - accuracy: 0.4203\n",
      "Epoch 35/50\n",
      "183/183 [==============================] - 4s 20ms/step - loss: 2.6726 - accuracy: 0.4400\n",
      "Epoch 36/50\n",
      "183/183 [==============================] - 4s 20ms/step - loss: 2.5762 - accuracy: 0.4667\n",
      "Epoch 37/50\n",
      "183/183 [==============================] - 4s 21ms/step - loss: 2.4856 - accuracy: 0.4823\n",
      "Epoch 38/50\n",
      "183/183 [==============================] - 4s 21ms/step - loss: 2.3963 - accuracy: 0.5026\n",
      "Epoch 39/50\n",
      "183/183 [==============================] - 4s 21ms/step - loss: 2.3098 - accuracy: 0.5183\n",
      "Epoch 40/50\n",
      "183/183 [==============================] - 4s 20ms/step - loss: 2.2231 - accuracy: 0.5350\n",
      "Epoch 41/50\n",
      "183/183 [==============================] - 4s 21ms/step - loss: 2.1481 - accuracy: 0.5537\n",
      "Epoch 42/50\n",
      "183/183 [==============================] - 4s 20ms/step - loss: 2.0683 - accuracy: 0.5689\n",
      "Epoch 43/50\n",
      "183/183 [==============================] - 4s 20ms/step - loss: 1.9921 - accuracy: 0.5855\n",
      "Epoch 44/50\n",
      "183/183 [==============================] - 4s 21ms/step - loss: 1.9224 - accuracy: 0.5980\n",
      "Epoch 45/50\n",
      "183/183 [==============================] - 4s 20ms/step - loss: 1.8537 - accuracy: 0.6118\n",
      "Epoch 46/50\n",
      "183/183 [==============================] - 4s 21ms/step - loss: 1.7903 - accuracy: 0.6224\n",
      "Epoch 47/50\n",
      "183/183 [==============================] - 4s 20ms/step - loss: 1.7276 - accuracy: 0.6354\n",
      "Epoch 48/50\n",
      "183/183 [==============================] - 4s 20ms/step - loss: 1.6651 - accuracy: 0.6527\n",
      "Epoch 49/50\n",
      "183/183 [==============================] - 4s 20ms/step - loss: 1.6093 - accuracy: 0.6632\n",
      "Epoch 50/50\n",
      "183/183 [==============================] - 4s 21ms/step - loss: 1.5522 - accuracy: 0.6743\n"
     ]
    },
    {
     "data": {
      "text/plain": [
       "<keras.src.callbacks.History at 0x296aba750>"
      ]
     },
     "execution_count": 89,
     "metadata": {},
     "output_type": "execute_result"
    }
   ],
   "source": [
    "model.compile(loss='categorical_crossentropy', optimizer='adam', metrics=['accuracy'])\n",
    "#fit the model\n",
    "model.fit(X, y, epochs=50, verbose=1)"
   ]
  },
  {
   "cell_type": "code",
   "execution_count": 92,
   "id": "7e699347",
   "metadata": {},
   "outputs": [
    {
     "name": "stdout",
     "output_type": "stream",
     "text": [
      "1/1 [==============================] - 0s 15ms/step\n",
      "1/1 [==============================] - 0s 10ms/step\n",
      "1/1 [==============================] - 0s 10ms/step\n",
      "1/1 [==============================] - 0s 9ms/step\n",
      "1/1 [==============================] - 0s 9ms/step\n",
      "1/1 [==============================] - 0s 8ms/step\n",
      "1/1 [==============================] - 0s 8ms/step\n"
     ]
    }
   ],
   "source": [
    "#determine a text\n",
    "seed_text = \"The whale was \"\n",
    "# predict word number\n",
    "next_words = 7\n",
    "\n",
    "for _ in range(next_words):\n",
    "    #convert to token\n",
    "    token_list = tokenizer.texts_to_sequences([seed_text])[0]\n",
    "    #path sequences\n",
    "    token_list = pad_sequences([token_list], maxlen=max_sequence_len-1, padding='pre')\n",
    "    #model prediction\n",
    "    predicted = np.argmax(model.predict(token_list), axis=-1)\n",
    "    output_word = \"\"\n",
    "    # get predict words\n",
    "    for word, index in tokenizer.word_index.items():\n",
    "        if index == predicted:\n",
    "            output_word = word\n",
    "            break\n",
    "    seed_text += \" \" + output_word"
   ]
  },
  {
   "cell_type": "code",
   "execution_count": 93,
   "id": "40b3c5e3",
   "metadata": {},
   "outputs": [
    {
     "data": {
      "text/plain": [
       "'The whale was  directly over him and probably killed him'"
      ]
     },
     "execution_count": 93,
     "metadata": {},
     "output_type": "execute_result"
    }
   ],
   "source": [
    "seed_text"
   ]
  },
  {
   "cell_type": "code",
   "execution_count": 94,
   "id": "33401663",
   "metadata": {},
   "outputs": [
    {
     "name": "stdout",
     "output_type": "stream",
     "text": [
      "1/1 [==============================] - 0s 17ms/step\n",
      "1/1 [==============================] - 0s 9ms/step\n",
      "1/1 [==============================] - 0s 9ms/step\n",
      "1/1 [==============================] - 0s 9ms/step\n",
      "1/1 [==============================] - 0s 9ms/step\n",
      "1/1 [==============================] - 0s 9ms/step\n",
      "1/1 [==============================] - 0s 9ms/step\n"
     ]
    }
   ],
   "source": [
    "#determine a text\n",
    "seed_text = \"The whale was trying hard to \"\n",
    "# predict word number\n",
    "next_words = 7\n",
    "\n",
    "for _ in range(next_words):\n",
    "    #convert to token\n",
    "    token_list = tokenizer.texts_to_sequences([seed_text])[0]\n",
    "    #path sequences\n",
    "    token_list = pad_sequences([token_list], maxlen=max_sequence_len-1, padding='pre')\n",
    "    #model prediction\n",
    "    predicted = np.argmax(model.predict(token_list), axis=-1)\n",
    "    output_word = \"\"\n",
    "    # get predict words\n",
    "    for word, index in tokenizer.word_index.items():\n",
    "        if index == predicted:\n",
    "            output_word = word\n",
    "            break\n",
    "    seed_text += \" \" + output_word"
   ]
  },
  {
   "cell_type": "code",
   "execution_count": 95,
   "id": "cf27ce42",
   "metadata": {},
   "outputs": [
    {
     "data": {
      "text/plain": [
       "'The whale was trying hard to  the whale is doubtless the tormenting mild'"
      ]
     },
     "execution_count": 95,
     "metadata": {},
     "output_type": "execute_result"
    }
   ],
   "source": [
    "seed_text"
   ]
  },
  {
   "cell_type": "code",
   "execution_count": null,
   "id": "b12b140f",
   "metadata": {},
   "outputs": [],
   "source": []
  }
 ],
 "metadata": {
  "kernelspec": {
   "display_name": "Python 3 (ipykernel)",
   "language": "python",
   "name": "python3"
  },
  "language_info": {
   "codemirror_mode": {
    "name": "ipython",
    "version": 3
   },
   "file_extension": ".py",
   "mimetype": "text/x-python",
   "name": "python",
   "nbconvert_exporter": "python",
   "pygments_lexer": "ipython3",
   "version": "3.11.4"
  }
 },
 "nbformat": 4,
 "nbformat_minor": 5
}
