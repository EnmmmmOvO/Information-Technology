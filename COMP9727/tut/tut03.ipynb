{
 "cells": [
  {
   "cell_type": "markdown",
   "metadata": {
    "id": "-s1W60mw49PK"
   },
   "source": [
    "# **COMP9727 Recommender Systems**\n",
    "## Tutorial Week 3: Collaborative Filtering\n",
    "\n",
    "@Author: **Mingqin Yu**\n",
    "\n",
    "@Reviewer: **Wayne Wobcke**\n",
    "\n",
    "### Objective\n",
    "\n",
    "The aim of the tutorial is to become more familiar with collaborative filtering for use in ratings prediction, focusing on neighbourhood methods (user-based similarity and item-based similarity). This could be useful for the project, where this can form the basis of a recommender system.\n",
    "\n",
    "### Before the tutorial\n",
    "\n",
    "1. Review the lecture material on collaborative filtering and top-N metrics for evaluation of recommendation models.\n",
    "\n",
    "2. Read, understand and run all the code in the NLP pipeline below, and come prepared to discuss the answers to some of the questions.\n",
    "\n",
    "3. Have a look at the `seaborn` library for visualization."
   ]
  },
  {
   "cell_type": "markdown",
   "metadata": {
    "id": "F2Byk7jWPpkB"
   },
   "source": [
    "### Ratings Prediction Pipeline\n",
    "\n",
    "1. **Environment Setup and Data Exploration**\n",
    "    - Install necessary libraries and packages\n",
    "    - Load the built-in MovieLens dataset\n",
    "    - Load user data\n",
    "    - Load movie data\n",
    "2. **Initial Data Analysis**\n",
    "    - Display individual user ratings\n",
    "    - Display ratings for a specific movie\n",
    "    - Visualize the data\n",
    "3. **Build the Collaborative Filtering Model**\n",
    "    - Load custom dataset in `surprise`\n",
    "    - Split data into training and test sets\n",
    "    - Build k-Nearest Neighbours model\n",
    "4. **Model Evaluation**\n",
    "    - Calculate predictions on the test set\n",
    "    - Evaluate error using RMSE\n",
    "5. **Using Predictions to Provide Recommendations**\n",
    "    - Calculate personalized movie recommendations for users\n",
    "\n",
    "**Specific Learning Objectives**\n",
    "\n",
    "1. **Understand**\n",
    "    - Differences between collaborative filtering and content-based recommendation\n",
    "2. **Apply** \n",
    "    - Learn how to set up and use the `scikit-surprise` library to building a collaborative filtering recommender system\n",
    "3. **Analyse**\n",
    "    - Choose appropriate metrics to evaluate the performance of the recommendation model\n",
    "4. **Evaluate**\n",
    "    - Understand the differences between artificial problems and real-world applications of recommender systems"
   ]
  },
  {
   "cell_type": "markdown",
   "metadata": {
    "id": "0Tuv8k1uQ3DD"
   },
   "source": [
    "## Ratings Prediction and Recommendation Pipeline"
   ]
  },
  {
   "cell_type": "markdown",
   "metadata": {},
   "source": [
    "### 1. Environment Setup and Data Exploration\n",
    "\n",
    "__Step 1. Install libraries and packages__\n",
    "\n",
    "Install (or import) the following packages\n",
    "   - `pandas`: Data manipulation and analysis library\n",
    "   - `matplotlib`: Plotting library\n",
    "   - `scikit-surprise`: Provides tools for building collaborative filtering recommender systems\n",
    "   - `seaborn`: Data visualization library based on `matplotlib`"
   ]
  },
  {
   "cell_type": "code",
   "execution_count": null,
   "metadata": {
    "id": "mCN-IU07RUtW"
   },
   "outputs": [],
   "source": [
    "import pandas as pd\n",
    "import matplotlib.pyplot as plt\n",
    "\n",
    "# Careful: It might be better to install these outside Jupyter\n",
    "!pip install scikit-surprise\n",
    "!pip install seaborn"
   ]
  },
  {
   "cell_type": "markdown",
   "metadata": {
    "id": "OYFYhAHYRkKZ"
   },
   "source": [
    "__Step 2. Load and Explore the Built-In MovieLens Dataset__\n",
    "\n",
    "Install the MovieLens `ml-100k` dataset and convert it to a DataFrame for further analysis\n",
    "\n",
    "- **Functions & Methods**\n",
    "  - `Dataset.load_builtin()`: Loads a dataset from the `surprise` library\n",
    "  - `pd.DataFrame()`: Converts raw data into a structured DataFrame\n",
    "- **Parameters & Settings**\n",
    "  - `ml-100k`: The dataset name, representing a collection of 100,000 movie ratings"
   ]
  },
  {
   "cell_type": "code",
   "execution_count": null,
   "metadata": {
    "colab": {
     "base_uri": "https://localhost:8080/"
    },
    "id": "oDT5z9DhRp1g",
    "outputId": "cd89a48d-1dff-4fca-d85b-45f389e00577"
   },
   "outputs": [],
   "source": [
    "import pandas as pd\n",
    "from surprise import Dataset\n",
    "\n",
    "data = Dataset.load_builtin('ml-100k')\n",
    "raw_data = data.raw_ratings\n",
    "\n",
    "ratings = pd.DataFrame(raw_data, columns=['userId', 'movieId', 'rating', 'timestamp'])\n",
    "print(\"First few rows of the ratings DataFrame:\")\n",
    "print(ratings.head())"
   ]
  },
  {
   "cell_type": "markdown",
   "metadata": {
    "id": "DZ6PHwJ_x4SN"
   },
   "source": [
    "__Step 3. Load User Data__\n",
    "\n",
    "\n",
    "Fetch user-specific data from an online source to understand user demographics and attributes\n",
    "\n",
    "- **Functions & Methods**\n",
    "  - `pd.read_csv()`: Reads a CSV file and converts it into a DataFrame\n",
    "- **Parameters & Settings**\n",
    "  - `sep='|'`: Specifies the delimiter used in the data source\n",
    "  - `names=user_cols`: Defines the column names for the DataFrame\n",
    "  - `encoding='latin-1'`: Specifies the character encoding used in the data source"
   ]
  },
  {
   "cell_type": "code",
   "execution_count": null,
   "metadata": {
    "colab": {
     "base_uri": "https://localhost:8080/"
    },
    "id": "gZ19o7g2sV8Q",
    "outputId": "3fad35ac-985d-4a31-f1e8-8e3182c7dca1"
   },
   "outputs": [],
   "source": [
    "# Define the column names\n",
    "user_cols = ['userId', 'age', 'gender', 'occupation', 'zip_code']\n",
    "\n",
    "# Load the data into a pandas DataFrame\n",
    "users = pd.read_csv('http://files.grouplens.org/datasets/movielens/ml-100k/u.user', sep='|', names=user_cols, encoding='latin-1')\n",
    "\n",
    "print(\"First few rows of the users DataFrame:\")\n",
    "print(users.head())"
   ]
  },
  {
   "cell_type": "markdown",
   "metadata": {
    "id": "F5euqoBPx52R"
   },
   "source": [
    "__Step 4. Load Movie Data__\n",
    "\n",
    "Obtain details about movies, including title, release date and genres\n",
    "\n",
    "- **Functions & Methods**\n",
    "   - `pd.read_csv()`: Reads a CSV file and converts it into a DataFrame\n",
    "- **Parameters & Settings**\n",
    "  - `sep='|'`: Specifies the delimiter used in the data source\n",
    "  - `names=item_cols`: Defines the column names for the DataFrame\n",
    "  - `encoding='latin-1'`: Specifies the character encoding used in the data source"
   ]
  },
  {
   "cell_type": "code",
   "execution_count": null,
   "metadata": {
    "colab": {
     "base_uri": "https://localhost:8080/"
    },
    "id": "5OfENz-Lsc0I",
    "outputId": "6a4332d0-6c64-4587-e55b-0bda77a7b60a"
   },
   "outputs": [],
   "source": [
    "# Define the column names\n",
    "item_cols = ['movieId', 'movie title', 'release date', 'video release date', 'IMDb URL', 'unknown', 'Action', 'Adventure', 'Animation', 'Children\\'s', 'Comedy', 'Crime', 'Documentary', 'Drama', 'Fantasy', 'Film-Noir', 'Horror', 'Musical', 'Mystery', 'Romance', 'Sci-Fi', 'Thriller', 'War', 'Western']\n",
    "\n",
    "# Load the data into a pandas DataFrame\n",
    "movies = pd.read_csv('http://files.grouplens.org/datasets/movielens/ml-100k/u.item', sep='|', names=item_cols, encoding='latin-1')\n",
    "\n",
    "pd.set_option('display.width', 150)\n",
    "print(\"First few rows of the movies DataFrame:\")\n",
    "print(movies.head())"
   ]
  },
  {
   "cell_type": "markdown",
   "metadata": {
    "id": "P_Wybbe_R1rz"
   },
   "source": [
    "### 2. Initial Data Analysis\n",
    "\n",
    "__Step 1. Display an Individual User's Ratings__\n",
    "\n",
    "Extract and view ratings provided by a particular user to understand individual preferences\n",
    "\n",
    "- **Functions & Methods**:\n",
    "  - DataFrame filtering: Uses boolean indexing to filter rows based on a condition\n",
    "- **Parameters & Settings**:\n",
    "   - `ratings['userId'] == '196'`: The condition to filter ratings for the user with ID '196'"
   ]
  },
  {
   "cell_type": "code",
   "execution_count": null,
   "metadata": {
    "colab": {
     "base_uri": "https://localhost:8080/"
    },
    "id": "s5yM2DerR-h0",
    "outputId": "84603b8c-9d14-4a34-a1db-0e5f8ec14a26"
   },
   "outputs": [],
   "source": [
    "specific_user_ratings = ratings[ratings['userId'] == '196']\n",
    "print(f\"Ratings provided by user 196:\\n {specific_user_ratings}\")"
   ]
  },
  {
   "cell_type": "markdown",
   "metadata": {
    "id": "q-D1afNDygn3"
   },
   "source": [
    "__Step 2. Display Ratings for a Specific Movie__\n",
    "\n",
    "Fetch and display ratings given to a specific movie (in this case, movie ID '50') by different users\n",
    "\n",
    "- **Functions & Methods**\n",
    "  - DataFrame filtering: Uses boolean indexing to filter rows based on a condition\n",
    "- **Parameters & Settings**\n",
    "  - `ratings['movieId'] == '50'`: The condition to filter ratings for the movie with ID '50'"
   ]
  },
  {
   "cell_type": "code",
   "execution_count": null,
   "metadata": {
    "colab": {
     "base_uri": "https://localhost:8080/"
    },
    "id": "AoFMaicstCIP",
    "outputId": "a9485662-2b84-4bbc-b369-0fa556848903"
   },
   "outputs": [],
   "source": [
    "# Display ratings given to a specific movie (e.g. movie ID '50') by different users\n",
    "specific_movie_ratings = ratings[ratings['movieId'] == '50']\n",
    "print(f\"Ratings for movie ID 50:\\n {specific_movie_ratings}\")"
   ]
  },
  {
   "cell_type": "markdown",
   "metadata": {
    "id": "8KYCXAmUSKwl"
   },
   "source": [
    "__Step 3. Visualize the Data__\n",
    "\n",
    "Visualize the distribution of ratings in the dataset\n",
    "\n",
    "- **Functions & Methods**\n",
    "  - `sns.set_style()`: Set the aesthetic style of the plots\n",
    "  - `plt.figure()`: Create a new figure for plotting\n",
    "  - `sns.countplot()`: Show the counts of observations in each categorical bin\n",
    "  - `plt.title()`: Set the title for the plot\n",
    "  - `plt.show()`: Display the figure\n",
    "- **Parameters & Settings**\n",
    "  - `\"whitegrid\"`: Grid style for the plot\n",
    "   - `figsize=(8,6)`: Figure size\n",
    "   - `x='rating'`: Column in the DataFrame to be used for the x-axis\n",
    "   - `data=ratings`: DataFrame source for the plot"
   ]
  },
  {
   "cell_type": "code",
   "execution_count": null,
   "metadata": {
    "colab": {
     "base_uri": "https://localhost:8080/",
     "height": 564
    },
    "id": "PhP6pkFYSQS3",
    "outputId": "2bbfeae5-828b-4c44-f1ab-d41c96b3bce8"
   },
   "outputs": [],
   "source": [
    "import matplotlib.pyplot as plt\n",
    "import seaborn as sns\n",
    "\n",
    "sns.set_style(\"whitegrid\")\n",
    "plt.figure(figsize=(8,6))\n",
    "sns.countplot(x='rating', data=ratings)\n",
    "plt.title('Distribution of Ratings')\n",
    "plt.show()"
   ]
  },
  {
   "cell_type": "markdown",
   "metadata": {
    "id": "f4DFP3B5SZrs"
   },
   "source": [
    "### 3. Build the Collaborative Filtering Model\n",
    "\n",
    "__Step 1. Load Custom Dataset in Surprise__\n",
    "\n",
    "Convert the ratings DataFrame into a format suitable for the `surprise` library\n",
    "\n",
    "- **Functions & Methods**:\n",
    "  - `Reader()`: A parser to read the dataset\n",
    "  - `Dataset.load_from_df()`: Load a dataset from a pandas DataFrame\n",
    "- **Parameters & Settings**:\n",
    "  - `rating_scale=(0.5, 5)`: Specifies the rating scale\n",
    "  - `ratings[['userId', 'movieId', 'rating']]`: Columns from the DataFrame to be loaded\n",
    "  - `reader`: The reader object to parse the dataset"
   ]
  },
  {
   "cell_type": "code",
   "execution_count": null,
   "metadata": {
    "id": "puhAqj8uSezv"
   },
   "outputs": [],
   "source": [
    "from surprise import Reader\n",
    "\n",
    "reader = Reader(rating_scale=(0.5, 5))\n",
    "data = Dataset.load_from_df(ratings[['userId', 'movieId', 'rating']], reader)"
   ]
  },
  {
   "cell_type": "markdown",
   "metadata": {
    "id": "dem3e2loSjyQ"
   },
   "source": [
    "__Step 2. Split Data into Training and Test Sets__\n",
    "\n",
    "Split the dataset into training and test sets for model evaluation\n",
    "\n",
    "- **Functions & Methods**\n",
    "  - `train_test_split()`: Split the dataset into training and test sets\n",
    "- **Parameters & Settings**\n",
    "  - `test_size=0.2`: Specifies that 20% of the data will be used for testing"
   ]
  },
  {
   "cell_type": "code",
   "execution_count": null,
   "metadata": {
    "id": "bv9oSqgtSpw5"
   },
   "outputs": [],
   "source": [
    "from surprise.model_selection import train_test_split\n",
    "\n",
    "trainset, testset = train_test_split(data, test_size=0.2)"
   ]
  },
  {
   "cell_type": "markdown",
   "metadata": {
    "id": "SaeBW9EzSyPN"
   },
   "source": [
    "__Step 3. Build k-Nearest Neighbours Model__\n",
    "\n",
    "Initialize and train a k-Nearest Neighbours model for recommendations\n",
    "\n",
    "- **Functions & Methods**\n",
    "  - `KNNBasic()`: A basic collaborative filtering algorithm based on k-nearest neighbours\n",
    "   - `fit()`: Train the model on the training set\n",
    "- **Parameters & Settings**\n",
    "  - `trainset`: The training data"
   ]
  },
  {
   "cell_type": "code",
   "execution_count": null,
   "metadata": {
    "colab": {
     "base_uri": "https://localhost:8080/"
    },
    "id": "2LzVjw0zSzti",
    "outputId": "fdc7876e-ac42-4ac1-da8c-985b41107e6d"
   },
   "outputs": [],
   "source": [
    "from surprise import KNNBasic\n",
    "\n",
    "algo = KNNBasic()\n",
    "algo.fit(trainset)"
   ]
  },
  {
   "cell_type": "markdown",
   "metadata": {
    "id": "gtNqEeJF0tBL"
   },
   "source": [
    "### 4. Model Evaluation\n",
    "\n",
    "__Step 1. Calculate Predictions on the Test Set__\n",
    "\n",
    "To make predictions on ratings for user-item pairs in the test set and understand the model's output on unseen data.\n",
    "\n",
    "- **Functions & Methods**\n",
    "  - `test()`: This method of the trained model is used to make predictions on a given set of data"
   ]
  },
  {
   "cell_type": "code",
   "execution_count": null,
   "metadata": {
    "colab": {
     "base_uri": "https://localhost:8080/"
    },
    "id": "bRBPoH_IS-V0",
    "outputId": "1494d939-5200-4120-a191-2b5b6678a019"
   },
   "outputs": [],
   "source": [
    "predictions = algo.test(testset)\n",
    "for pred in predictions[:3]:\n",
    "    print(pred)"
   ]
  },
  {
   "cell_type": "markdown",
   "metadata": {
    "id": "dgx743p9TGdX"
   },
   "source": [
    "__Step 2. Evaluate Error using RMSE__\n",
    "\n",
    "To evaluate the performance of the model on the test set using RMSE (lower is better)\n",
    "\n",
    "- **Functions & Methods**:\n",
    "  - `accuracy.rmse()`: Computes the Root Mean Squared Error (RMSE) between the true ratings and the predicted ratings\n",
    "- **Parameters & Settings**:\n",
    "  - `RMSE`: A measure of the differences between values (ratings) predicted by the model and the actual observed values"
   ]
  },
  {
   "cell_type": "code",
   "execution_count": null,
   "metadata": {
    "colab": {
     "base_uri": "https://localhost:8080/"
    },
    "id": "4cQUhfvYTH3E",
    "outputId": "dfbc1c15-03d3-47a7-ee51-dd28d0f531e1"
   },
   "outputs": [],
   "source": [
    "from surprise import accuracy\n",
    "\n",
    "accuracy.rmse(predictions)"
   ]
  },
  {
   "cell_type": "markdown",
   "metadata": {
    "id": "r7nFo-FVTZXO"
   },
   "source": [
    "### 5. Using Predictions to Provide Recommendations\n",
    "\n",
    "__Step 1. Calculate personalized movie recommendations for users__\n",
    "\n",
    "To fetch top recommendations for users based on the trained model. A function is implemented that fetches the top N recommendations for each user. Once this function is ready, it can be utilized to display the top 10 (or any other number) recommendations for specific users\n",
    "\n",
    "- **Functions & Methods**\n",
    "  - Custom function (not directly provided but hinted at): A function that processes predictions and extracts the top N recommendations for each user."
   ]
  },
  {
   "cell_type": "code",
   "execution_count": null,
   "metadata": {
    "id": "Bmh_YhtVTbWf"
   },
   "outputs": [],
   "source": [
    "def get_top_n_recommendations(predictions, n=10):\n",
    "    top_n = {}\n",
    "\n",
    "    for uid, iid, true_r, est, _ in predictions:\n",
    "        top_n.setdefault(uid, []).append((iid, est))\n",
    "\n",
    "    for uid, user_ratings in top_n.items():\n",
    "        user_ratings.sort(key=lambda x: x[1], reverse=True)\n",
    "        top_n[uid] = user_ratings[:n]\n",
    "\n",
    "    return top_n\n",
    "\n",
    "top_n = get_top_n_recommendations(predictions, n=10)\n",
    "\n",
    "for uid, user_ratings in list(top_n.items())[:3]:\n",
    "    print(f\"Top 10 recommendations for user {uid}: {', '.join([iid for iid, _ in user_ratings])}\")"
   ]
  },
  {
   "cell_type": "markdown",
   "metadata": {
    "id": "5vjQsj-tdTY7"
   },
   "source": [
    "## Discussion Questions\n",
    "\n",
    "Experiment with the above code before class and think about the answers to the following questions. It does not matter if you do not do all the questions; the main thing is to do some of them and come to class ready for the discussion.\n",
    "\n",
    "1. **Ratings Data**\n",
    "    - What do you notice about the ratings scale and the distribution of ratings?\n",
    "    - What is the \"sparsity\" of the ratings matrix, i.e. what proportion of values are undefined?\n",
    "    - Does this make prediction/recommendation easier or harder?\n",
    "2. **User Characteristics**\n",
    "    - Analyse the demographics (age, occupation, etc.) of users in the dataset. Discuss any potential biases present.\n",
    "    - If you have time, see if any of those potential biases are present in the data.\n",
    "3. **Movie Characteristics**\n",
    "    - Analyse movies based on their genres and discuss any noticeable trends or popular genres in the dataset.\n",
    "    - Are certain genres more likely to receive higher ratings?\n",
    "    - How might the release date of a movie influence its ratings?\n",
    "    - How might the timestamps of the recommendations be utilized?\n",
    "4. **Model Building**\n",
    "    - What is the default value of k used in `surprise`?\n",
    "    - What is the effect of different values of k on prediction and recommendation?\n",
    "    - What is the default similarity measure used in `surprise`?\n",
    "    - What is the effect of different similarity measures on prediction and recommendation?\n",
    "4. **Model Evaluation**\n",
    "    - How does the training/test split work in this scenario? How does this affect the reliability of the evaluation?\n",
    "    - Compare the RMSE achieved with different configurations or hyperparameters of the model.\n",
    "    - What can we say about how well the method would work for on cold start problems (for both users and movies)?\n",
    "    - How can the method be adjusted to provide more diverse recommendations?\n",
    "    - Suggest a more suitable evaluation setup, including metrics, for these scenarios.\n",
    "5. **Recommendation**\n",
    "    - Compare the ratings of a few specific users. Discuss any similarities and differences observed.\n",
    "    - How can individual user ratings be utilized to improve the recommendations?\n",
    "    - How might outliers or extreme ratings from specific users affect the model?\n",
    "    - How might overfitting manifest in the context of recommendation systems based on predictions?\n",
    "    - How would this recommender system work in real time?"
   ]
  }
 ],
 "metadata": {
  "colab": {
   "provenance": []
  },
  "kernelspec": {
   "display_name": "Python 3",
   "name": "python3"
  },
  "language_info": {
   "codemirror_mode": {
    "name": "ipython",
    "version": 3
   },
   "file_extension": ".py",
   "mimetype": "text/x-python",
   "name": "python",
   "nbconvert_exporter": "python",
   "pygments_lexer": "ipython3",
   "version": "3.8.12"
  }
 },
 "nbformat": 4,
 "nbformat_minor": 0
}
